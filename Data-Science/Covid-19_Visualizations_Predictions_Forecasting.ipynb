{
 "cells": [
  {
   "cell_type": "code",
   "execution_count": 1,
   "metadata": {},
   "outputs": [],
   "source": [
    "import warnings\n",
    "warnings.filterwarnings('ignore')"
   ]
  },
  {
   "cell_type": "code",
   "execution_count": 4,
   "metadata": {},
   "outputs": [],
   "source": [
    "import datetime as dt\n",
    "from datetime import timedelta"
   ]
  },
  {
   "cell_type": "code",
   "execution_count": 3,
   "metadata": {},
   "outputs": [],
   "source": [
    "import pandas as pd\n",
    "import matplotlib.pyplot as plt\n",
    "import seaborn as sns\n",
    "import numpy as np"
   ]
  },
  {
   "cell_type": "code",
   "execution_count": 5,
   "metadata": {},
   "outputs": [],
   "source": [
    "covid=pd.read_csv(\"novel-corona-virus-2019-dataset/covid_19_data.csv\")"
   ]
  },
  {
   "cell_type": "code",
   "execution_count": 6,
   "metadata": {},
   "outputs": [
    {
     "data": {
      "text/html": [
       "<div>\n",
       "<style scoped>\n",
       "    .dataframe tbody tr th:only-of-type {\n",
       "        vertical-align: middle;\n",
       "    }\n",
       "\n",
       "    .dataframe tbody tr th {\n",
       "        vertical-align: top;\n",
       "    }\n",
       "\n",
       "    .dataframe thead th {\n",
       "        text-align: right;\n",
       "    }\n",
       "</style>\n",
       "<table border=\"1\" class=\"dataframe\">\n",
       "  <thead>\n",
       "    <tr style=\"text-align: right;\">\n",
       "      <th></th>\n",
       "      <th>SNo</th>\n",
       "      <th>ObservationDate</th>\n",
       "      <th>Province/State</th>\n",
       "      <th>Country/Region</th>\n",
       "      <th>Last Update</th>\n",
       "      <th>Confirmed</th>\n",
       "      <th>Deaths</th>\n",
       "      <th>Recovered</th>\n",
       "    </tr>\n",
       "  </thead>\n",
       "  <tbody>\n",
       "    <tr>\n",
       "      <th>0</th>\n",
       "      <td>1</td>\n",
       "      <td>01/22/2020</td>\n",
       "      <td>Anhui</td>\n",
       "      <td>Mainland China</td>\n",
       "      <td>1/22/2020 17:00</td>\n",
       "      <td>1.0</td>\n",
       "      <td>0.0</td>\n",
       "      <td>0.0</td>\n",
       "    </tr>\n",
       "    <tr>\n",
       "      <th>1</th>\n",
       "      <td>2</td>\n",
       "      <td>01/22/2020</td>\n",
       "      <td>Beijing</td>\n",
       "      <td>Mainland China</td>\n",
       "      <td>1/22/2020 17:00</td>\n",
       "      <td>14.0</td>\n",
       "      <td>0.0</td>\n",
       "      <td>0.0</td>\n",
       "    </tr>\n",
       "    <tr>\n",
       "      <th>2</th>\n",
       "      <td>3</td>\n",
       "      <td>01/22/2020</td>\n",
       "      <td>Chongqing</td>\n",
       "      <td>Mainland China</td>\n",
       "      <td>1/22/2020 17:00</td>\n",
       "      <td>6.0</td>\n",
       "      <td>0.0</td>\n",
       "      <td>0.0</td>\n",
       "    </tr>\n",
       "    <tr>\n",
       "      <th>3</th>\n",
       "      <td>4</td>\n",
       "      <td>01/22/2020</td>\n",
       "      <td>Fujian</td>\n",
       "      <td>Mainland China</td>\n",
       "      <td>1/22/2020 17:00</td>\n",
       "      <td>1.0</td>\n",
       "      <td>0.0</td>\n",
       "      <td>0.0</td>\n",
       "    </tr>\n",
       "    <tr>\n",
       "      <th>4</th>\n",
       "      <td>5</td>\n",
       "      <td>01/22/2020</td>\n",
       "      <td>Gansu</td>\n",
       "      <td>Mainland China</td>\n",
       "      <td>1/22/2020 17:00</td>\n",
       "      <td>0.0</td>\n",
       "      <td>0.0</td>\n",
       "      <td>0.0</td>\n",
       "    </tr>\n",
       "  </tbody>\n",
       "</table>\n",
       "</div>"
      ],
      "text/plain": [
       "   SNo ObservationDate Province/State  Country/Region      Last Update  \\\n",
       "0    1      01/22/2020          Anhui  Mainland China  1/22/2020 17:00   \n",
       "1    2      01/22/2020        Beijing  Mainland China  1/22/2020 17:00   \n",
       "2    3      01/22/2020      Chongqing  Mainland China  1/22/2020 17:00   \n",
       "3    4      01/22/2020         Fujian  Mainland China  1/22/2020 17:00   \n",
       "4    5      01/22/2020          Gansu  Mainland China  1/22/2020 17:00   \n",
       "\n",
       "   Confirmed  Deaths  Recovered  \n",
       "0        1.0     0.0        0.0  \n",
       "1       14.0     0.0        0.0  \n",
       "2        6.0     0.0        0.0  \n",
       "3        1.0     0.0        0.0  \n",
       "4        0.0     0.0        0.0  "
      ]
     },
     "execution_count": 6,
     "metadata": {},
     "output_type": "execute_result"
    }
   ],
   "source": [
    "covid.head()"
   ]
  },
  {
   "cell_type": "code",
   "execution_count": 7,
   "metadata": {},
   "outputs": [],
   "source": [
    "covid.drop([\"SNo\"],1,inplace=True)"
   ]
  },
  {
   "cell_type": "code",
   "execution_count": 8,
   "metadata": {},
   "outputs": [
    {
     "data": {
      "text/html": [
       "<div>\n",
       "<style scoped>\n",
       "    .dataframe tbody tr th:only-of-type {\n",
       "        vertical-align: middle;\n",
       "    }\n",
       "\n",
       "    .dataframe tbody tr th {\n",
       "        vertical-align: top;\n",
       "    }\n",
       "\n",
       "    .dataframe thead th {\n",
       "        text-align: right;\n",
       "    }\n",
       "</style>\n",
       "<table border=\"1\" class=\"dataframe\">\n",
       "  <thead>\n",
       "    <tr style=\"text-align: right;\">\n",
       "      <th></th>\n",
       "      <th>ObservationDate</th>\n",
       "      <th>Province/State</th>\n",
       "      <th>Country/Region</th>\n",
       "      <th>Last Update</th>\n",
       "      <th>Confirmed</th>\n",
       "      <th>Deaths</th>\n",
       "      <th>Recovered</th>\n",
       "    </tr>\n",
       "  </thead>\n",
       "  <tbody>\n",
       "    <tr>\n",
       "      <th>0</th>\n",
       "      <td>01/22/2020</td>\n",
       "      <td>Anhui</td>\n",
       "      <td>Mainland China</td>\n",
       "      <td>1/22/2020 17:00</td>\n",
       "      <td>1.0</td>\n",
       "      <td>0.0</td>\n",
       "      <td>0.0</td>\n",
       "    </tr>\n",
       "    <tr>\n",
       "      <th>38</th>\n",
       "      <td>01/23/2020</td>\n",
       "      <td>Anhui</td>\n",
       "      <td>Mainland China</td>\n",
       "      <td>1/23/20 17:00</td>\n",
       "      <td>9.0</td>\n",
       "      <td>0.0</td>\n",
       "      <td>0.0</td>\n",
       "    </tr>\n",
       "    <tr>\n",
       "      <th>95</th>\n",
       "      <td>01/24/2020</td>\n",
       "      <td>Anhui</td>\n",
       "      <td>Mainland China</td>\n",
       "      <td>1/24/20 17:00</td>\n",
       "      <td>15.0</td>\n",
       "      <td>0.0</td>\n",
       "      <td>0.0</td>\n",
       "    </tr>\n",
       "    <tr>\n",
       "      <th>131</th>\n",
       "      <td>01/25/2020</td>\n",
       "      <td>Anhui</td>\n",
       "      <td>Mainland China</td>\n",
       "      <td>1/25/20 17:00</td>\n",
       "      <td>39.0</td>\n",
       "      <td>0.0</td>\n",
       "      <td>0.0</td>\n",
       "    </tr>\n",
       "    <tr>\n",
       "      <th>176</th>\n",
       "      <td>01/26/2020</td>\n",
       "      <td>Anhui</td>\n",
       "      <td>Mainland China</td>\n",
       "      <td>1/26/20 16:00</td>\n",
       "      <td>60.0</td>\n",
       "      <td>0.0</td>\n",
       "      <td>0.0</td>\n",
       "    </tr>\n",
       "    <tr>\n",
       "      <th>...</th>\n",
       "      <td>...</td>\n",
       "      <td>...</td>\n",
       "      <td>...</td>\n",
       "      <td>...</td>\n",
       "      <td>...</td>\n",
       "      <td>...</td>\n",
       "      <td>...</td>\n",
       "    </tr>\n",
       "    <tr>\n",
       "      <th>22376</th>\n",
       "      <td>05/07/2020</td>\n",
       "      <td>Anhui</td>\n",
       "      <td>Mainland China</td>\n",
       "      <td>2020-05-08 02:32:32</td>\n",
       "      <td>991.0</td>\n",
       "      <td>6.0</td>\n",
       "      <td>985.0</td>\n",
       "    </tr>\n",
       "    <tr>\n",
       "      <th>22699</th>\n",
       "      <td>05/08/2020</td>\n",
       "      <td>Anhui</td>\n",
       "      <td>Mainland China</td>\n",
       "      <td>2020-05-09 02:32:35</td>\n",
       "      <td>991.0</td>\n",
       "      <td>6.0</td>\n",
       "      <td>985.0</td>\n",
       "    </tr>\n",
       "    <tr>\n",
       "      <th>23022</th>\n",
       "      <td>05/09/2020</td>\n",
       "      <td>Anhui</td>\n",
       "      <td>Mainland China</td>\n",
       "      <td>2020-05-10 02:32:30</td>\n",
       "      <td>991.0</td>\n",
       "      <td>6.0</td>\n",
       "      <td>985.0</td>\n",
       "    </tr>\n",
       "    <tr>\n",
       "      <th>23345</th>\n",
       "      <td>05/10/2020</td>\n",
       "      <td>Anhui</td>\n",
       "      <td>Mainland China</td>\n",
       "      <td>2020-05-11 02:32:30</td>\n",
       "      <td>991.0</td>\n",
       "      <td>6.0</td>\n",
       "      <td>985.0</td>\n",
       "    </tr>\n",
       "    <tr>\n",
       "      <th>23668</th>\n",
       "      <td>05/11/2020</td>\n",
       "      <td>Anhui</td>\n",
       "      <td>Mainland China</td>\n",
       "      <td>2020-05-12 03:32:27</td>\n",
       "      <td>991.0</td>\n",
       "      <td>6.0</td>\n",
       "      <td>985.0</td>\n",
       "    </tr>\n",
       "  </tbody>\n",
       "</table>\n",
       "<p>111 rows × 7 columns</p>\n",
       "</div>"
      ],
      "text/plain": [
       "      ObservationDate Province/State  Country/Region          Last Update  \\\n",
       "0          01/22/2020          Anhui  Mainland China      1/22/2020 17:00   \n",
       "38         01/23/2020          Anhui  Mainland China        1/23/20 17:00   \n",
       "95         01/24/2020          Anhui  Mainland China        1/24/20 17:00   \n",
       "131        01/25/2020          Anhui  Mainland China        1/25/20 17:00   \n",
       "176        01/26/2020          Anhui  Mainland China        1/26/20 16:00   \n",
       "...               ...            ...             ...                  ...   \n",
       "22376      05/07/2020          Anhui  Mainland China  2020-05-08 02:32:32   \n",
       "22699      05/08/2020          Anhui  Mainland China  2020-05-09 02:32:35   \n",
       "23022      05/09/2020          Anhui  Mainland China  2020-05-10 02:32:30   \n",
       "23345      05/10/2020          Anhui  Mainland China  2020-05-11 02:32:30   \n",
       "23668      05/11/2020          Anhui  Mainland China  2020-05-12 03:32:27   \n",
       "\n",
       "       Confirmed  Deaths  Recovered  \n",
       "0            1.0     0.0        0.0  \n",
       "38           9.0     0.0        0.0  \n",
       "95          15.0     0.0        0.0  \n",
       "131         39.0     0.0        0.0  \n",
       "176         60.0     0.0        0.0  \n",
       "...          ...     ...        ...  \n",
       "22376      991.0     6.0      985.0  \n",
       "22699      991.0     6.0      985.0  \n",
       "23022      991.0     6.0      985.0  \n",
       "23345      991.0     6.0      985.0  \n",
       "23668      991.0     6.0      985.0  \n",
       "\n",
       "[111 rows x 7 columns]"
      ]
     },
     "execution_count": 8,
     "metadata": {},
     "output_type": "execute_result"
    }
   ],
   "source": [
    "covid[covid['Province/State']=='Anhui']"
   ]
  },
  {
   "cell_type": "code",
   "execution_count": 9,
   "metadata": {},
   "outputs": [
    {
     "name": "stdout",
     "output_type": "stream",
     "text": [
      "Checking Data-type of each column:\n",
      " ObservationDate     object\n",
      "Province/State      object\n",
      "Country/Region      object\n",
      "Last Update         object\n",
      "Confirmed          float64\n",
      "Deaths             float64\n",
      "Recovered          float64\n",
      "dtype: object\n"
     ]
    }
   ],
   "source": [
    "print(\"Checking Data-type of each column:\\n\",covid.dtypes)"
   ]
  },
  {
   "cell_type": "code",
   "execution_count": 10,
   "metadata": {},
   "outputs": [
    {
     "name": "stdout",
     "output_type": "stream",
     "text": [
      "<class 'pandas.core.frame.DataFrame'>\n",
      "RangeIndex: 23804 entries, 0 to 23803\n",
      "Data columns (total 7 columns):\n",
      " #   Column           Non-Null Count  Dtype  \n",
      "---  ------           --------------  -----  \n",
      " 0   ObservationDate  23804 non-null  object \n",
      " 1   Province/State   11426 non-null  object \n",
      " 2   Country/Region   23804 non-null  object \n",
      " 3   Last Update      23804 non-null  object \n",
      " 4   Confirmed        23804 non-null  float64\n",
      " 5   Deaths           23804 non-null  float64\n",
      " 6   Recovered        23804 non-null  float64\n",
      "dtypes: float64(3), object(4)\n",
      "memory usage: 1.3+ MB\n"
     ]
    }
   ],
   "source": [
    "covid.info()"
   ]
  },
  {
   "cell_type": "code",
   "execution_count": 11,
   "metadata": {},
   "outputs": [],
   "source": [
    "#Converting \"Observation Date\" into Datetime format\n",
    "covid[\"ObservationDate\"]=pd.to_datetime(covid[\"ObservationDate\"])"
   ]
  },
  {
   "cell_type": "code",
   "execution_count": 12,
   "metadata": {},
   "outputs": [],
   "source": [
    "#Grouping different types of cases as per the date\n",
    "datewise=covid.groupby([\"ObservationDate\"]).agg({\"Confirmed\":'sum',\"Recovered\":'sum',\"Deaths\":'sum'})\n",
    "datewise[\"Days Since\"]=datewise.index-datewise.index.min()"
   ]
  },
  {
   "cell_type": "code",
   "execution_count": 13,
   "metadata": {},
   "outputs": [
    {
     "name": "stdout",
     "output_type": "stream",
     "text": [
      "Totol number of countries with Disease Spread:  222\n"
     ]
    }
   ],
   "source": [
    "print(\"Totol number of countries with Disease Spread: \",len(covid[\"Country/Region\"].unique()))"
   ]
  },
  {
   "cell_type": "code",
   "execution_count": 14,
   "metadata": {},
   "outputs": [
    {
     "data": {
      "text/plain": [
       "Confirmed            4.1775e+06\n",
       "Recovered           1.45621e+06\n",
       "Deaths                   286330\n",
       "Days Since    110 days 00:00:00\n",
       "Name: 2020-05-11 00:00:00, dtype: object"
      ]
     },
     "execution_count": 14,
     "metadata": {},
     "output_type": "execute_result"
    }
   ],
   "source": [
    "datewise.iloc[-1]"
   ]
  },
  {
   "cell_type": "code",
   "execution_count": 15,
   "metadata": {},
   "outputs": [
    {
     "name": "stdout",
     "output_type": "stream",
     "text": [
      "Total number of Confirmed Cases around the World:  4177504.0\n"
     ]
    }
   ],
   "source": [
    "print(\"Total number of Confirmed Cases around the World: \",datewise[\"Confirmed\"].iloc[-1])"
   ]
  },
  {
   "cell_type": "code",
   "execution_count": 16,
   "metadata": {},
   "outputs": [
    {
     "data": {
      "text/plain": [
       "(111, 4)"
      ]
     },
     "execution_count": 16,
     "metadata": {},
     "output_type": "execute_result"
    }
   ],
   "source": [
    "datewise.shape"
   ]
  },
  {
   "cell_type": "code",
   "execution_count": 17,
   "metadata": {},
   "outputs": [
    {
     "data": {
      "text/plain": [
       "37635.0"
      ]
     },
     "execution_count": 17,
     "metadata": {},
     "output_type": "execute_result"
    }
   ],
   "source": [
    "np.round(datewise[\"Confirmed\"].iloc[-1]/datewise.shape[0])"
   ]
  },
  {
   "cell_type": "code",
   "execution_count": 18,
   "metadata": {},
   "outputs": [
    {
     "data": {
      "text/plain": [
       "(array([  0,   1,   2,   3,   4,   5,   6,   7,   8,   9,  10,  11,  12,\n",
       "         13,  14,  15,  16,  17,  18,  19,  20,  21,  22,  23,  24,  25,\n",
       "         26,  27,  28,  29,  30,  31,  32,  33,  34,  35,  36,  37,  38,\n",
       "         39,  40,  41,  42,  43,  44,  45,  46,  47,  48,  49,  50,  51,\n",
       "         52,  53,  54,  55,  56,  57,  58,  59,  60,  61,  62,  63,  64,\n",
       "         65,  66,  67,  68,  69,  70,  71,  72,  73,  74,  75,  76,  77,\n",
       "         78,  79,  80,  81,  82,  83,  84,  85,  86,  87,  88,  89,  90,\n",
       "         91,  92,  93,  94,  95,  96,  97,  98,  99, 100, 101, 102, 103,\n",
       "        104, 105, 106, 107, 108, 109, 110]),\n",
       " <a list of 111 Text major ticklabel objects>)"
      ]
     },
     "execution_count": 18,
     "metadata": {},
     "output_type": "execute_result"
    },
    {
     "data": {
      "image/png": "[encoded data removed]",
      "text/plain": [
       "<Figure size 1080x504 with 1 Axes>"
      ]
     },
     "metadata": {
      "needs_background": "light"
     },
     "output_type": "display_data"
    }
   ],
   "source": [
    "plt.figure(figsize=(15,7))\n",
    "sns.barplot(x=datewise.index.date, y=datewise[\"Confirmed\"]-datewise[\"Recovered\"]-datewise[\"Deaths\"])\n",
    "plt.title(\"Distribution Plot for Active Cases Cases over Date\")\n",
    "plt.xticks(rotation=90)"
   ]
  },
  {
   "cell_type": "code",
   "execution_count": 19,
   "metadata": {},
   "outputs": [],
   "source": [
    "datewise[\"WeekOfYear\"]=datewise.index.weekofyear"
   ]
  },
  {
   "cell_type": "code",
   "execution_count": 20,
   "metadata": {},
   "outputs": [
    {
     "data": {
      "text/html": [
       "<div>\n",
       "<style scoped>\n",
       "    .dataframe tbody tr th:only-of-type {\n",
       "        vertical-align: middle;\n",
       "    }\n",
       "\n",
       "    .dataframe tbody tr th {\n",
       "        vertical-align: top;\n",
       "    }\n",
       "\n",
       "    .dataframe thead th {\n",
       "        text-align: right;\n",
       "    }\n",
       "</style>\n",
       "<table border=\"1\" class=\"dataframe\">\n",
       "  <thead>\n",
       "    <tr style=\"text-align: right;\">\n",
       "      <th></th>\n",
       "      <th>Confirmed</th>\n",
       "      <th>Recovered</th>\n",
       "      <th>Deaths</th>\n",
       "      <th>Days Since</th>\n",
       "      <th>WeekOfYear</th>\n",
       "    </tr>\n",
       "    <tr>\n",
       "      <th>ObservationDate</th>\n",
       "      <th></th>\n",
       "      <th></th>\n",
       "      <th></th>\n",
       "      <th></th>\n",
       "      <th></th>\n",
       "    </tr>\n",
       "  </thead>\n",
       "  <tbody>\n",
       "    <tr>\n",
       "      <th>2020-01-22</th>\n",
       "      <td>555.0</td>\n",
       "      <td>28.0</td>\n",
       "      <td>17.0</td>\n",
       "      <td>0 days</td>\n",
       "      <td>4</td>\n",
       "    </tr>\n",
       "    <tr>\n",
       "      <th>2020-01-23</th>\n",
       "      <td>653.0</td>\n",
       "      <td>30.0</td>\n",
       "      <td>18.0</td>\n",
       "      <td>1 days</td>\n",
       "      <td>4</td>\n",
       "    </tr>\n",
       "    <tr>\n",
       "      <th>2020-01-24</th>\n",
       "      <td>941.0</td>\n",
       "      <td>36.0</td>\n",
       "      <td>26.0</td>\n",
       "      <td>2 days</td>\n",
       "      <td>4</td>\n",
       "    </tr>\n",
       "    <tr>\n",
       "      <th>2020-01-25</th>\n",
       "      <td>1438.0</td>\n",
       "      <td>39.0</td>\n",
       "      <td>42.0</td>\n",
       "      <td>3 days</td>\n",
       "      <td>4</td>\n",
       "    </tr>\n",
       "    <tr>\n",
       "      <th>2020-01-26</th>\n",
       "      <td>2118.0</td>\n",
       "      <td>52.0</td>\n",
       "      <td>56.0</td>\n",
       "      <td>4 days</td>\n",
       "      <td>4</td>\n",
       "    </tr>\n",
       "  </tbody>\n",
       "</table>\n",
       "</div>"
      ],
      "text/plain": [
       "                 Confirmed  Recovered  Deaths Days Since  WeekOfYear\n",
       "ObservationDate                                                     \n",
       "2020-01-22           555.0       28.0    17.0     0 days           4\n",
       "2020-01-23           653.0       30.0    18.0     1 days           4\n",
       "2020-01-24           941.0       36.0    26.0     2 days           4\n",
       "2020-01-25          1438.0       39.0    42.0     3 days           4\n",
       "2020-01-26          2118.0       52.0    56.0     4 days           4"
      ]
     },
     "execution_count": 20,
     "metadata": {},
     "output_type": "execute_result"
    }
   ],
   "source": [
    "datewise.head()"
   ]
  },
  {
   "cell_type": "code",
   "execution_count": 21,
   "metadata": {},
   "outputs": [],
   "source": [
    "week_num=[]\n",
    "weekwise_confirmed=[]\n",
    "weekwise_recovered=[]\n",
    "weekwise_deaths=[]\n",
    "for i in list(datewise[\"WeekOfYear\"].unique()):\n",
    "    weekwise_confirmed.append(datewise[datewise[\"WeekOfYear\"]==i][\"Confirmed\"].iloc[-1])\n",
    "    weekwise_recovered.append(datewise[datewise[\"WeekOfYear\"]==i][\"Recovered\"].iloc[-1])\n",
    "    weekwise_deaths.append(datewise[datewise[\"WeekOfYear\"]==i][\"Deaths\"].iloc[-1])\n",
    "    week_num.append(i)"
   ]
  },
  {
   "cell_type": "code",
   "execution_count": 22,
   "metadata": {},
   "outputs": [
    {
     "data": {
      "text/plain": [
       "<matplotlib.legend.Legend at 0x24332bb6948>"
      ]
     },
     "execution_count": 22,
     "metadata": {},
     "output_type": "execute_result"
    },
    {
     "data": {
      "image/png": "[encoded data removed]",
      "text/plain": [
       "<Figure size 576x360 with 1 Axes>"
      ]
     },
     "metadata": {
      "needs_background": "light"
     },
     "output_type": "display_data"
    }
   ],
   "source": [
    "plt.figure(figsize=(8,5))\n",
    "plt.plot(week_num,weekwise_confirmed,linewidth=3, label='Confirmed')\n",
    "plt.plot(week_num,weekwise_recovered,linewidth=3, label = 'Recovered')\n",
    "plt.plot(week_num,weekwise_deaths,linewidth=3, label = 'Death')\n",
    "plt.ylabel(\"Number of Cases\")\n",
    "plt.xlabel(\"Week Number\")\n",
    "plt.title(\"Weekly progress of Different Types of Cases\")\n",
    "plt.legend()"
   ]
  },
  {
   "cell_type": "code",
   "execution_count": 23,
   "metadata": {},
   "outputs": [],
   "source": [
    "datewise[\"Mortality Rate\"]=(datewise[\"Deaths\"]/datewise[\"Confirmed\"])*100\n",
    "datewise[\"Recovery Rate\"]=(datewise[\"Recovered\"]/datewise[\"Confirmed\"])*100\n",
    "datewise[\"Active Cases\"]=datewise[\"Confirmed\"]-datewise[\"Recovered\"]-datewise[\"Deaths\"]\n",
    "datewise[\"Closed Cases\"]=datewise[\"Recovered\"]+datewise[\"Deaths\"]"
   ]
  },
  {
   "cell_type": "code",
   "execution_count": 24,
   "metadata": {},
   "outputs": [
    {
     "data": {
      "text/html": [
       "<div>\n",
       "<style scoped>\n",
       "    .dataframe tbody tr th:only-of-type {\n",
       "        vertical-align: middle;\n",
       "    }\n",
       "\n",
       "    .dataframe tbody tr th {\n",
       "        vertical-align: top;\n",
       "    }\n",
       "\n",
       "    .dataframe thead th {\n",
       "        text-align: right;\n",
       "    }\n",
       "</style>\n",
       "<table border=\"1\" class=\"dataframe\">\n",
       "  <thead>\n",
       "    <tr style=\"text-align: right;\">\n",
       "      <th></th>\n",
       "      <th>Confirmed</th>\n",
       "      <th>Recovered</th>\n",
       "      <th>Deaths</th>\n",
       "      <th>Days Since</th>\n",
       "      <th>WeekOfYear</th>\n",
       "      <th>Mortality Rate</th>\n",
       "      <th>Recovery Rate</th>\n",
       "      <th>Active Cases</th>\n",
       "      <th>Closed Cases</th>\n",
       "    </tr>\n",
       "    <tr>\n",
       "      <th>ObservationDate</th>\n",
       "      <th></th>\n",
       "      <th></th>\n",
       "      <th></th>\n",
       "      <th></th>\n",
       "      <th></th>\n",
       "      <th></th>\n",
       "      <th></th>\n",
       "      <th></th>\n",
       "      <th></th>\n",
       "    </tr>\n",
       "  </thead>\n",
       "  <tbody>\n",
       "    <tr>\n",
       "      <th>2020-01-22</th>\n",
       "      <td>555.0</td>\n",
       "      <td>28.0</td>\n",
       "      <td>17.0</td>\n",
       "      <td>0 days</td>\n",
       "      <td>4</td>\n",
       "      <td>3.063063</td>\n",
       "      <td>5.045045</td>\n",
       "      <td>510.0</td>\n",
       "      <td>45.0</td>\n",
       "    </tr>\n",
       "    <tr>\n",
       "      <th>2020-01-23</th>\n",
       "      <td>653.0</td>\n",
       "      <td>30.0</td>\n",
       "      <td>18.0</td>\n",
       "      <td>1 days</td>\n",
       "      <td>4</td>\n",
       "      <td>2.756508</td>\n",
       "      <td>4.594181</td>\n",
       "      <td>605.0</td>\n",
       "      <td>48.0</td>\n",
       "    </tr>\n",
       "    <tr>\n",
       "      <th>2020-01-24</th>\n",
       "      <td>941.0</td>\n",
       "      <td>36.0</td>\n",
       "      <td>26.0</td>\n",
       "      <td>2 days</td>\n",
       "      <td>4</td>\n",
       "      <td>2.763018</td>\n",
       "      <td>3.825717</td>\n",
       "      <td>879.0</td>\n",
       "      <td>62.0</td>\n",
       "    </tr>\n",
       "    <tr>\n",
       "      <th>2020-01-25</th>\n",
       "      <td>1438.0</td>\n",
       "      <td>39.0</td>\n",
       "      <td>42.0</td>\n",
       "      <td>3 days</td>\n",
       "      <td>4</td>\n",
       "      <td>2.920723</td>\n",
       "      <td>2.712100</td>\n",
       "      <td>1357.0</td>\n",
       "      <td>81.0</td>\n",
       "    </tr>\n",
       "    <tr>\n",
       "      <th>2020-01-26</th>\n",
       "      <td>2118.0</td>\n",
       "      <td>52.0</td>\n",
       "      <td>56.0</td>\n",
       "      <td>4 days</td>\n",
       "      <td>4</td>\n",
       "      <td>2.644004</td>\n",
       "      <td>2.455146</td>\n",
       "      <td>2010.0</td>\n",
       "      <td>108.0</td>\n",
       "    </tr>\n",
       "  </tbody>\n",
       "</table>\n",
       "</div>"
      ],
      "text/plain": [
       "                 Confirmed  Recovered  Deaths Days Since  WeekOfYear  \\\n",
       "ObservationDate                                                        \n",
       "2020-01-22           555.0       28.0    17.0     0 days           4   \n",
       "2020-01-23           653.0       30.0    18.0     1 days           4   \n",
       "2020-01-24           941.0       36.0    26.0     2 days           4   \n",
       "2020-01-25          1438.0       39.0    42.0     3 days           4   \n",
       "2020-01-26          2118.0       52.0    56.0     4 days           4   \n",
       "\n",
       "                 Mortality Rate  Recovery Rate  Active Cases  Closed Cases  \n",
       "ObservationDate                                                             \n",
       "2020-01-22             3.063063       5.045045         510.0          45.0  \n",
       "2020-01-23             2.756508       4.594181         605.0          48.0  \n",
       "2020-01-24             2.763018       3.825717         879.0          62.0  \n",
       "2020-01-25             2.920723       2.712100        1357.0          81.0  \n",
       "2020-01-26             2.644004       2.455146        2010.0         108.0  "
      ]
     },
     "execution_count": 24,
     "metadata": {},
     "output_type": "execute_result"
    }
   ],
   "source": [
    "datewise.head()"
   ]
  },
  {
   "cell_type": "code",
   "execution_count": 25,
   "metadata": {},
   "outputs": [
    {
     "data": {
      "image/png": "[encoded data removed]",
      "text/plain": [
       "<Figure size 1440x432 with 2 Axes>"
      ]
     },
     "metadata": {
      "needs_background": "light"
     },
     "output_type": "display_data"
    }
   ],
   "source": [
    "fig, (ax1, ax2) = plt.subplots(1, 2,figsize=(20,6))\n",
    "ax1.plot(datewise[\"Mortality Rate\"],label='Mortality Rate',linewidth=3)\n",
    "ax1.axhline(datewise[\"Mortality Rate\"].mean(),linestyle='--',color='black',label=\"Mean Mortality Rate\")\n",
    "ax1.set_ylabel(\"Mortality Rate\")\n",
    "ax1.set_xlabel(\"Timestamp\")\n",
    "ax1.set_title(\"Overall Datewise Mortality Rate\")\n",
    "ax1.legend()\n",
    "for tick in ax1.get_xticklabels():\n",
    "    tick.set_rotation(90)\n",
    "\n",
    "ax2.plot(datewise[\"Recovery Rate\"],label=\"Recovery Rate\",linewidth=3)\n",
    "ax2.axhline(datewise[\"Recovery Rate\"].mean(),linestyle='--',color='black',label=\"Mean Recovery Rate\")\n",
    "ax2.set_ylabel(\"Recovery Rate\")\n",
    "ax2.set_xlabel(\"Timestamp\")\n",
    "ax2.set_title(\"Overall Datewise Recovery Rate\")\n",
    "ax2.legend()\n",
    "for tick in ax2.get_xticklabels():\n",
    "    tick.set_rotation(90)\n",
    "    "
   ]
  },
  {
   "cell_type": "code",
   "execution_count": 26,
   "metadata": {},
   "outputs": [
    {
     "name": "stdout",
     "output_type": "stream",
     "text": [
      "Average increase in number of Confirmed Cases every day: \n",
      "37630.0\n",
      "Average increase in number of Recovered Cases every day:\n",
      "13119.0\n",
      "Average increase in number of Deaths Cases every day\n",
      "2579.0\n"
     ]
    }
   ],
   "source": [
    "print(\"Average increase in number of Confirmed Cases every day: \")\n",
    "print (np.round(datewise[\"Confirmed\"].diff().fillna(0).mean()))\n",
    "print(\"Average increase in number of Recovered Cases every day:\")\n",
    "print (np.round(datewise[\"Recovered\"].diff().fillna(0).mean()))\n",
    "print(\"Average increase in number of Deaths Cases every day\")\n",
    "print (np.round(datewise[\"Deaths\"].diff().fillna(0).mean()))"
   ]
  },
  {
   "cell_type": "code",
   "execution_count": 27,
   "metadata": {},
   "outputs": [
    {
     "data": {
      "text/plain": [
       "<matplotlib.legend.Legend at 0x24332a01ec8>"
      ]
     },
     "execution_count": 27,
     "metadata": {},
     "output_type": "execute_result"
    },
    {
     "data": {
      "image/png": "[encoded data removed]",
      "text/plain": [
       "<Figure size 1080x432 with 1 Axes>"
      ]
     },
     "metadata": {
      "needs_background": "light"
     },
     "output_type": "display_data"
    }
   ],
   "source": [
    "plt.figure(figsize=(15,6))\n",
    "plt.plot(datewise[\"Confirmed\"].diff().fillna(0),label=\"Daily increase in Confiremd Cases\",linewidth=3)\n",
    "plt.plot(datewise[\"Recovered\"].diff().fillna(0),label=\"Daily increase in Recovered Cases\",linewidth=3)\n",
    "plt.plot(datewise[\"Deaths\"].diff().fillna(0),label=\"Daily increase in Death Cases\",linewidth=3)\n",
    "plt.xlabel(\"Timestamp\")\n",
    "plt.ylabel(\"Daily Increment\")\n",
    "plt.title(\"Daily increase in different Types of Cases Worldwide\")\n",
    "plt.xticks(rotation=90)\n",
    "plt.legend()"
   ]
  },
  {
   "cell_type": "code",
   "execution_count": 28,
   "metadata": {},
   "outputs": [
    {
     "data": {
      "text/plain": [
       "ObservationDate\n",
       "2020-01-22        555.0\n",
       "2020-01-23        653.0\n",
       "2020-01-24        941.0\n",
       "2020-01-25       1438.0\n",
       "2020-01-26       2118.0\n",
       "                ...    \n",
       "2020-05-07    3845718.0\n",
       "2020-05-08    3938064.0\n",
       "2020-05-09    4024009.0\n",
       "2020-05-10    4101699.0\n",
       "2020-05-11    4177504.0\n",
       "Name: Confirmed, Length: 111, dtype: float64"
      ]
     },
     "execution_count": 28,
     "metadata": {},
     "output_type": "execute_result"
    }
   ],
   "source": [
    "datewise[\"Confirmed\"]"
   ]
  },
  {
   "cell_type": "code",
   "execution_count": 29,
   "metadata": {},
   "outputs": [
    {
     "data": {
      "text/plain": [
       "653.0"
      ]
     },
     "execution_count": 29,
     "metadata": {},
     "output_type": "execute_result"
    }
   ],
   "source": [
    "datewise[\"Confirmed\"].iloc[1]"
   ]
  },
  {
   "cell_type": "code",
   "execution_count": 30,
   "metadata": {},
   "outputs": [
    {
     "data": {
      "text/plain": [
       "1.44104134762634"
      ]
     },
     "execution_count": 30,
     "metadata": {},
     "output_type": "execute_result"
    }
   ],
   "source": [
    "datewise[\"Confirmed\"].iloc[2]/datewise[\"Confirmed\"].iloc[1]"
   ]
  },
  {
   "cell_type": "code",
   "execution_count": null,
   "metadata": {},
   "outputs": [],
   "source": [
    "#GROWTH FACTOR"
   ]
  },
  {
   "cell_type": "code",
   "execution_count": 31,
   "metadata": {},
   "outputs": [],
   "source": [
    "daily_increase_confirm=[]\n",
    "daily_increase_recovered=[]\n",
    "daily_increase_deaths=[]\n",
    "for i in range(datewise.shape[0]-1):\n",
    "    daily_increase_confirm.append(((datewise[\"Confirmed\"].iloc[i+1]/datewise[\"Confirmed\"].iloc[i])))\n",
    "    daily_increase_recovered.append(((datewise[\"Recovered\"].iloc[i+1]/datewise[\"Recovered\"].iloc[i])))\n",
    "    daily_increase_deaths.append(((datewise[\"Deaths\"].iloc[i+1]/datewise[\"Deaths\"].iloc[i])))\n",
    "daily_increase_confirm.insert(0,1)\n",
    "daily_increase_recovered.insert(0,1)\n",
    "daily_increase_deaths.insert(0,1)"
   ]
  },
  {
   "cell_type": "code",
   "execution_count": 32,
   "metadata": {},
   "outputs": [
    {
     "data": {
      "text/plain": [
       "<matplotlib.legend.Legend at 0x24332d70788>"
      ]
     },
     "execution_count": 32,
     "metadata": {},
     "output_type": "execute_result"
    },
    {
     "data": {
      "image/png": "[encoded data removed]",
      "text/plain": [
       "<Figure size 1080x504 with 1 Axes>"
      ]
     },
     "metadata": {
      "needs_background": "light"
     },
     "output_type": "display_data"
    }
   ],
   "source": [
    "plt.figure(figsize=(15,7))\n",
    "plt.plot(datewise.index,daily_increase_confirm,label=\"Growth Factor Confiremd Cases\",linewidth=3)\n",
    "plt.plot(datewise.index,daily_increase_recovered,label=\"Growth Factor Recovered Cases\",linewidth=3)\n",
    "plt.plot(datewise.index,daily_increase_deaths,label=\"Growth Factor Death Cases\",linewidth=3)\n",
    "plt.xlabel(\"Timestamp\")\n",
    "plt.ylabel(\"Growth Factor\")\n",
    "plt.title(\"Growth Factor of different Types of Cases Worldwide\")\n",
    "plt.axhline(1,linestyle='--',color='black',label=\"Baseline\")\n",
    "plt.xticks(rotation=90)\n",
    "plt.legend()"
   ]
  },
  {
   "cell_type": "code",
   "execution_count": 33,
   "metadata": {},
   "outputs": [
    {
     "data": {
      "text/plain": [
       "ObservationDate\n",
       "2020-05-11    4177504.0\n",
       "Name: Confirmed, dtype: float64"
      ]
     },
     "execution_count": 33,
     "metadata": {},
     "output_type": "execute_result"
    }
   ],
   "source": [
    "datewise[\"Confirmed\"].iloc[[-1]]"
   ]
  },
  {
   "cell_type": "code",
   "execution_count": 34,
   "metadata": {},
   "outputs": [],
   "source": [
    "c=1000\n",
    "double_days=[]\n",
    "C=[]\n",
    "while(1):\n",
    "    double_days.append(datewise[datewise[\"Confirmed\"]<=c].iloc[[-1]][\"Days Since\"][0])\n",
    "    C.append(c)\n",
    "    c=c*2\n",
    "    if(c<datewise[\"Confirmed\"].max()):\n",
    "        continue\n",
    "    else:\n",
    "        break"
   ]
  },
  {
   "cell_type": "code",
   "execution_count": 35,
   "metadata": {},
   "outputs": [
    {
     "data": {
      "text/plain": [
       "Text(0.5, 1.0, 'Days required for rise in cases by double')"
      ]
     },
     "execution_count": 35,
     "metadata": {},
     "output_type": "execute_result"
    },
    {
     "data": {
      "image/png": "[encoded data removed]",
      "text/plain": [
       "<Figure size 720x360 with 1 Axes>"
      ]
     },
     "metadata": {
      "needs_background": "light"
     },
     "output_type": "display_data"
    }
   ],
   "source": [
    "doubling_rate=pd.DataFrame(list(zip(C,double_days)),columns=[\"No. of cases\",\"Days since first Case\"])\n",
    "doubling_rate[\"Number of days for doubling\"]=doubling_rate[\"Days since first Case\"].diff().fillna(doubling_rate[\"Days since first Case\"])\n",
    "#doubling_rate\n",
    "plt.figure(figsize=(10,5))\n",
    "plt.plot(doubling_rate[\"No. of cases\"],doubling_rate[\"Number of days for doubling\"].dt.days,marker='o')\n",
    "plt.axhline(1,color='black',linestyle='--')\n",
    "plt.ylabel(\"Number of days for doubling\")\n",
    "plt.xlabel(\"Number of Confirmed Cases\")\n",
    "plt.title(\"Days required for rise in cases by double\")"
   ]
  },
  {
   "cell_type": "code",
   "execution_count": 36,
   "metadata": {},
   "outputs": [
    {
     "data": {
      "text/html": [
       "<div>\n",
       "<style scoped>\n",
       "    .dataframe tbody tr th:only-of-type {\n",
       "        vertical-align: middle;\n",
       "    }\n",
       "\n",
       "    .dataframe tbody tr th {\n",
       "        vertical-align: top;\n",
       "    }\n",
       "\n",
       "    .dataframe thead th {\n",
       "        text-align: right;\n",
       "    }\n",
       "</style>\n",
       "<table border=\"1\" class=\"dataframe\">\n",
       "  <thead>\n",
       "    <tr style=\"text-align: right;\">\n",
       "      <th></th>\n",
       "      <th>No. of cases</th>\n",
       "      <th>Days since first Case</th>\n",
       "      <th>Number of days for doubling</th>\n",
       "    </tr>\n",
       "  </thead>\n",
       "  <tbody>\n",
       "    <tr>\n",
       "      <th>0</th>\n",
       "      <td>1000</td>\n",
       "      <td>2 days</td>\n",
       "      <td>2 days</td>\n",
       "    </tr>\n",
       "    <tr>\n",
       "      <th>1</th>\n",
       "      <td>2000</td>\n",
       "      <td>3 days</td>\n",
       "      <td>1 days</td>\n",
       "    </tr>\n",
       "    <tr>\n",
       "      <th>2</th>\n",
       "      <td>4000</td>\n",
       "      <td>5 days</td>\n",
       "      <td>2 days</td>\n",
       "    </tr>\n",
       "    <tr>\n",
       "      <th>3</th>\n",
       "      <td>8000</td>\n",
       "      <td>7 days</td>\n",
       "      <td>2 days</td>\n",
       "    </tr>\n",
       "    <tr>\n",
       "      <th>4</th>\n",
       "      <td>16000</td>\n",
       "      <td>10 days</td>\n",
       "      <td>3 days</td>\n",
       "    </tr>\n",
       "  </tbody>\n",
       "</table>\n",
       "</div>"
      ],
      "text/plain": [
       "   No. of cases Days since first Case Number of days for doubling\n",
       "0          1000                2 days                      2 days\n",
       "1          2000                3 days                      1 days\n",
       "2          4000                5 days                      2 days\n",
       "3          8000                7 days                      2 days\n",
       "4         16000               10 days                      3 days"
      ]
     },
     "execution_count": 36,
     "metadata": {},
     "output_type": "execute_result"
    }
   ],
   "source": [
    "doubling_rate.head()"
   ]
  },
  {
   "cell_type": "code",
   "execution_count": 37,
   "metadata": {},
   "outputs": [
    {
     "data": {
      "text/html": [
       "<div>\n",
       "<style scoped>\n",
       "    .dataframe tbody tr th:only-of-type {\n",
       "        vertical-align: middle;\n",
       "    }\n",
       "\n",
       "    .dataframe tbody tr th {\n",
       "        vertical-align: top;\n",
       "    }\n",
       "\n",
       "    .dataframe thead th {\n",
       "        text-align: right;\n",
       "    }\n",
       "</style>\n",
       "<table border=\"1\" class=\"dataframe\">\n",
       "  <thead>\n",
       "    <tr style=\"text-align: right;\">\n",
       "      <th></th>\n",
       "      <th>ObservationDate</th>\n",
       "      <th>Province/State</th>\n",
       "      <th>Country/Region</th>\n",
       "      <th>Last Update</th>\n",
       "      <th>Confirmed</th>\n",
       "      <th>Deaths</th>\n",
       "      <th>Recovered</th>\n",
       "    </tr>\n",
       "  </thead>\n",
       "  <tbody>\n",
       "    <tr>\n",
       "      <th>0</th>\n",
       "      <td>2020-01-22</td>\n",
       "      <td>Anhui</td>\n",
       "      <td>Mainland China</td>\n",
       "      <td>1/22/2020 17:00</td>\n",
       "      <td>1.0</td>\n",
       "      <td>0.0</td>\n",
       "      <td>0.0</td>\n",
       "    </tr>\n",
       "    <tr>\n",
       "      <th>1</th>\n",
       "      <td>2020-01-22</td>\n",
       "      <td>Beijing</td>\n",
       "      <td>Mainland China</td>\n",
       "      <td>1/22/2020 17:00</td>\n",
       "      <td>14.0</td>\n",
       "      <td>0.0</td>\n",
       "      <td>0.0</td>\n",
       "    </tr>\n",
       "    <tr>\n",
       "      <th>2</th>\n",
       "      <td>2020-01-22</td>\n",
       "      <td>Chongqing</td>\n",
       "      <td>Mainland China</td>\n",
       "      <td>1/22/2020 17:00</td>\n",
       "      <td>6.0</td>\n",
       "      <td>0.0</td>\n",
       "      <td>0.0</td>\n",
       "    </tr>\n",
       "    <tr>\n",
       "      <th>3</th>\n",
       "      <td>2020-01-22</td>\n",
       "      <td>Fujian</td>\n",
       "      <td>Mainland China</td>\n",
       "      <td>1/22/2020 17:00</td>\n",
       "      <td>1.0</td>\n",
       "      <td>0.0</td>\n",
       "      <td>0.0</td>\n",
       "    </tr>\n",
       "    <tr>\n",
       "      <th>4</th>\n",
       "      <td>2020-01-22</td>\n",
       "      <td>Gansu</td>\n",
       "      <td>Mainland China</td>\n",
       "      <td>1/22/2020 17:00</td>\n",
       "      <td>0.0</td>\n",
       "      <td>0.0</td>\n",
       "      <td>0.0</td>\n",
       "    </tr>\n",
       "  </tbody>\n",
       "</table>\n",
       "</div>"
      ],
      "text/plain": [
       "  ObservationDate Province/State  Country/Region      Last Update  Confirmed  \\\n",
       "0      2020-01-22          Anhui  Mainland China  1/22/2020 17:00        1.0   \n",
       "1      2020-01-22        Beijing  Mainland China  1/22/2020 17:00       14.0   \n",
       "2      2020-01-22      Chongqing  Mainland China  1/22/2020 17:00        6.0   \n",
       "3      2020-01-22         Fujian  Mainland China  1/22/2020 17:00        1.0   \n",
       "4      2020-01-22          Gansu  Mainland China  1/22/2020 17:00        0.0   \n",
       "\n",
       "   Deaths  Recovered  \n",
       "0     0.0        0.0  \n",
       "1     0.0        0.0  \n",
       "2     0.0        0.0  \n",
       "3     0.0        0.0  \n",
       "4     0.0        0.0  "
      ]
     },
     "execution_count": 37,
     "metadata": {},
     "output_type": "execute_result"
    }
   ],
   "source": [
    "covid.head()"
   ]
  },
  {
   "cell_type": "code",
   "execution_count": 38,
   "metadata": {},
   "outputs": [],
   "source": [
    "#Calculating countrywise Moratality and Recovery Rate\n",
    "countrywise=covid[covid[\"ObservationDate\"]==covid[\"ObservationDate\"].max()]\n",
    "countrywise = countrywise.groupby([\"Country/Region\"]).agg({\"Confirmed\":'sum',\"Recovered\":'sum',\"Deaths\":'sum'})\n",
    "countrywise = countrywise.sort_values([\"Confirmed\"],ascending=False)\n",
    "countrywise[\"Mortality\"]=(countrywise[\"Deaths\"]/countrywise[\"Confirmed\"])*100\n",
    "countrywise[\"Recovery\"]=(countrywise[\"Recovered\"]/countrywise[\"Confirmed\"])*100"
   ]
  },
  {
   "cell_type": "code",
   "execution_count": 39,
   "metadata": {},
   "outputs": [
    {
     "data": {
      "text/html": [
       "<div>\n",
       "<style scoped>\n",
       "    .dataframe tbody tr th:only-of-type {\n",
       "        vertical-align: middle;\n",
       "    }\n",
       "\n",
       "    .dataframe tbody tr th {\n",
       "        vertical-align: top;\n",
       "    }\n",
       "\n",
       "    .dataframe thead th {\n",
       "        text-align: right;\n",
       "    }\n",
       "</style>\n",
       "<table border=\"1\" class=\"dataframe\">\n",
       "  <thead>\n",
       "    <tr style=\"text-align: right;\">\n",
       "      <th></th>\n",
       "      <th>Confirmed</th>\n",
       "      <th>Recovered</th>\n",
       "      <th>Deaths</th>\n",
       "      <th>Mortality</th>\n",
       "      <th>Recovery</th>\n",
       "    </tr>\n",
       "    <tr>\n",
       "      <th>Country/Region</th>\n",
       "      <th></th>\n",
       "      <th></th>\n",
       "      <th></th>\n",
       "      <th></th>\n",
       "      <th></th>\n",
       "    </tr>\n",
       "  </thead>\n",
       "  <tbody>\n",
       "    <tr>\n",
       "      <th>US</th>\n",
       "      <td>1347881.0</td>\n",
       "      <td>232733.0</td>\n",
       "      <td>80682.0</td>\n",
       "      <td>5.985840</td>\n",
       "      <td>17.266584</td>\n",
       "    </tr>\n",
       "    <tr>\n",
       "      <th>Spain</th>\n",
       "      <td>227436.0</td>\n",
       "      <td>137139.0</td>\n",
       "      <td>26744.0</td>\n",
       "      <td>11.758912</td>\n",
       "      <td>60.297842</td>\n",
       "    </tr>\n",
       "    <tr>\n",
       "      <th>UK</th>\n",
       "      <td>224332.0</td>\n",
       "      <td>1015.0</td>\n",
       "      <td>32141.0</td>\n",
       "      <td>14.327425</td>\n",
       "      <td>0.452454</td>\n",
       "    </tr>\n",
       "    <tr>\n",
       "      <th>Russia</th>\n",
       "      <td>221344.0</td>\n",
       "      <td>39801.0</td>\n",
       "      <td>2009.0</td>\n",
       "      <td>0.907637</td>\n",
       "      <td>17.981513</td>\n",
       "    </tr>\n",
       "    <tr>\n",
       "      <th>Italy</th>\n",
       "      <td>219814.0</td>\n",
       "      <td>106587.0</td>\n",
       "      <td>30739.0</td>\n",
       "      <td>13.984096</td>\n",
       "      <td>48.489632</td>\n",
       "    </tr>\n",
       "  </tbody>\n",
       "</table>\n",
       "</div>"
      ],
      "text/plain": [
       "                Confirmed  Recovered   Deaths  Mortality   Recovery\n",
       "Country/Region                                                     \n",
       "US              1347881.0   232733.0  80682.0   5.985840  17.266584\n",
       "Spain            227436.0   137139.0  26744.0  11.758912  60.297842\n",
       "UK               224332.0     1015.0  32141.0  14.327425   0.452454\n",
       "Russia           221344.0    39801.0   2009.0   0.907637  17.981513\n",
       "Italy            219814.0   106587.0  30739.0  13.984096  48.489632"
      ]
     },
     "execution_count": 39,
     "metadata": {},
     "output_type": "execute_result"
    }
   ],
   "source": [
    "countrywise.head()"
   ]
  },
  {
   "cell_type": "code",
   "execution_count": 40,
   "metadata": {},
   "outputs": [
    {
     "data": {
      "text/plain": [
       "Text(0.5, 1.0, 'Top 15 countries as per Number of Death Cases')"
      ]
     },
     "execution_count": 40,
     "metadata": {},
     "output_type": "execute_result"
    },
    {
     "data": {
      "image/png": "[encoded data removed]",
      "text/plain": [
       "<Figure size 720x864 with 2 Axes>"
      ]
     },
     "metadata": {
      "needs_background": "light"
     },
     "output_type": "display_data"
    }
   ],
   "source": [
    "fig, (ax1, ax2) = plt.subplots(2, 1,figsize=(10,12))\n",
    "top_15_confirmed=countrywise.head(15)\n",
    "top_15_deaths=countrywise.sort_values([\"Deaths\"],ascending=False).head(15)\n",
    "sns.barplot(x=top_15_confirmed[\"Confirmed\"],\n",
    "            y=top_15_confirmed.index,\n",
    "            ax=ax1)\n",
    "ax1.set_title(\"Top 15 countries as per Number of Confirmed Cases\")\n",
    "sns.barplot(x=top_15_deaths[\"Deaths\"],y=top_15_deaths.index,ax=ax2)\n",
    "ax2.set_title(\"Top 15 countries as per Number of Death Cases\")"
   ]
  },
  {
   "cell_type": "code",
   "execution_count": 41,
   "metadata": {},
   "outputs": [],
   "source": [
    "grouped_country=covid.groupby([\"Country/Region\",\"ObservationDate\"]).agg({\"Confirmed\":'sum',\"Recovered\":'sum',\"Deaths\":'sum'})"
   ]
  },
  {
   "cell_type": "code",
   "execution_count": 42,
   "metadata": {},
   "outputs": [],
   "source": [
    "grouped_country[\"Active Cases\"]=grouped_country[\"Confirmed\"]-grouped_country[\"Recovered\"]-grouped_country[\"Deaths\"]\n",
    "grouped_country[\"log_confirmed\"]=np.log(grouped_country[\"Confirmed\"])\n",
    "grouped_country[\"log_active\"]=np.log(grouped_country[\"Active Cases\"])b"
   ]
  },
  {
   "cell_type": "code",
   "execution_count": 46,
   "metadata": {},
   "outputs": [
    {
     "data": {
      "text/plain": [
       "Text(0.5, 1.0, 'COVID-19 Journey of Top 10 countries having Highest number of Confirmed Cases')"
      ]
     },
     "execution_count": 46,
     "metadata": {},
     "output_type": "execute_result"
    },
    {
     "data": {
      "image/png": "[encoded data removed]",
      "text/plain": [
       "<Figure size 1080x720 with 1 Axes>"
      ]
     },
     "metadata": {
      "needs_background": "light"
     },
     "output_type": "display_data"
    }
   ],
   "source": [
    "plt.figure(figsize=(15,10))\n",
    "for country in countrywise.head(10).index:\n",
    "    sns.lineplot(x=grouped_country.loc[country][\"log_confirmed\"],y=grouped_country.loc[country][\"log_active\"],\n",
    "                 label=country,linewidth=3)\n",
    "plt.xlabel(\"Confirmed Cases (Logrithmic Scale)\")\n",
    "plt.ylabel(\"Active Cases (Logarithmic Scale)\")\n",
    "plt.title(\"COVID-19 Journey of Top 10 countries having Highest number of Confirmed Cases\")"
   ]
  },
  {
   "cell_type": "code",
   "execution_count": 53,
   "metadata": {},
   "outputs": [],
   "source": [
    "from sklearn.model_selection import GridSearchCV\n",
    "from sklearn.preprocessing import StandardScaler\n",
    "from sklearn.cluster import KMeans\n",
    "from sklearn.metrics import silhouette_score,silhouette_samples\n",
    "from sklearn.linear_model import LinearRegression,Ridge,Lasso\n",
    "from sklearn.svm import SVR\n",
    "from sklearn.metrics import mean_squared_error,r2_score\n",
    "from sklearn.preprocessing import PolynomialFeatures"
   ]
  },
  {
   "cell_type": "code",
   "execution_count": 54,
   "metadata": {},
   "outputs": [],
   "source": [
    "import statsmodels.api as sm\n",
    "from statsmodels.tsa.api import Holt,SimpleExpSmoothing,ExponentialSmoothing\n",
    "from statsmodels.tsa.stattools import adfuller\n",
    "from statsmodels.tsa.arima_model import ARIMA\n",
    "from statsmodels.graphics.tsaplots import plot_acf,plot_pacf"
   ]
  },
  {
   "cell_type": "code",
   "execution_count": 57,
   "metadata": {},
   "outputs": [
    {
     "ename": "ModuleNotFoundError",
     "evalue": "No module named 'fbprophet'",
     "output_type": "error",
     "traceback": [
      "\u001b[1;31m---------------------------------------------------------------------------\u001b[0m",
      "\u001b[1;31mModuleNotFoundError\u001b[0m                       Traceback (most recent call last)",
      "\u001b[1;32m<ipython-input-57-8fd9a3ac40fb>\u001b[0m in \u001b[0;36m<module>\u001b[1;34m\u001b[0m\n\u001b[1;32m----> 1\u001b[1;33m \u001b[1;32mfrom\u001b[0m \u001b[0mfbprophet\u001b[0m \u001b[1;32mimport\u001b[0m \u001b[0mProphet\u001b[0m\u001b[1;33m\u001b[0m\u001b[1;33m\u001b[0m\u001b[0m\n\u001b[0m\u001b[0;32m      2\u001b[0m \u001b[0mget_ipython\u001b[0m\u001b[1;33m(\u001b[0m\u001b[1;33m)\u001b[0m\u001b[1;33m.\u001b[0m\u001b[0msystem\u001b[0m\u001b[1;33m(\u001b[0m\u001b[1;34m'pip install pyramid-arima'\u001b[0m\u001b[1;33m)\u001b[0m\u001b[1;33m\u001b[0m\u001b[1;33m\u001b[0m\u001b[0m\n\u001b[0;32m      3\u001b[0m \u001b[1;32mfrom\u001b[0m \u001b[0mpyramid\u001b[0m\u001b[1;33m.\u001b[0m\u001b[0marima\u001b[0m \u001b[1;32mimport\u001b[0m \u001b[0mauto_arima\u001b[0m\u001b[1;33m\u001b[0m\u001b[1;33m\u001b[0m\u001b[0m\n",
      "\u001b[1;31mModuleNotFoundError\u001b[0m: No module named 'fbprophet'"
     ]
    }
   ],
   "source": [
    "from fbprophet import Prophet\n"
   ]
  },
  {
   "cell_type": "code",
   "execution_count": 58,
   "metadata": {},
   "outputs": [],
   "source": [
    "std=StandardScaler()"
   ]
  },
  {
   "cell_type": "code",
   "execution_count": 59,
   "metadata": {},
   "outputs": [],
   "source": [
    "X=countrywise[[\"Confirmed\",\"Recovered\",\"Deaths\"]]\n",
    "X=std.fit_transform(X)"
   ]
  },
  {
   "cell_type": "code",
   "execution_count": 61,
   "metadata": {},
   "outputs": [
    {
     "data": {
      "text/html": [
       "<div>\n",
       "<style scoped>\n",
       "    .dataframe tbody tr th:only-of-type {\n",
       "        vertical-align: middle;\n",
       "    }\n",
       "\n",
       "    .dataframe tbody tr th {\n",
       "        vertical-align: top;\n",
       "    }\n",
       "\n",
       "    .dataframe thead th {\n",
       "        text-align: right;\n",
       "    }\n",
       "</style>\n",
       "<table border=\"1\" class=\"dataframe\">\n",
       "  <thead>\n",
       "    <tr style=\"text-align: right;\">\n",
       "      <th></th>\n",
       "      <th>Confirmed</th>\n",
       "      <th>Recovered</th>\n",
       "      <th>Deaths</th>\n",
       "    </tr>\n",
       "    <tr>\n",
       "      <th>Country/Region</th>\n",
       "      <th></th>\n",
       "      <th></th>\n",
       "      <th></th>\n",
       "    </tr>\n",
       "  </thead>\n",
       "  <tbody>\n",
       "    <tr>\n",
       "      <th>US</th>\n",
       "      <td>1347881.0</td>\n",
       "      <td>232733.0</td>\n",
       "      <td>80682.0</td>\n",
       "    </tr>\n",
       "    <tr>\n",
       "      <th>Spain</th>\n",
       "      <td>227436.0</td>\n",
       "      <td>137139.0</td>\n",
       "      <td>26744.0</td>\n",
       "    </tr>\n",
       "    <tr>\n",
       "      <th>UK</th>\n",
       "      <td>224332.0</td>\n",
       "      <td>1015.0</td>\n",
       "      <td>32141.0</td>\n",
       "    </tr>\n",
       "    <tr>\n",
       "      <th>Russia</th>\n",
       "      <td>221344.0</td>\n",
       "      <td>39801.0</td>\n",
       "      <td>2009.0</td>\n",
       "    </tr>\n",
       "    <tr>\n",
       "      <th>Italy</th>\n",
       "      <td>219814.0</td>\n",
       "      <td>106587.0</td>\n",
       "      <td>30739.0</td>\n",
       "    </tr>\n",
       "  </tbody>\n",
       "</table>\n",
       "</div>"
      ],
      "text/plain": [
       "                Confirmed  Recovered   Deaths\n",
       "Country/Region                               \n",
       "US              1347881.0   232733.0  80682.0\n",
       "Spain            227436.0   137139.0  26744.0\n",
       "UK               224332.0     1015.0  32141.0\n",
       "Russia           221344.0    39801.0   2009.0\n",
       "Italy            219814.0   106587.0  30739.0"
      ]
     },
     "execution_count": 61,
     "metadata": {},
     "output_type": "execute_result"
    }
   ],
   "source": [
    "countrywise[[\"Confirmed\",\"Recovered\",\"Deaths\"]].head()"
   ]
  },
  {
   "cell_type": "code",
   "execution_count": 60,
   "metadata": {},
   "outputs": [
    {
     "data": {
      "text/plain": [
       "array([[ 1.26186243e+01,  8.51627472e+00,  1.09156615e+01],\n",
       "       [ 1.95433767e+00,  4.89848459e+00,  3.47861383e+00],\n",
       "       [ 1.92479410e+00, -2.53178305e-01,  4.22275982e+00],\n",
       "       [ 1.89635461e+00,  1.21469215e+00,  6.81170660e-02],\n",
       "       [ 1.88179222e+00,  3.74223291e+00,  4.02945008e+00],\n",
       "       [ 1.47949902e+00,  1.85935015e+00,  3.46510145e+00],\n",
       "       [ 1.43218552e+00,  5.21933763e+00,  8.47422816e-01],\n",
       "       [ 1.40380314e+00,  2.25858094e+00,  1.39784542e+00],\n",
       "       [ 1.11995072e+00,  3.33323801e+00,  3.20715816e-01],\n",
       "       [ 8.29797456e-01,  3.01692642e+00,  7.12850556e-01],\n",
       "       [ 5.78838913e-01,  2.66681892e+00,  4.29917895e-01],\n",
       "       [ 4.67907756e-01,  9.57570715e-01,  4.96376737e-01],\n",
       "       [ 4.63186876e-01,  5.61783854e-01,  1.07413269e-01],\n",
       "       [ 4.44665037e-01,  5.56371966e-01,  6.14987581e-02],\n",
       "       [ 2.98346318e-01,  2.26776655e-01,  9.91646774e-01],\n",
       "       [ 1.98770019e-01, -2.85952393e-01,  5.46014046e-01],\n",
       "       [ 1.79991196e-01,  1.90445101e-01, -1.73726933e-01],\n",
       "       [ 1.35380786e-01,  5.82636652e-01,  2.83763597e-01],\n",
       "       [ 9.49677708e-02,  3.21757716e-02, -1.11542416e-01],\n",
       "       [ 7.84351736e-02,  7.22664514e-01,  4.55045141e-02],\n",
       "       [ 7.57606429e-02,  2.23294881e-01, -1.64350997e-01],\n",
       "       [ 7.04877248e-02, -1.61668204e-01,  8.68689382e-02],\n",
       "       [ 5.30699627e-02, -1.95123510e-01, -5.11503568e-02],\n",
       "       [ 4.34663988e-02, -1.03462028e-01,  2.40055189e-01],\n",
       "       [ 1.71589154e-02, -4.44232536e-02, -1.90272703e-01],\n",
       "       [ 1.63594116e-02, -1.69540041e-01, -2.05991184e-01],\n",
       "       [ 1.44653490e-02, -1.84110508e-01, -2.06956354e-01],\n",
       "       [ 9.82061239e-03,  3.55942896e-01, -6.61466020e-03],\n",
       "       [-3.06970998e-02, -8.79454270e-02, -1.81172530e-01],\n",
       "       [-5.32735652e-02,  1.56611342e-01, -1.73313289e-01],\n",
       "       [-5.49867877e-02, -7.14826919e-02, -9.70648675e-02],\n",
       "       [-5.92127366e-02,  2.40552369e-01, -1.23400218e-01],\n",
       "       [-5.95458632e-02,  2.22602851e-02, -1.21607759e-01],\n",
       "       [-6.10306560e-02, -1.81764095e-01, -1.75933036e-01],\n",
       "       [-6.14399258e-02, -1.67155783e-01, -1.52631077e-01],\n",
       "       [-6.20110000e-02, -1.74016607e-02, -7.34871458e-02],\n",
       "       [-7.46031854e-02, -1.82558848e-01, -7.22462131e-02],\n",
       "       [-9.98446636e-02, -1.84678188e-01, -1.42841497e-01],\n",
       "       [-1.04860598e-01, -2.15938462e-01, -1.08784788e-01],\n",
       "       [-1.06288284e-01,  7.43733571e-02, -1.73313289e-01],\n",
       "       [-1.08429812e-01,  3.10782559e-02, -1.35395900e-01],\n",
       "       [-1.08991368e-01, -1.26699084e-01, -1.80483123e-01],\n",
       "       [-1.09162690e-01, -1.82975147e-01, -1.54699298e-01],\n",
       "       [-1.13521890e-01, -1.67080092e-01, -1.78828546e-01],\n",
       "       [-1.17614588e-01, -2.09391214e-01, -1.35395900e-01],\n",
       "       [-1.21992823e-01, -1.81574868e-01, -1.99924402e-01],\n",
       "       [-1.28369818e-01, -1.14210113e-01, -1.74554222e-01],\n",
       "       [-1.32557695e-01, -1.13301824e-01, -1.70004135e-01],\n",
       "       [-1.32976483e-01, -2.90380301e-01, -1.78001257e-01],\n",
       "       [-1.44036286e-01, -5.64580807e-02, -1.95512197e-01],\n",
       "       [-1.46358655e-01, -9.80879857e-02, -1.93857620e-01],\n",
       "       [-1.50594121e-01, -1.85208023e-01, -1.82964988e-01],\n",
       "       [-1.50622675e-01, -2.22069412e-01, -1.65591930e-01],\n",
       "       [-1.53420938e-01, -1.40209880e-01, -1.71520831e-01],\n",
       "       [-1.54306103e-01, -1.84072662e-01, -1.38980817e-01],\n",
       "       [-1.60540330e-01, -2.10148121e-01, -2.07783643e-01],\n",
       "       [-1.60816349e-01, -2.13100060e-01, -2.04474489e-01],\n",
       "       [-1.62834144e-01, -2.16657524e-01, -1.84757447e-01],\n",
       "       [-1.65641926e-01, -2.72895741e-01, -2.05853303e-01],\n",
       "       [-1.65765658e-01, -2.70473638e-01, -1.92065161e-01],\n",
       "       [-1.66203482e-01, -2.57454831e-01, -1.88204482e-01],\n",
       "       [-1.73370463e-01, -1.55272337e-01, -1.94960671e-01],\n",
       "       [-1.76368602e-01, -2.44284643e-01, -2.06542710e-01],\n",
       "       [-1.78091342e-01, -2.40159498e-01, -2.02544149e-01],\n",
       "       [-1.79119276e-01, -2.55335491e-01, -1.50838619e-01],\n",
       "       [-1.81679592e-01, -1.85775704e-01, -2.01165335e-01],\n",
       "       [-1.83430886e-01, -2.80275588e-01, -1.92065161e-01],\n",
       "       [-1.83554619e-01, -2.23848144e-01, -1.93719738e-01],\n",
       "       [-1.84430266e-01, -2.39591817e-01, -1.88066600e-01],\n",
       "       [-1.84782428e-01, -2.33915012e-01, -1.91651517e-01],\n",
       "       [-1.85734218e-01, -2.28011135e-01, -2.04474489e-01],\n",
       "       [-1.86714562e-01, -2.16354761e-01, -2.07507880e-01],\n",
       "       [-1.89474754e-01, -2.24075216e-01, -1.96339485e-01],\n",
       "       [-1.89950649e-01, -2.64569760e-01, -2.07369998e-01],\n",
       "       [-1.89998239e-01, -2.49431613e-01, -1.93306094e-01],\n",
       "       [-1.90388473e-01, -2.83795207e-01, -1.92892450e-01],\n",
       "       [-1.91435442e-01, -2.74144639e-01, -1.96063722e-01],\n",
       "       [-1.92425304e-01, -2.64531915e-01, -2.06266947e-01],\n",
       "       [-1.93234326e-01, -2.24491515e-01, -2.07507880e-01],\n",
       "       [-1.93405648e-01, -2.45079396e-01, -1.98269825e-01],\n",
       "       [-1.93805400e-01, -2.63169482e-01, -2.00475928e-01],\n",
       "       [-1.93910097e-01, -2.60633842e-01, -2.05991184e-01],\n",
       "       [-1.94538278e-01, -2.46176911e-01, -1.96339485e-01],\n",
       "       [-1.95851749e-01, -2.85460404e-01, -1.98683469e-01],\n",
       "       [-1.96127768e-01, -2.38683529e-01, -2.05991184e-01],\n",
       "       [-1.96241983e-01, -2.60066162e-01, -2.01992623e-01],\n",
       "       [-1.96479931e-01, -2.81902939e-01, -1.94822790e-01],\n",
       "       [-1.96508484e-01, -2.55297645e-01, -2.05301777e-01],\n",
       "       [-1.98697602e-01, -2.58590192e-01, -2.08473050e-01],\n",
       "       [-1.99773125e-01, -2.87390517e-01, -2.05301777e-01],\n",
       "       [-2.00011073e-01, -2.87012064e-01, -2.01716860e-01],\n",
       "       [-2.00410824e-01, -2.54313666e-01, -2.08335168e-01],\n",
       "       [-2.00553593e-01, -2.64077771e-01, -2.02682030e-01],\n",
       "       [-2.00629736e-01, -2.86255156e-01, -2.03233556e-01],\n",
       "       [-2.00705879e-01, -2.65553740e-01, -2.07232117e-01],\n",
       "       [-2.01257918e-01, -2.79291609e-01, -2.06404829e-01],\n",
       "       [-2.01372133e-01, -2.74031102e-01, -2.06404829e-01],\n",
       "       [-2.01800438e-01, -2.76415361e-01, -2.06680591e-01],\n",
       "       [-2.01838510e-01, -2.90493838e-01, -2.08473050e-01],\n",
       "       [-2.01962243e-01, -2.66802637e-01, -2.05026014e-01],\n",
       "       [-2.02076457e-01, -2.66840482e-01, -2.04612370e-01],\n",
       "       [-2.02105011e-01, -2.78610392e-01, -2.07645761e-01],\n",
       "       [-2.02200190e-01, -2.82735537e-01, -2.05301777e-01],\n",
       "       [-2.02457174e-01, -2.67483854e-01, -2.02544149e-01],\n",
       "       [-2.02742711e-01, -2.86784991e-01, -2.07645761e-01],\n",
       "       [-2.02752229e-01, -2.72025298e-01, -2.07921524e-01],\n",
       "       [-2.03132945e-01, -2.90607374e-01, -2.08473050e-01],\n",
       "       [-2.03142463e-01, -2.69489658e-01, -2.01992623e-01],\n",
       "       [-2.03190052e-01, -2.70776401e-01, -2.02268386e-01],\n",
       "       [-2.03485107e-01, -2.85157641e-01, -2.07507880e-01],\n",
       "       [-2.03599322e-01, -2.66954019e-01, -2.07094236e-01],\n",
       "       [-2.03599322e-01, -2.77323649e-01, -2.03509319e-01],\n",
       "       [-2.03608840e-01, -2.71798226e-01, -2.06266947e-01],\n",
       "       [-2.03713537e-01, -2.82092166e-01, -2.04336607e-01],\n",
       "       [-2.04084735e-01, -2.91591353e-01, -2.05991184e-01],\n",
       "       [-2.04303647e-01, -2.79594372e-01, -2.07369998e-01],\n",
       "       [-2.04398826e-01, -2.86671455e-01, -2.03233556e-01],\n",
       "       [-2.05027007e-01, -2.76831660e-01, -2.07645761e-01],\n",
       "       [-2.05531456e-01, -2.84665651e-01, -2.05991184e-01],\n",
       "       [-2.05569528e-01, -2.88185270e-01, -2.07645761e-01],\n",
       "       [-2.05588564e-01, -2.75166463e-01, -2.08197287e-01],\n",
       "       [-2.06188191e-01, -2.77664258e-01, -2.07921524e-01],\n",
       "       [-2.06197709e-01, -2.91099363e-01, -2.08335168e-01],\n",
       "       [-2.06359514e-01, -2.83833053e-01, -2.07507880e-01],\n",
       "       [-2.06806855e-01, -2.80199897e-01, -2.08610931e-01],\n",
       "       [-2.07159018e-01, -2.88866487e-01, -2.06266947e-01],\n",
       "       [-2.07206607e-01, -2.89585549e-01, -2.07369998e-01],\n",
       "       [-2.07216125e-01, -2.79405145e-01, -2.07507880e-01],\n",
       "       [-2.07292268e-01, -2.80464815e-01, -2.07645761e-01],\n",
       "       [-2.07311304e-01, -2.89585549e-01, -2.04612370e-01],\n",
       "       [-2.07339858e-01, -2.89244940e-01, -2.08610931e-01],\n",
       "       [-2.07634913e-01, -2.82167857e-01, -2.08886694e-01],\n",
       "       [-2.07663466e-01, -2.85914548e-01, -2.08886694e-01],\n",
       "       [-2.07834789e-01, -2.87163445e-01, -2.07921524e-01],\n",
       "       [-2.07901414e-01, -2.89396322e-01, -2.08610931e-01],\n",
       "       [-2.07996593e-01, -2.87617590e-01, -2.08197287e-01],\n",
       "       [-2.08367791e-01, -2.88374497e-01, -2.06129066e-01],\n",
       "       [-2.08386827e-01, -2.90947982e-01, -2.06680591e-01],\n",
       "       [-2.08396345e-01, -2.91439972e-01, -2.08197287e-01],\n",
       "       [-2.08605739e-01, -2.87768971e-01, -2.08886694e-01],\n",
       "       [-2.08653328e-01, -2.88223115e-01, -2.07369998e-01],\n",
       "       [-2.08662846e-01, -2.88790796e-01, -2.08059405e-01],\n",
       "       [-2.08710436e-01, -2.90531683e-01, -2.08610931e-01],\n",
       "       [-2.08891276e-01, -2.91515663e-01, -2.08886694e-01],\n",
       "       [-2.09015009e-01, -2.91212900e-01, -2.08886694e-01],\n",
       "       [-2.09034044e-01, -2.86520074e-01, -2.08748813e-01],\n",
       "       [-2.09100670e-01, -2.90342456e-01, -2.08886694e-01],\n",
       "       [-2.09214885e-01, -2.87012064e-01, -2.08886694e-01],\n",
       "       [-2.09224402e-01, -2.89509858e-01, -2.08886694e-01],\n",
       "       [-2.09271992e-01, -2.87541899e-01, -2.07783643e-01],\n",
       "       [-2.09338617e-01, -2.90228920e-01, -2.07507880e-01],\n",
       "       [-2.09395725e-01, -2.90304611e-01, -2.08886694e-01],\n",
       "       [-2.09462350e-01, -2.88374497e-01, -2.08335168e-01],\n",
       "       [-2.09490904e-01, -2.90115384e-01, -2.07369998e-01],\n",
       "       [-2.09576565e-01, -2.89434167e-01, -2.07921524e-01],\n",
       "       [-2.09595601e-01, -2.89509858e-01, -2.08748813e-01],\n",
       "       [-2.09766923e-01, -2.90531683e-01, -2.08473050e-01],\n",
       "       [-2.09833548e-01, -2.90683064e-01, -2.08473050e-01],\n",
       "       [-2.09843066e-01, -2.91553508e-01, -2.07645761e-01],\n",
       "       [-2.09928727e-01, -2.90493838e-01, -2.08473050e-01],\n",
       "       [-2.09947763e-01, -2.91099363e-01, -2.08610931e-01],\n",
       "       [-2.09947763e-01, -2.90001848e-01, -2.08886694e-01],\n",
       "       [-2.09976317e-01, -2.91061518e-01, -2.08886694e-01],\n",
       "       [-2.10004871e-01, -2.90153229e-01, -2.08886694e-01],\n",
       "       [-2.10033424e-01, -2.91250745e-01, -2.08335168e-01],\n",
       "       [-2.10138121e-01, -2.90872291e-01, -2.08473050e-01],\n",
       "       [-2.10147639e-01, -2.90796601e-01, -2.08886694e-01],\n",
       "       [-2.10147639e-01, -2.91137209e-01, -2.08748813e-01],\n",
       "       [-2.10166675e-01, -2.91212900e-01, -2.08748813e-01],\n",
       "       [-2.10176193e-01, -2.91099363e-01, -2.08886694e-01],\n",
       "       [-2.10195229e-01, -2.91099363e-01, -2.08886694e-01],\n",
       "       [-2.10204746e-01, -2.90985827e-01, -2.08610931e-01],\n",
       "       [-2.10204746e-01, -2.91061518e-01, -2.08886694e-01],\n",
       "       [-2.10204746e-01, -2.90947982e-01, -2.08886694e-01],\n",
       "       [-2.10214264e-01, -2.91250745e-01, -2.08886694e-01],\n",
       "       [-2.10223782e-01, -2.91023673e-01, -2.08886694e-01],\n",
       "       [-2.10223782e-01, -2.91175054e-01, -2.08886694e-01],\n",
       "       [-2.10223782e-01, -2.91326436e-01, -2.08197287e-01],\n",
       "       [-2.10233300e-01, -2.91061518e-01, -2.08886694e-01],\n",
       "       [-2.10233300e-01, -2.91326436e-01, -2.08748813e-01],\n",
       "       [-2.10261854e-01, -2.91515663e-01, -2.08886694e-01],\n",
       "       [-2.10271372e-01, -2.91402126e-01, -2.08886694e-01],\n",
       "       [-2.10271372e-01, -2.91212900e-01, -2.08886694e-01],\n",
       "       [-2.10271372e-01, -2.91591353e-01, -2.08748813e-01],\n",
       "       [-2.10280890e-01, -2.91250745e-01, -2.08748813e-01],\n",
       "       [-2.10290408e-01, -2.91591353e-01, -2.08610931e-01],\n",
       "       [-2.10299925e-01, -2.91364281e-01, -2.08748813e-01],\n",
       "       [-2.10299925e-01, -2.91288590e-01, -2.08886694e-01],\n",
       "       [-2.10318961e-01, -2.91364281e-01, -2.08886694e-01]])"
      ]
     },
     "execution_count": 60,
     "metadata": {},
     "output_type": "execute_result"
    }
   ],
   "source": [
    "X"
   ]
  },
  {
   "cell_type": "code",
   "execution_count": 62,
   "metadata": {},
   "outputs": [
    {
     "data": {
      "text/plain": [
       "<function sklearn.metrics.cluster._unsupervised.silhouette_score(X, labels, *, metric='euclidean', sample_size=None, random_state=None, **kwds)>"
      ]
     },
     "execution_count": 62,
     "metadata": {},
     "output_type": "execute_result"
    }
   ],
   "source": [
    "silhouette_score"
   ]
  },
  {
   "cell_type": "code",
   "execution_count": 63,
   "metadata": {},
   "outputs": [],
   "source": [
    "wcss=[]\n",
    "sil=[]\n",
    "for i in range(2,11):\n",
    "    clf=KMeans(n_clusters=i,init='k-means++',random_state=42)\n",
    "    clf.fit(X)\n",
    "    labels=clf.labels_\n",
    "    centroids=clf.cluster_centers_\n",
    "    sil.append(silhouette_score(X, labels, metric='euclidean'))\n",
    "    wcss.append(clf.inertia_)"
   ]
  },
  {
   "cell_type": "code",
   "execution_count": 64,
   "metadata": {},
   "outputs": [
    {
     "data": {
      "text/plain": [
       "[214.2251867424826,\n",
       " 63.802793630953765,\n",
       " 38.94712135774341,\n",
       " 26.521210684662307,\n",
       " 17.548055925700247,\n",
       " 12.763038706934099,\n",
       " 10.154747240252547,\n",
       " 7.375768908519786,\n",
       " 5.453537090615886]"
      ]
     },
     "execution_count": 64,
     "metadata": {},
     "output_type": "execute_result"
    }
   ],
   "source": [
    "wcss"
   ]
  },
  {
   "cell_type": "code",
   "execution_count": 66,
   "metadata": {},
   "outputs": [
    {
     "data": {
      "text/plain": [
       "[0.9585777955683362,\n",
       " 0.9122068290367665,\n",
       " 0.9051561252766827,\n",
       " 0.9083143576604867,\n",
       " 0.8460934526447947,\n",
       " 0.8462664979066942,\n",
       " 0.8358672400625432,\n",
       " 0.8065013353308639,\n",
       " 0.7382320340586298]"
      ]
     },
     "execution_count": 66,
     "metadata": {},
     "output_type": "execute_result"
    }
   ],
   "source": [
    "sil"
   ]
  },
  {
   "cell_type": "code",
   "execution_count": 67,
   "metadata": {},
   "outputs": [
    {
     "data": {
      "text/plain": [
       "Text(0.5, 1.0, 'Silhouette Score Method')"
      ]
     },
     "execution_count": 67,
     "metadata": {},
     "output_type": "execute_result"
    },
    {
     "data": {
      "image/png": "[encoded data removed]",
      "text/plain": [
       "<Figure size 1152x360 with 2 Axes>"
      ]
     },
     "metadata": {
      "needs_background": "light"
     },
     "output_type": "display_data"
    }
   ],
   "source": [
    "fig, (ax1, ax2) = plt.subplots(1, 2,figsize=(16,5))\n",
    "x=np.arange(2,11)\n",
    "ax1.plot(x,wcss,marker='o')\n",
    "ax1.set_xlabel(\"Number of Clusters\")\n",
    "ax1.set_ylabel(\"Within Cluster Sum of Squares (WCSS)\")\n",
    "ax1.set_title(\"Elbow Method\")\n",
    "x=np.arange(2,11)\n",
    "ax2.plot(x,sil,marker='o')\n",
    "ax2.set_xlabel(\"Number of Clusters\")\n",
    "ax2.set_ylabel(\"Silhouette Score\")\n",
    "ax2.set_title(\"Silhouette Score Method\")"
   ]
  },
  {
   "cell_type": "code",
   "execution_count": 68,
   "metadata": {},
   "outputs": [],
   "source": [
    "#Correct number of Clusters could be k=4"
   ]
  },
  {
   "cell_type": "code",
   "execution_count": 70,
   "metadata": {},
   "outputs": [
    {
     "data": {
      "text/plain": [
       "KMeans(n_clusters=5, random_state=42)"
      ]
     },
     "execution_count": 70,
     "metadata": {},
     "output_type": "execute_result"
    }
   ],
   "source": [
    "clf_final=KMeans(n_clusters=5,init='k-means++',random_state=42)\n",
    "clf_final.fit(X)"
   ]
  },
  {
   "cell_type": "code",
   "execution_count": 71,
   "metadata": {},
   "outputs": [],
   "source": [
    "countrywise[\"Clusters\"]=clf_final.predict(X)"
   ]
  },
  {
   "cell_type": "code",
   "execution_count": 72,
   "metadata": {},
   "outputs": [
    {
     "data": {
      "text/plain": [
       "Country/Region\n",
       "US                  1\n",
       "Spain               4\n",
       "UK                  2\n",
       "Russia              3\n",
       "Italy               4\n",
       "                   ..\n",
       "Suriname            0\n",
       "MS Zaandam          0\n",
       "Mauritania          0\n",
       "Papua New Guinea    0\n",
       "Western Sahara      0\n",
       "Name: Clusters, Length: 189, dtype: int32"
      ]
     },
     "execution_count": 72,
     "metadata": {},
     "output_type": "execute_result"
    }
   ],
   "source": [
    "countrywise[\"Clusters\"]"
   ]
  },
  {
   "cell_type": "code",
   "execution_count": 73,
   "metadata": {},
   "outputs": [],
   "source": [
    "cluster_summary=pd.concat([countrywise[countrywise[\"Clusters\"]==1],\n",
    "                           countrywise[countrywise[\"Clusters\"]==2],\n",
    "                           countrywise[countrywise[\"Clusters\"]==3],\n",
    "                           countrywise[countrywise[\"Clusters\"]==4],\n",
    "                           countrywise[countrywise[\"Clusters\"]==0].head(15)])"
   ]
  },
  {
   "cell_type": "code",
   "execution_count": 75,
   "metadata": {},
   "outputs": [
    {
     "data": {
      "text/html": [
       "<style  type=\"text/css\" >\n",
       "    #T_75d89f98_9807_11ea_9011_a4c3f07f6867row0_col0 {\n",
       "            background-color:  #67000d;\n",
       "            color:  #f1f1f1;\n",
       "        }    #T_75d89f98_9807_11ea_9011_a4c3f07f6867row0_col1 {\n",
       "            background-color:  #67000d;\n",
       "            color:  #f1f1f1;\n",
       "        }    #T_75d89f98_9807_11ea_9011_a4c3f07f6867row0_col2 {\n",
       "            background-color:  #67000d;\n",
       "            color:  #f1f1f1;\n",
       "        }    #T_75d89f98_9807_11ea_9011_a4c3f07f6867row0_col3 {\n",
       "            background-color:  #fc9576;\n",
       "            color:  #000000;\n",
       "        }    #T_75d89f98_9807_11ea_9011_a4c3f07f6867row0_col4 {\n",
       "            background-color:  #fdd0bc;\n",
       "            color:  #000000;\n",
       "        }    #T_75d89f98_9807_11ea_9011_a4c3f07f6867row0_col5 {\n",
       "            background-color:  #fcbba1;\n",
       "            color:  #000000;\n",
       "        }    #T_75d89f98_9807_11ea_9011_a4c3f07f6867row1_col0 {\n",
       "            background-color:  #fed9c9;\n",
       "            color:  #000000;\n",
       "        }    #T_75d89f98_9807_11ea_9011_a4c3f07f6867row1_col1 {\n",
       "            background-color:  #fff5f0;\n",
       "            color:  #000000;\n",
       "        }    #T_75d89f98_9807_11ea_9011_a4c3f07f6867row1_col2 {\n",
       "            background-color:  #fc8b6b;\n",
       "            color:  #000000;\n",
       "        }    #T_75d89f98_9807_11ea_9011_a4c3f07f6867row1_col3 {\n",
       "            background-color:  #a30f15;\n",
       "            color:  #f1f1f1;\n",
       "        }    #T_75d89f98_9807_11ea_9011_a4c3f07f6867row1_col4 {\n",
       "            background-color:  #fff5f0;\n",
       "            color:  #000000;\n",
       "        }    #T_75d89f98_9807_11ea_9011_a4c3f07f6867row1_col5 {\n",
       "            background-color:  #fb694a;\n",
       "            color:  #000000;\n",
       "        }    #T_75d89f98_9807_11ea_9011_a4c3f07f6867row2_col0 {\n",
       "            background-color:  #fee2d5;\n",
       "            color:  #000000;\n",
       "        }    #T_75d89f98_9807_11ea_9011_a4c3f07f6867row2_col1 {\n",
       "            background-color:  #fcbda4;\n",
       "            color:  #000000;\n",
       "        }    #T_75d89f98_9807_11ea_9011_a4c3f07f6867row2_col2 {\n",
       "            background-color:  #fca183;\n",
       "            color:  #000000;\n",
       "        }    #T_75d89f98_9807_11ea_9011_a4c3f07f6867row2_col3 {\n",
       "            background-color:  #8e0912;\n",
       "            color:  #f1f1f1;\n",
       "        }    #T_75d89f98_9807_11ea_9011_a4c3f07f6867row2_col4 {\n",
       "            background-color:  #fc9e80;\n",
       "            color:  #000000;\n",
       "        }    #T_75d89f98_9807_11ea_9011_a4c3f07f6867row2_col5 {\n",
       "            background-color:  #fb694a;\n",
       "            color:  #000000;\n",
       "        }    #T_75d89f98_9807_11ea_9011_a4c3f07f6867row3_col0 {\n",
       "            background-color:  #fed9c9;\n",
       "            color:  #000000;\n",
       "        }    #T_75d89f98_9807_11ea_9011_a4c3f07f6867row3_col1 {\n",
       "            background-color:  #fdd3c1;\n",
       "            color:  #000000;\n",
       "        }    #T_75d89f98_9807_11ea_9011_a4c3f07f6867row3_col2 {\n",
       "            background-color:  #fff1ea;\n",
       "            color:  #000000;\n",
       "        }    #T_75d89f98_9807_11ea_9011_a4c3f07f6867row3_col3 {\n",
       "            background-color:  #ffede5;\n",
       "            color:  #000000;\n",
       "        }    #T_75d89f98_9807_11ea_9011_a4c3f07f6867row3_col4 {\n",
       "            background-color:  #fdcdb9;\n",
       "            color:  #000000;\n",
       "        }    #T_75d89f98_9807_11ea_9011_a4c3f07f6867row3_col5 {\n",
       "            background-color:  #ca181d;\n",
       "            color:  #f1f1f1;\n",
       "        }    #T_75d89f98_9807_11ea_9011_a4c3f07f6867row4_col0 {\n",
       "            background-color:  #fee3d6;\n",
       "            color:  #000000;\n",
       "        }    #T_75d89f98_9807_11ea_9011_a4c3f07f6867row4_col1 {\n",
       "            background-color:  #ee3a2c;\n",
       "            color:  #f1f1f1;\n",
       "        }    #T_75d89f98_9807_11ea_9011_a4c3f07f6867row4_col2 {\n",
       "            background-color:  #fee5d9;\n",
       "            color:  #000000;\n",
       "        }    #T_75d89f98_9807_11ea_9011_a4c3f07f6867row4_col3 {\n",
       "            background-color:  #fcb69b;\n",
       "            color:  #000000;\n",
       "        }    #T_75d89f98_9807_11ea_9011_a4c3f07f6867row4_col4 {\n",
       "            background-color:  #9a0c14;\n",
       "            color:  #f1f1f1;\n",
       "        }    #T_75d89f98_9807_11ea_9011_a4c3f07f6867row4_col5 {\n",
       "            background-color:  #ca181d;\n",
       "            color:  #f1f1f1;\n",
       "        }    #T_75d89f98_9807_11ea_9011_a4c3f07f6867row5_col0 {\n",
       "            background-color:  #fee3d6;\n",
       "            color:  #000000;\n",
       "        }    #T_75d89f98_9807_11ea_9011_a4c3f07f6867row5_col1 {\n",
       "            background-color:  #fcae92;\n",
       "            color:  #000000;\n",
       "        }    #T_75d89f98_9807_11ea_9011_a4c3f07f6867row5_col2 {\n",
       "            background-color:  #fedbcc;\n",
       "            color:  #000000;\n",
       "        }    #T_75d89f98_9807_11ea_9011_a4c3f07f6867row5_col3 {\n",
       "            background-color:  #fc8464;\n",
       "            color:  #000000;\n",
       "        }    #T_75d89f98_9807_11ea_9011_a4c3f07f6867row5_col4 {\n",
       "            background-color:  #fc8464;\n",
       "            color:  #000000;\n",
       "        }    #T_75d89f98_9807_11ea_9011_a4c3f07f6867row5_col5 {\n",
       "            background-color:  #ca181d;\n",
       "            color:  #f1f1f1;\n",
       "        }    #T_75d89f98_9807_11ea_9011_a4c3f07f6867row6_col0 {\n",
       "            background-color:  #fee7db;\n",
       "            color:  #000000;\n",
       "        }    #T_75d89f98_9807_11ea_9011_a4c3f07f6867row6_col1 {\n",
       "            background-color:  #fc8666;\n",
       "            color:  #000000;\n",
       "        }    #T_75d89f98_9807_11ea_9011_a4c3f07f6867row6_col2 {\n",
       "            background-color:  #ffede5;\n",
       "            color:  #000000;\n",
       "        }    #T_75d89f98_9807_11ea_9011_a4c3f07f6867row6_col3 {\n",
       "            background-color:  #fdd4c2;\n",
       "            color:  #000000;\n",
       "        }    #T_75d89f98_9807_11ea_9011_a4c3f07f6867row6_col4 {\n",
       "            background-color:  #d21f20;\n",
       "            color:  #f1f1f1;\n",
       "        }    #T_75d89f98_9807_11ea_9011_a4c3f07f6867row6_col5 {\n",
       "            background-color:  #ca181d;\n",
       "            color:  #f1f1f1;\n",
       "        }    #T_75d89f98_9807_11ea_9011_a4c3f07f6867row7_col0 {\n",
       "            background-color:  #feeae1;\n",
       "            color:  #000000;\n",
       "        }    #T_75d89f98_9807_11ea_9011_a4c3f07f6867row7_col1 {\n",
       "            background-color:  #fc9272;\n",
       "            color:  #000000;\n",
       "        }    #T_75d89f98_9807_11ea_9011_a4c3f07f6867row7_col2 {\n",
       "            background-color:  #fee7dc;\n",
       "            color:  #000000;\n",
       "        }    #T_75d89f98_9807_11ea_9011_a4c3f07f6867row7_col3 {\n",
       "            background-color:  #fc9373;\n",
       "            color:  #000000;\n",
       "        }    #T_75d89f98_9807_11ea_9011_a4c3f07f6867row7_col4 {\n",
       "            background-color:  #ac1117;\n",
       "            color:  #f1f1f1;\n",
       "        }    #T_75d89f98_9807_11ea_9011_a4c3f07f6867row7_col5 {\n",
       "            background-color:  #ca181d;\n",
       "            color:  #f1f1f1;\n",
       "        }    #T_75d89f98_9807_11ea_9011_a4c3f07f6867row8_col0 {\n",
       "            background-color:  #ffeee6;\n",
       "            color:  #000000;\n",
       "        }    #T_75d89f98_9807_11ea_9011_a4c3f07f6867row8_col1 {\n",
       "            background-color:  #fca082;\n",
       "            color:  #000000;\n",
       "        }    #T_75d89f98_9807_11ea_9011_a4c3f07f6867row8_col2 {\n",
       "            background-color:  #ffece3;\n",
       "            color:  #000000;\n",
       "        }    #T_75d89f98_9807_11ea_9011_a4c3f07f6867row8_col3 {\n",
       "            background-color:  #fc9e80;\n",
       "            color:  #000000;\n",
       "        }    #T_75d89f98_9807_11ea_9011_a4c3f07f6867row8_col4 {\n",
       "            background-color:  #67000d;\n",
       "            color:  #f1f1f1;\n",
       "        }    #T_75d89f98_9807_11ea_9011_a4c3f07f6867row8_col5 {\n",
       "            background-color:  #ca181d;\n",
       "            color:  #f1f1f1;\n",
       "        }    #T_75d89f98_9807_11ea_9011_a4c3f07f6867row9_col0 {\n",
       "            background-color:  #fed8c7;\n",
       "            color:  #000000;\n",
       "        }    #T_75d89f98_9807_11ea_9011_a4c3f07f6867row9_col1 {\n",
       "            background-color:  #f34935;\n",
       "            color:  #000000;\n",
       "        }    #T_75d89f98_9807_11ea_9011_a4c3f07f6867row9_col2 {\n",
       "            background-color:  #fca183;\n",
       "            color:  #000000;\n",
       "        }    #T_75d89f98_9807_11ea_9011_a4c3f07f6867row9_col3 {\n",
       "            background-color:  #d32020;\n",
       "            color:  #f1f1f1;\n",
       "        }    #T_75d89f98_9807_11ea_9011_a4c3f07f6867row9_col4 {\n",
       "            background-color:  #eb372a;\n",
       "            color:  #f1f1f1;\n",
       "        }    #T_75d89f98_9807_11ea_9011_a4c3f07f6867row9_col5 {\n",
       "            background-color:  #67000d;\n",
       "            color:  #f1f1f1;\n",
       "        }    #T_75d89f98_9807_11ea_9011_a4c3f07f6867row10_col0 {\n",
       "            background-color:  #fedaca;\n",
       "            color:  #000000;\n",
       "        }    #T_75d89f98_9807_11ea_9011_a4c3f07f6867row10_col1 {\n",
       "            background-color:  #fb7757;\n",
       "            color:  #000000;\n",
       "        }    #T_75d89f98_9807_11ea_9011_a4c3f07f6867row10_col2 {\n",
       "            background-color:  #fc9070;\n",
       "            color:  #000000;\n",
       "        }    #T_75d89f98_9807_11ea_9011_a4c3f07f6867row10_col3 {\n",
       "            background-color:  #aa1016;\n",
       "            color:  #f1f1f1;\n",
       "        }    #T_75d89f98_9807_11ea_9011_a4c3f07f6867row10_col4 {\n",
       "            background-color:  #fa6547;\n",
       "            color:  #000000;\n",
       "        }    #T_75d89f98_9807_11ea_9011_a4c3f07f6867row10_col5 {\n",
       "            background-color:  #67000d;\n",
       "            color:  #f1f1f1;\n",
       "        }    #T_75d89f98_9807_11ea_9011_a4c3f07f6867row11_col0 {\n",
       "            background-color:  #ffefe8;\n",
       "            color:  #000000;\n",
       "        }    #T_75d89f98_9807_11ea_9011_a4c3f07f6867row11_col1 {\n",
       "            background-color:  #fedbcc;\n",
       "            color:  #000000;\n",
       "        }    #T_75d89f98_9807_11ea_9011_a4c3f07f6867row11_col2 {\n",
       "            background-color:  #feeae1;\n",
       "            color:  #000000;\n",
       "        }    #T_75d89f98_9807_11ea_9011_a4c3f07f6867row11_col3 {\n",
       "            background-color:  #fb7d5d;\n",
       "            color:  #000000;\n",
       "        }    #T_75d89f98_9807_11ea_9011_a4c3f07f6867row11_col4 {\n",
       "            background-color:  #fb6d4d;\n",
       "            color:  #000000;\n",
       "        }    #T_75d89f98_9807_11ea_9011_a4c3f07f6867row11_col5 {\n",
       "            background-color:  #fff5f0;\n",
       "            color:  #000000;\n",
       "        }    #T_75d89f98_9807_11ea_9011_a4c3f07f6867row12_col0 {\n",
       "            background-color:  #ffefe8;\n",
       "            color:  #000000;\n",
       "        }    #T_75d89f98_9807_11ea_9011_a4c3f07f6867row12_col1 {\n",
       "            background-color:  #fee5d9;\n",
       "            color:  #000000;\n",
       "        }    #T_75d89f98_9807_11ea_9011_a4c3f07f6867row12_col2 {\n",
       "            background-color:  #fff0e9;\n",
       "            color:  #000000;\n",
       "        }    #T_75d89f98_9807_11ea_9011_a4c3f07f6867row12_col3 {\n",
       "            background-color:  #fdccb8;\n",
       "            color:  #000000;\n",
       "        }    #T_75d89f98_9807_11ea_9011_a4c3f07f6867row12_col4 {\n",
       "            background-color:  #fca082;\n",
       "            color:  #000000;\n",
       "        }    #T_75d89f98_9807_11ea_9011_a4c3f07f6867row12_col5 {\n",
       "            background-color:  #fff5f0;\n",
       "            color:  #000000;\n",
       "        }    #T_75d89f98_9807_11ea_9011_a4c3f07f6867row13_col0 {\n",
       "            background-color:  #fff0e8;\n",
       "            color:  #000000;\n",
       "        }    #T_75d89f98_9807_11ea_9011_a4c3f07f6867row13_col1 {\n",
       "            background-color:  #fee5d9;\n",
       "            color:  #000000;\n",
       "        }    #T_75d89f98_9807_11ea_9011_a4c3f07f6867row13_col2 {\n",
       "            background-color:  #fff1ea;\n",
       "            color:  #000000;\n",
       "        }    #T_75d89f98_9807_11ea_9011_a4c3f07f6867row13_col3 {\n",
       "            background-color:  #fdd3c1;\n",
       "            color:  #000000;\n",
       "        }    #T_75d89f98_9807_11ea_9011_a4c3f07f6867row13_col4 {\n",
       "            background-color:  #fc9d7f;\n",
       "            color:  #000000;\n",
       "        }    #T_75d89f98_9807_11ea_9011_a4c3f07f6867row13_col5 {\n",
       "            background-color:  #fff5f0;\n",
       "            color:  #000000;\n",
       "        }    #T_75d89f98_9807_11ea_9011_a4c3f07f6867row14_col0 {\n",
       "            background-color:  #fff2eb;\n",
       "            color:  #000000;\n",
       "        }    #T_75d89f98_9807_11ea_9011_a4c3f07f6867row14_col1 {\n",
       "            background-color:  #ffece3;\n",
       "            color:  #000000;\n",
       "        }    #T_75d89f98_9807_11ea_9011_a4c3f07f6867row14_col2 {\n",
       "            background-color:  #fee3d7;\n",
       "            color:  #000000;\n",
       "        }    #T_75d89f98_9807_11ea_9011_a4c3f07f6867row14_col3 {\n",
       "            background-color:  #67000d;\n",
       "            color:  #f1f1f1;\n",
       "        }    #T_75d89f98_9807_11ea_9011_a4c3f07f6867row14_col4 {\n",
       "            background-color:  #fcb69b;\n",
       "            color:  #000000;\n",
       "        }    #T_75d89f98_9807_11ea_9011_a4c3f07f6867row14_col5 {\n",
       "            background-color:  #fff5f0;\n",
       "            color:  #000000;\n",
       "        }    #T_75d89f98_9807_11ea_9011_a4c3f07f6867row15_col0 {\n",
       "            background-color:  #fff3ed;\n",
       "            color:  #000000;\n",
       "        }    #T_75d89f98_9807_11ea_9011_a4c3f07f6867row15_col1 {\n",
       "            background-color:  #fff5f0;\n",
       "            color:  #000000;\n",
       "        }    #T_75d89f98_9807_11ea_9011_a4c3f07f6867row15_col2 {\n",
       "            background-color:  #feeae0;\n",
       "            color:  #000000;\n",
       "        }    #T_75d89f98_9807_11ea_9011_a4c3f07f6867row15_col3 {\n",
       "            background-color:  #c2161b;\n",
       "            color:  #f1f1f1;\n",
       "        }    #T_75d89f98_9807_11ea_9011_a4c3f07f6867row15_col4 {\n",
       "            background-color:  #fff5f0;\n",
       "            color:  #000000;\n",
       "        }    #T_75d89f98_9807_11ea_9011_a4c3f07f6867row15_col5 {\n",
       "            background-color:  #fff5f0;\n",
       "            color:  #000000;\n",
       "        }    #T_75d89f98_9807_11ea_9011_a4c3f07f6867row16_col0 {\n",
       "            background-color:  #fff3ed;\n",
       "            color:  #000000;\n",
       "        }    #T_75d89f98_9807_11ea_9011_a4c3f07f6867row16_col1 {\n",
       "            background-color:  #ffece4;\n",
       "            color:  #000000;\n",
       "        }    #T_75d89f98_9807_11ea_9011_a4c3f07f6867row16_col2 {\n",
       "            background-color:  #fff5f0;\n",
       "            color:  #000000;\n",
       "        }    #T_75d89f98_9807_11ea_9011_a4c3f07f6867row16_col3 {\n",
       "            background-color:  #fff0e8;\n",
       "            color:  #000000;\n",
       "        }    #T_75d89f98_9807_11ea_9011_a4c3f07f6867row16_col4 {\n",
       "            background-color:  #fca285;\n",
       "            color:  #000000;\n",
       "        }    #T_75d89f98_9807_11ea_9011_a4c3f07f6867row16_col5 {\n",
       "            background-color:  #fff5f0;\n",
       "            color:  #000000;\n",
       "        }    #T_75d89f98_9807_11ea_9011_a4c3f07f6867row17_col0 {\n",
       "            background-color:  #fff4ee;\n",
       "            color:  #000000;\n",
       "        }    #T_75d89f98_9807_11ea_9011_a4c3f07f6867row17_col1 {\n",
       "            background-color:  #fee5d8;\n",
       "            color:  #000000;\n",
       "        }    #T_75d89f98_9807_11ea_9011_a4c3f07f6867row17_col2 {\n",
       "            background-color:  #ffeee6;\n",
       "            color:  #000000;\n",
       "        }    #T_75d89f98_9807_11ea_9011_a4c3f07f6867row17_col3 {\n",
       "            background-color:  #f14331;\n",
       "            color:  #f1f1f1;\n",
       "        }    #T_75d89f98_9807_11ea_9011_a4c3f07f6867row17_col4 {\n",
       "            background-color:  #e12d26;\n",
       "            color:  #f1f1f1;\n",
       "        }    #T_75d89f98_9807_11ea_9011_a4c3f07f6867row17_col5 {\n",
       "            background-color:  #fff5f0;\n",
       "            color:  #000000;\n",
       "        }    #T_75d89f98_9807_11ea_9011_a4c3f07f6867row18_col0 {\n",
       "            background-color:  #fff4ef;\n",
       "            color:  #000000;\n",
       "        }    #T_75d89f98_9807_11ea_9011_a4c3f07f6867row18_col1 {\n",
       "            background-color:  #ffefe8;\n",
       "            color:  #000000;\n",
       "        }    #T_75d89f98_9807_11ea_9011_a4c3f07f6867row18_col2 {\n",
       "            background-color:  #fff4ee;\n",
       "            color:  #000000;\n",
       "        }    #T_75d89f98_9807_11ea_9011_a4c3f07f6867row18_col3 {\n",
       "            background-color:  #fedfd0;\n",
       "            color:  #000000;\n",
       "        }    #T_75d89f98_9807_11ea_9011_a4c3f07f6867row18_col4 {\n",
       "            background-color:  #fcb296;\n",
       "            color:  #000000;\n",
       "        }    #T_75d89f98_9807_11ea_9011_a4c3f07f6867row18_col5 {\n",
       "            background-color:  #fff5f0;\n",
       "            color:  #000000;\n",
       "        }    #T_75d89f98_9807_11ea_9011_a4c3f07f6867row19_col0 {\n",
       "            background-color:  #fff4ef;\n",
       "            color:  #000000;\n",
       "        }    #T_75d89f98_9807_11ea_9011_a4c3f07f6867row19_col1 {\n",
       "            background-color:  #fee2d5;\n",
       "            color:  #000000;\n",
       "        }    #T_75d89f98_9807_11ea_9011_a4c3f07f6867row19_col2 {\n",
       "            background-color:  #fff2eb;\n",
       "            color:  #000000;\n",
       "        }    #T_75d89f98_9807_11ea_9011_a4c3f07f6867row19_col3 {\n",
       "            background-color:  #fc9474;\n",
       "            color:  #000000;\n",
       "        }    #T_75d89f98_9807_11ea_9011_a4c3f07f6867row19_col4 {\n",
       "            background-color:  #860811;\n",
       "            color:  #f1f1f1;\n",
       "        }    #T_75d89f98_9807_11ea_9011_a4c3f07f6867row19_col5 {\n",
       "            background-color:  #fff5f0;\n",
       "            color:  #000000;\n",
       "        }    #T_75d89f98_9807_11ea_9011_a4c3f07f6867row20_col0 {\n",
       "            background-color:  #fff4ef;\n",
       "            color:  #000000;\n",
       "        }    #T_75d89f98_9807_11ea_9011_a4c3f07f6867row20_col1 {\n",
       "            background-color:  #ffece3;\n",
       "            color:  #000000;\n",
       "        }    #T_75d89f98_9807_11ea_9011_a4c3f07f6867row20_col2 {\n",
       "            background-color:  #fff5f0;\n",
       "            color:  #000000;\n",
       "        }    #T_75d89f98_9807_11ea_9011_a4c3f07f6867row20_col3 {\n",
       "            background-color:  #ffebe2;\n",
       "            color:  #000000;\n",
       "        }    #T_75d89f98_9807_11ea_9011_a4c3f07f6867row20_col4 {\n",
       "            background-color:  #fb7151;\n",
       "            color:  #000000;\n",
       "        }    #T_75d89f98_9807_11ea_9011_a4c3f07f6867row20_col5 {\n",
       "            background-color:  #fff5f0;\n",
       "            color:  #000000;\n",
       "        }    #T_75d89f98_9807_11ea_9011_a4c3f07f6867row21_col0 {\n",
       "            background-color:  #fff4ef;\n",
       "            color:  #000000;\n",
       "        }    #T_75d89f98_9807_11ea_9011_a4c3f07f6867row21_col1 {\n",
       "            background-color:  #fff3ed;\n",
       "            color:  #000000;\n",
       "        }    #T_75d89f98_9807_11ea_9011_a4c3f07f6867row21_col2 {\n",
       "            background-color:  #fff1ea;\n",
       "            color:  #000000;\n",
       "        }    #T_75d89f98_9807_11ea_9011_a4c3f07f6867row21_col3 {\n",
       "            background-color:  #fb7c5c;\n",
       "            color:  #000000;\n",
       "        }    #T_75d89f98_9807_11ea_9011_a4c3f07f6867row21_col4 {\n",
       "            background-color:  #fee1d4;\n",
       "            color:  #000000;\n",
       "        }    #T_75d89f98_9807_11ea_9011_a4c3f07f6867row21_col5 {\n",
       "            background-color:  #fff5f0;\n",
       "            color:  #000000;\n",
       "        }    #T_75d89f98_9807_11ea_9011_a4c3f07f6867row22_col0 {\n",
       "            background-color:  #fff5f0;\n",
       "            color:  #000000;\n",
       "        }    #T_75d89f98_9807_11ea_9011_a4c3f07f6867row22_col1 {\n",
       "            background-color:  #fff4ee;\n",
       "            color:  #000000;\n",
       "        }    #T_75d89f98_9807_11ea_9011_a4c3f07f6867row22_col2 {\n",
       "            background-color:  #fff3ed;\n",
       "            color:  #000000;\n",
       "        }    #T_75d89f98_9807_11ea_9011_a4c3f07f6867row22_col3 {\n",
       "            background-color:  #fcbca2;\n",
       "            color:  #000000;\n",
       "        }    #T_75d89f98_9807_11ea_9011_a4c3f07f6867row22_col4 {\n",
       "            background-color:  #fee5d9;\n",
       "            color:  #000000;\n",
       "        }    #T_75d89f98_9807_11ea_9011_a4c3f07f6867row22_col5 {\n",
       "            background-color:  #fff5f0;\n",
       "            color:  #000000;\n",
       "        }    #T_75d89f98_9807_11ea_9011_a4c3f07f6867row23_col0 {\n",
       "            background-color:  #fff5f0;\n",
       "            color:  #000000;\n",
       "        }    #T_75d89f98_9807_11ea_9011_a4c3f07f6867row23_col1 {\n",
       "            background-color:  #fff2eb;\n",
       "            color:  #000000;\n",
       "        }    #T_75d89f98_9807_11ea_9011_a4c3f07f6867row23_col2 {\n",
       "            background-color:  #ffeee7;\n",
       "            color:  #000000;\n",
       "        }    #T_75d89f98_9807_11ea_9011_a4c3f07f6867row23_col3 {\n",
       "            background-color:  #cb181d;\n",
       "            color:  #f1f1f1;\n",
       "        }    #T_75d89f98_9807_11ea_9011_a4c3f07f6867row23_col4 {\n",
       "            background-color:  #fdccb8;\n",
       "            color:  #000000;\n",
       "        }    #T_75d89f98_9807_11ea_9011_a4c3f07f6867row23_col5 {\n",
       "            background-color:  #fff5f0;\n",
       "            color:  #000000;\n",
       "        }    #T_75d89f98_9807_11ea_9011_a4c3f07f6867row24_col0 {\n",
       "            background-color:  #fff5f0;\n",
       "            color:  #000000;\n",
       "        }    #T_75d89f98_9807_11ea_9011_a4c3f07f6867row24_col1 {\n",
       "            background-color:  #fff0e9;\n",
       "            color:  #000000;\n",
       "        }    #T_75d89f98_9807_11ea_9011_a4c3f07f6867row24_col2 {\n",
       "            background-color:  #fff5f0;\n",
       "            color:  #000000;\n",
       "        }    #T_75d89f98_9807_11ea_9011_a4c3f07f6867row24_col3 {\n",
       "            background-color:  #fff0e9;\n",
       "            color:  #000000;\n",
       "        }    #T_75d89f98_9807_11ea_9011_a4c3f07f6867row24_col4 {\n",
       "            background-color:  #fcaf93;\n",
       "            color:  #000000;\n",
       "        }    #T_75d89f98_9807_11ea_9011_a4c3f07f6867row24_col5 {\n",
       "            background-color:  #fff5f0;\n",
       "            color:  #000000;\n",
       "        }    #T_75d89f98_9807_11ea_9011_a4c3f07f6867row25_col0 {\n",
       "            background-color:  #fff5f0;\n",
       "            color:  #000000;\n",
       "        }    #T_75d89f98_9807_11ea_9011_a4c3f07f6867row25_col1 {\n",
       "            background-color:  #fff3ed;\n",
       "            color:  #000000;\n",
       "        }    #T_75d89f98_9807_11ea_9011_a4c3f07f6867row25_col2 {\n",
       "            background-color:  #fff5f0;\n",
       "            color:  #000000;\n",
       "        }    #T_75d89f98_9807_11ea_9011_a4c3f07f6867row25_col3 {\n",
       "            background-color:  #fff5f0;\n",
       "            color:  #000000;\n",
       "        }    #T_75d89f98_9807_11ea_9011_a4c3f07f6867row25_col4 {\n",
       "            background-color:  #fedccd;\n",
       "            color:  #000000;\n",
       "        }    #T_75d89f98_9807_11ea_9011_a4c3f07f6867row25_col5 {\n",
       "            background-color:  #fff5f0;\n",
       "            color:  #000000;\n",
       "        }</style><table id=\"T_75d89f98_9807_11ea_9011_a4c3f07f6867\" ><thead>    <tr>        <th class=\"blank level0\" ></th>        <th class=\"col_heading level0 col0\" >Confirmed</th>        <th class=\"col_heading level0 col1\" >Recovered</th>        <th class=\"col_heading level0 col2\" >Deaths</th>        <th class=\"col_heading level0 col3\" >Mortality</th>        <th class=\"col_heading level0 col4\" >Recovery</th>        <th class=\"col_heading level0 col5\" >Clusters</th>    </tr>    <tr>        <th class=\"index_name level0\" >Country/Region</th>        <th class=\"blank\" ></th>        <th class=\"blank\" ></th>        <th class=\"blank\" ></th>        <th class=\"blank\" ></th>        <th class=\"blank\" ></th>        <th class=\"blank\" ></th>    </tr></thead><tbody>\n",
       "                <tr>\n",
       "                        <th id=\"T_75d89f98_9807_11ea_9011_a4c3f07f6867level0_row0\" class=\"row_heading level0 row0\" >US</th>\n",
       "                        <td id=\"T_75d89f98_9807_11ea_9011_a4c3f07f6867row0_col0\" class=\"data row0 col0\" >1347881.000000</td>\n",
       "                        <td id=\"T_75d89f98_9807_11ea_9011_a4c3f07f6867row0_col1\" class=\"data row0 col1\" >232733.000000</td>\n",
       "                        <td id=\"T_75d89f98_9807_11ea_9011_a4c3f07f6867row0_col2\" class=\"data row0 col2\" >80682.000000</td>\n",
       "                        <td id=\"T_75d89f98_9807_11ea_9011_a4c3f07f6867row0_col3\" class=\"data row0 col3\" >5.985840</td>\n",
       "                        <td id=\"T_75d89f98_9807_11ea_9011_a4c3f07f6867row0_col4\" class=\"data row0 col4\" >17.266584</td>\n",
       "                        <td id=\"T_75d89f98_9807_11ea_9011_a4c3f07f6867row0_col5\" class=\"data row0 col5\" >1</td>\n",
       "            </tr>\n",
       "            <tr>\n",
       "                        <th id=\"T_75d89f98_9807_11ea_9011_a4c3f07f6867level0_row1\" class=\"row_heading level0 row1\" >UK</th>\n",
       "                        <td id=\"T_75d89f98_9807_11ea_9011_a4c3f07f6867row1_col0\" class=\"data row1 col0\" >224332.000000</td>\n",
       "                        <td id=\"T_75d89f98_9807_11ea_9011_a4c3f07f6867row1_col1\" class=\"data row1 col1\" >1015.000000</td>\n",
       "                        <td id=\"T_75d89f98_9807_11ea_9011_a4c3f07f6867row1_col2\" class=\"data row1 col2\" >32141.000000</td>\n",
       "                        <td id=\"T_75d89f98_9807_11ea_9011_a4c3f07f6867row1_col3\" class=\"data row1 col3\" >14.327425</td>\n",
       "                        <td id=\"T_75d89f98_9807_11ea_9011_a4c3f07f6867row1_col4\" class=\"data row1 col4\" >0.452454</td>\n",
       "                        <td id=\"T_75d89f98_9807_11ea_9011_a4c3f07f6867row1_col5\" class=\"data row1 col5\" >2</td>\n",
       "            </tr>\n",
       "            <tr>\n",
       "                        <th id=\"T_75d89f98_9807_11ea_9011_a4c3f07f6867level0_row2\" class=\"row_heading level0 row2\" >France</th>\n",
       "                        <td id=\"T_75d89f98_9807_11ea_9011_a4c3f07f6867row2_col0\" class=\"data row2 col0\" >177547.000000</td>\n",
       "                        <td id=\"T_75d89f98_9807_11ea_9011_a4c3f07f6867row2_col1\" class=\"data row2 col1\" >56835.000000</td>\n",
       "                        <td id=\"T_75d89f98_9807_11ea_9011_a4c3f07f6867row2_col2\" class=\"data row2 col2\" >26646.000000</td>\n",
       "                        <td id=\"T_75d89f98_9807_11ea_9011_a4c3f07f6867row2_col3\" class=\"data row2 col3\" >15.007857</td>\n",
       "                        <td id=\"T_75d89f98_9807_11ea_9011_a4c3f07f6867row2_col4\" class=\"data row2 col4\" >32.011242</td>\n",
       "                        <td id=\"T_75d89f98_9807_11ea_9011_a4c3f07f6867row2_col5\" class=\"data row2 col5\" >2</td>\n",
       "            </tr>\n",
       "            <tr>\n",
       "                        <th id=\"T_75d89f98_9807_11ea_9011_a4c3f07f6867level0_row3\" class=\"row_heading level0 row3\" >Russia</th>\n",
       "                        <td id=\"T_75d89f98_9807_11ea_9011_a4c3f07f6867row3_col0\" class=\"data row3 col0\" >221344.000000</td>\n",
       "                        <td id=\"T_75d89f98_9807_11ea_9011_a4c3f07f6867row3_col1\" class=\"data row3 col1\" >39801.000000</td>\n",
       "                        <td id=\"T_75d89f98_9807_11ea_9011_a4c3f07f6867row3_col2\" class=\"data row3 col2\" >2009.000000</td>\n",
       "                        <td id=\"T_75d89f98_9807_11ea_9011_a4c3f07f6867row3_col3\" class=\"data row3 col3\" >0.907637</td>\n",
       "                        <td id=\"T_75d89f98_9807_11ea_9011_a4c3f07f6867row3_col4\" class=\"data row3 col4\" >17.981513</td>\n",
       "                        <td id=\"T_75d89f98_9807_11ea_9011_a4c3f07f6867row3_col5\" class=\"data row3 col5\" >3</td>\n",
       "            </tr>\n",
       "            <tr>\n",
       "                        <th id=\"T_75d89f98_9807_11ea_9011_a4c3f07f6867level0_row4\" class=\"row_heading level0 row4\" >Germany</th>\n",
       "                        <td id=\"T_75d89f98_9807_11ea_9011_a4c3f07f6867row4_col0\" class=\"data row4 col0\" >172576.000000</td>\n",
       "                        <td id=\"T_75d89f98_9807_11ea_9011_a4c3f07f6867row4_col1\" class=\"data row4 col1\" >145617.000000</td>\n",
       "                        <td id=\"T_75d89f98_9807_11ea_9011_a4c3f07f6867row4_col2\" class=\"data row4 col2\" >7661.000000</td>\n",
       "                        <td id=\"T_75d89f98_9807_11ea_9011_a4c3f07f6867row4_col3\" class=\"data row4 col3\" >4.439204</td>\n",
       "                        <td id=\"T_75d89f98_9807_11ea_9011_a4c3f07f6867row4_col4\" class=\"data row4 col4\" >84.378477</td>\n",
       "                        <td id=\"T_75d89f98_9807_11ea_9011_a4c3f07f6867row4_col5\" class=\"data row4 col5\" >3</td>\n",
       "            </tr>\n",
       "            <tr>\n",
       "                        <th id=\"T_75d89f98_9807_11ea_9011_a4c3f07f6867level0_row5\" class=\"row_heading level0 row5\" >Brazil</th>\n",
       "                        <td id=\"T_75d89f98_9807_11ea_9011_a4c3f07f6867row5_col0\" class=\"data row5 col0\" >169594.000000</td>\n",
       "                        <td id=\"T_75d89f98_9807_11ea_9011_a4c3f07f6867row5_col1\" class=\"data row5 col1\" >67384.000000</td>\n",
       "                        <td id=\"T_75d89f98_9807_11ea_9011_a4c3f07f6867row5_col2\" class=\"data row5 col2\" >11653.000000</td>\n",
       "                        <td id=\"T_75d89f98_9807_11ea_9011_a4c3f07f6867row5_col3\" class=\"data row5 col3\" >6.871116</td>\n",
       "                        <td id=\"T_75d89f98_9807_11ea_9011_a4c3f07f6867row5_col4\" class=\"data row5 col4\" >39.732538</td>\n",
       "                        <td id=\"T_75d89f98_9807_11ea_9011_a4c3f07f6867row5_col5\" class=\"data row5 col5\" >3</td>\n",
       "            </tr>\n",
       "            <tr>\n",
       "                        <th id=\"T_75d89f98_9807_11ea_9011_a4c3f07f6867level0_row6\" class=\"row_heading level0 row6\" >Turkey</th>\n",
       "                        <td id=\"T_75d89f98_9807_11ea_9011_a4c3f07f6867row6_col0\" class=\"data row6 col0\" >139771.000000</td>\n",
       "                        <td id=\"T_75d89f98_9807_11ea_9011_a4c3f07f6867row6_col1\" class=\"data row6 col1\" >95780.000000</td>\n",
       "                        <td id=\"T_75d89f98_9807_11ea_9011_a4c3f07f6867row6_col2\" class=\"data row6 col2\" >3841.000000</td>\n",
       "                        <td id=\"T_75d89f98_9807_11ea_9011_a4c3f07f6867row6_col3\" class=\"data row6 col3\" >2.748066</td>\n",
       "                        <td id=\"T_75d89f98_9807_11ea_9011_a4c3f07f6867row6_col4\" class=\"data row6 col4\" >68.526375</td>\n",
       "                        <td id=\"T_75d89f98_9807_11ea_9011_a4c3f07f6867row6_col5\" class=\"data row6 col5\" >3</td>\n",
       "            </tr>\n",
       "            <tr>\n",
       "                        <th id=\"T_75d89f98_9807_11ea_9011_a4c3f07f6867level0_row7\" class=\"row_heading level0 row7\" >Iran</th>\n",
       "                        <td id=\"T_75d89f98_9807_11ea_9011_a4c3f07f6867row7_col0\" class=\"data row7 col0\" >109286.000000</td>\n",
       "                        <td id=\"T_75d89f98_9807_11ea_9011_a4c3f07f6867row7_col1\" class=\"data row7 col1\" >87422.000000</td>\n",
       "                        <td id=\"T_75d89f98_9807_11ea_9011_a4c3f07f6867row7_col2\" class=\"data row7 col2\" >6685.000000</td>\n",
       "                        <td id=\"T_75d89f98_9807_11ea_9011_a4c3f07f6867row7_col3\" class=\"data row7 col3\" >6.116977</td>\n",
       "                        <td id=\"T_75d89f98_9807_11ea_9011_a4c3f07f6867row7_col4\" class=\"data row7 col4\" >79.993778</td>\n",
       "                        <td id=\"T_75d89f98_9807_11ea_9011_a4c3f07f6867row7_col5\" class=\"data row7 col5\" >3</td>\n",
       "            </tr>\n",
       "            <tr>\n",
       "                        <th id=\"T_75d89f98_9807_11ea_9011_a4c3f07f6867level0_row8\" class=\"row_heading level0 row8\" >Mainland China</th>\n",
       "                        <td id=\"T_75d89f98_9807_11ea_9011_a4c3f07f6867row8_col0\" class=\"data row8 col0\" >82919.000000</td>\n",
       "                        <td id=\"T_75d89f98_9807_11ea_9011_a4c3f07f6867row8_col1\" class=\"data row8 col1\" >78171.000000</td>\n",
       "                        <td id=\"T_75d89f98_9807_11ea_9011_a4c3f07f6867row8_col2\" class=\"data row8 col2\" >4633.000000</td>\n",
       "                        <td id=\"T_75d89f98_9807_11ea_9011_a4c3f07f6867row8_col3\" class=\"data row8 col3\" >5.587380</td>\n",
       "                        <td id=\"T_75d89f98_9807_11ea_9011_a4c3f07f6867row8_col4\" class=\"data row8 col4\" >94.273930</td>\n",
       "                        <td id=\"T_75d89f98_9807_11ea_9011_a4c3f07f6867row8_col5\" class=\"data row8 col5\" >3</td>\n",
       "            </tr>\n",
       "            <tr>\n",
       "                        <th id=\"T_75d89f98_9807_11ea_9011_a4c3f07f6867level0_row9\" class=\"row_heading level0 row9\" >Spain</th>\n",
       "                        <td id=\"T_75d89f98_9807_11ea_9011_a4c3f07f6867row9_col0\" class=\"data row9 col0\" >227436.000000</td>\n",
       "                        <td id=\"T_75d89f98_9807_11ea_9011_a4c3f07f6867row9_col1\" class=\"data row9 col1\" >137139.000000</td>\n",
       "                        <td id=\"T_75d89f98_9807_11ea_9011_a4c3f07f6867row9_col2\" class=\"data row9 col2\" >26744.000000</td>\n",
       "                        <td id=\"T_75d89f98_9807_11ea_9011_a4c3f07f6867row9_col3\" class=\"data row9 col3\" >11.758912</td>\n",
       "                        <td id=\"T_75d89f98_9807_11ea_9011_a4c3f07f6867row9_col4\" class=\"data row9 col4\" >60.297842</td>\n",
       "                        <td id=\"T_75d89f98_9807_11ea_9011_a4c3f07f6867row9_col5\" class=\"data row9 col5\" >4</td>\n",
       "            </tr>\n",
       "            <tr>\n",
       "                        <th id=\"T_75d89f98_9807_11ea_9011_a4c3f07f6867level0_row10\" class=\"row_heading level0 row10\" >Italy</th>\n",
       "                        <td id=\"T_75d89f98_9807_11ea_9011_a4c3f07f6867row10_col0\" class=\"data row10 col0\" >219814.000000</td>\n",
       "                        <td id=\"T_75d89f98_9807_11ea_9011_a4c3f07f6867row10_col1\" class=\"data row10 col1\" >106587.000000</td>\n",
       "                        <td id=\"T_75d89f98_9807_11ea_9011_a4c3f07f6867row10_col2\" class=\"data row10 col2\" >30739.000000</td>\n",
       "                        <td id=\"T_75d89f98_9807_11ea_9011_a4c3f07f6867row10_col3\" class=\"data row10 col3\" >13.984096</td>\n",
       "                        <td id=\"T_75d89f98_9807_11ea_9011_a4c3f07f6867row10_col4\" class=\"data row10 col4\" >48.489632</td>\n",
       "                        <td id=\"T_75d89f98_9807_11ea_9011_a4c3f07f6867row10_col5\" class=\"data row10 col5\" >4</td>\n",
       "            </tr>\n",
       "            <tr>\n",
       "                        <th id=\"T_75d89f98_9807_11ea_9011_a4c3f07f6867level0_row11\" class=\"row_heading level0 row11\" >Canada</th>\n",
       "                        <td id=\"T_75d89f98_9807_11ea_9011_a4c3f07f6867row11_col0\" class=\"data row11 col0\" >71264.000000</td>\n",
       "                        <td id=\"T_75d89f98_9807_11ea_9011_a4c3f07f6867row11_col1\" class=\"data row11 col1\" >33007.000000</td>\n",
       "                        <td id=\"T_75d89f98_9807_11ea_9011_a4c3f07f6867row11_col2\" class=\"data row11 col2\" >5115.000000</td>\n",
       "                        <td id=\"T_75d89f98_9807_11ea_9011_a4c3f07f6867row11_col3\" class=\"data row11 col3\" >7.177537</td>\n",
       "                        <td id=\"T_75d89f98_9807_11ea_9011_a4c3f07f6867row11_col4\" class=\"data row11 col4\" >46.316513</td>\n",
       "                        <td id=\"T_75d89f98_9807_11ea_9011_a4c3f07f6867row11_col5\" class=\"data row11 col5\" >0</td>\n",
       "            </tr>\n",
       "            <tr>\n",
       "                        <th id=\"T_75d89f98_9807_11ea_9011_a4c3f07f6867level0_row12\" class=\"row_heading level0 row12\" >India</th>\n",
       "                        <td id=\"T_75d89f98_9807_11ea_9011_a4c3f07f6867row12_col0\" class=\"data row12 col0\" >70768.000000</td>\n",
       "                        <td id=\"T_75d89f98_9807_11ea_9011_a4c3f07f6867row12_col1\" class=\"data row12 col1\" >22549.000000</td>\n",
       "                        <td id=\"T_75d89f98_9807_11ea_9011_a4c3f07f6867row12_col2\" class=\"data row12 col2\" >2294.000000</td>\n",
       "                        <td id=\"T_75d89f98_9807_11ea_9011_a4c3f07f6867row12_col3\" class=\"data row12 col3\" >3.241578</td>\n",
       "                        <td id=\"T_75d89f98_9807_11ea_9011_a4c3f07f6867row12_col4\" class=\"data row12 col4\" >31.863272</td>\n",
       "                        <td id=\"T_75d89f98_9807_11ea_9011_a4c3f07f6867row12_col5\" class=\"data row12 col5\" >0</td>\n",
       "            </tr>\n",
       "            <tr>\n",
       "                        <th id=\"T_75d89f98_9807_11ea_9011_a4c3f07f6867level0_row13\" class=\"row_heading level0 row13\" >Peru</th>\n",
       "                        <td id=\"T_75d89f98_9807_11ea_9011_a4c3f07f6867row13_col0\" class=\"data row13 col0\" >68822.000000</td>\n",
       "                        <td id=\"T_75d89f98_9807_11ea_9011_a4c3f07f6867row13_col1\" class=\"data row13 col1\" >22406.000000</td>\n",
       "                        <td id=\"T_75d89f98_9807_11ea_9011_a4c3f07f6867row13_col2\" class=\"data row13 col2\" >1961.000000</td>\n",
       "                        <td id=\"T_75d89f98_9807_11ea_9011_a4c3f07f6867row13_col3\" class=\"data row13 col3\" >2.849380</td>\n",
       "                        <td id=\"T_75d89f98_9807_11ea_9011_a4c3f07f6867row13_col4\" class=\"data row13 col4\" >32.556450</td>\n",
       "                        <td id=\"T_75d89f98_9807_11ea_9011_a4c3f07f6867row13_col5\" class=\"data row13 col5\" >0</td>\n",
       "            </tr>\n",
       "            <tr>\n",
       "                        <th id=\"T_75d89f98_9807_11ea_9011_a4c3f07f6867level0_row14\" class=\"row_heading level0 row14\" >Belgium</th>\n",
       "                        <td id=\"T_75d89f98_9807_11ea_9011_a4c3f07f6867row14_col0\" class=\"data row14 col0\" >53449.000000</td>\n",
       "                        <td id=\"T_75d89f98_9807_11ea_9011_a4c3f07f6867row14_col1\" class=\"data row14 col1\" >13697.000000</td>\n",
       "                        <td id=\"T_75d89f98_9807_11ea_9011_a4c3f07f6867row14_col2\" class=\"data row14 col2\" >8707.000000</td>\n",
       "                        <td id=\"T_75d89f98_9807_11ea_9011_a4c3f07f6867row14_col3\" class=\"data row14 col3\" >16.290295</td>\n",
       "                        <td id=\"T_75d89f98_9807_11ea_9011_a4c3f07f6867row14_col4\" class=\"data row14 col4\" >25.626298</td>\n",
       "                        <td id=\"T_75d89f98_9807_11ea_9011_a4c3f07f6867row14_col5\" class=\"data row14 col5\" >0</td>\n",
       "            </tr>\n",
       "            <tr>\n",
       "                        <th id=\"T_75d89f98_9807_11ea_9011_a4c3f07f6867level0_row15\" class=\"row_heading level0 row15\" >Netherlands</th>\n",
       "                        <td id=\"T_75d89f98_9807_11ea_9011_a4c3f07f6867row15_col0\" class=\"data row15 col0\" >42987.000000</td>\n",
       "                        <td id=\"T_75d89f98_9807_11ea_9011_a4c3f07f6867row15_col1\" class=\"data row15 col1\" >149.000000</td>\n",
       "                        <td id=\"T_75d89f98_9807_11ea_9011_a4c3f07f6867row15_col2\" class=\"data row15 col2\" >5475.000000</td>\n",
       "                        <td id=\"T_75d89f98_9807_11ea_9011_a4c3f07f6867row15_col3\" class=\"data row15 col3\" >12.736409</td>\n",
       "                        <td id=\"T_75d89f98_9807_11ea_9011_a4c3f07f6867row15_col4\" class=\"data row15 col4\" >0.346616</td>\n",
       "                        <td id=\"T_75d89f98_9807_11ea_9011_a4c3f07f6867row15_col5\" class=\"data row15 col5\" >0</td>\n",
       "            </tr>\n",
       "            <tr>\n",
       "                        <th id=\"T_75d89f98_9807_11ea_9011_a4c3f07f6867level0_row16\" class=\"row_heading level0 row16\" >Saudi Arabia</th>\n",
       "                        <td id=\"T_75d89f98_9807_11ea_9011_a4c3f07f6867row16_col0\" class=\"data row16 col0\" >41014.000000</td>\n",
       "                        <td id=\"T_75d89f98_9807_11ea_9011_a4c3f07f6867row16_col1\" class=\"data row16 col1\" >12737.000000</td>\n",
       "                        <td id=\"T_75d89f98_9807_11ea_9011_a4c3f07f6867row16_col2\" class=\"data row16 col2\" >255.000000</td>\n",
       "                        <td id=\"T_75d89f98_9807_11ea_9011_a4c3f07f6867row16_col3\" class=\"data row16 col3\" >0.621739</td>\n",
       "                        <td id=\"T_75d89f98_9807_11ea_9011_a4c3f07f6867row16_col4\" class=\"data row16 col4\" >31.055249</td>\n",
       "                        <td id=\"T_75d89f98_9807_11ea_9011_a4c3f07f6867row16_col5\" class=\"data row16 col5\" >0</td>\n",
       "            </tr>\n",
       "            <tr>\n",
       "                        <th id=\"T_75d89f98_9807_11ea_9011_a4c3f07f6867level0_row17\" class=\"row_heading level0 row17\" >Mexico</th>\n",
       "                        <td id=\"T_75d89f98_9807_11ea_9011_a4c3f07f6867row17_col0\" class=\"data row17 col0\" >36327.000000</td>\n",
       "                        <td id=\"T_75d89f98_9807_11ea_9011_a4c3f07f6867row17_col1\" class=\"data row17 col1\" >23100.000000</td>\n",
       "                        <td id=\"T_75d89f98_9807_11ea_9011_a4c3f07f6867row17_col2\" class=\"data row17 col2\" >3573.000000</td>\n",
       "                        <td id=\"T_75d89f98_9807_11ea_9011_a4c3f07f6867row17_col3\" class=\"data row17 col3\" >9.835659</td>\n",
       "                        <td id=\"T_75d89f98_9807_11ea_9011_a4c3f07f6867row17_col4\" class=\"data row17 col4\" >63.589066</td>\n",
       "                        <td id=\"T_75d89f98_9807_11ea_9011_a4c3f07f6867row17_col5\" class=\"data row17 col5\" >0</td>\n",
       "            </tr>\n",
       "            <tr>\n",
       "                        <th id=\"T_75d89f98_9807_11ea_9011_a4c3f07f6867level0_row18\" class=\"row_heading level0 row18\" >Pakistan</th>\n",
       "                        <td id=\"T_75d89f98_9807_11ea_9011_a4c3f07f6867row18_col0\" class=\"data row18 col0\" >32081.000000</td>\n",
       "                        <td id=\"T_75d89f98_9807_11ea_9011_a4c3f07f6867row18_col1\" class=\"data row18 col1\" >8555.000000</td>\n",
       "                        <td id=\"T_75d89f98_9807_11ea_9011_a4c3f07f6867row18_col2\" class=\"data row18 col2\" >706.000000</td>\n",
       "                        <td id=\"T_75d89f98_9807_11ea_9011_a4c3f07f6867row18_col3\" class=\"data row18 col3\" >2.200680</td>\n",
       "                        <td id=\"T_75d89f98_9807_11ea_9011_a4c3f07f6867row18_col4\" class=\"data row18 col4\" >26.666874</td>\n",
       "                        <td id=\"T_75d89f98_9807_11ea_9011_a4c3f07f6867row18_col5\" class=\"data row18 col5\" >0</td>\n",
       "            </tr>\n",
       "            <tr>\n",
       "                        <th id=\"T_75d89f98_9807_11ea_9011_a4c3f07f6867level0_row19\" class=\"row_heading level0 row19\" >Switzerland</th>\n",
       "                        <td id=\"T_75d89f98_9807_11ea_9011_a4c3f07f6867row19_col0\" class=\"data row19 col0\" >30344.000000</td>\n",
       "                        <td id=\"T_75d89f98_9807_11ea_9011_a4c3f07f6867row19_col1\" class=\"data row19 col1\" >26800.000000</td>\n",
       "                        <td id=\"T_75d89f98_9807_11ea_9011_a4c3f07f6867row19_col2\" class=\"data row19 col2\" >1845.000000</td>\n",
       "                        <td id=\"T_75d89f98_9807_11ea_9011_a4c3f07f6867row19_col3\" class=\"data row19 col3\" >6.080279</td>\n",
       "                        <td id=\"T_75d89f98_9807_11ea_9011_a4c3f07f6867row19_col4\" class=\"data row19 col4\" >88.320591</td>\n",
       "                        <td id=\"T_75d89f98_9807_11ea_9011_a4c3f07f6867row19_col5\" class=\"data row19 col5\" >0</td>\n",
       "            </tr>\n",
       "            <tr>\n",
       "                        <th id=\"T_75d89f98_9807_11ea_9011_a4c3f07f6867level0_row20\" class=\"row_heading level0 row20\" >Chile</th>\n",
       "                        <td id=\"T_75d89f98_9807_11ea_9011_a4c3f07f6867row20_col0\" class=\"data row20 col0\" >30063.000000</td>\n",
       "                        <td id=\"T_75d89f98_9807_11ea_9011_a4c3f07f6867row20_col1\" class=\"data row20 col1\" >13605.000000</td>\n",
       "                        <td id=\"T_75d89f98_9807_11ea_9011_a4c3f07f6867row20_col2\" class=\"data row20 col2\" >323.000000</td>\n",
       "                        <td id=\"T_75d89f98_9807_11ea_9011_a4c3f07f6867row20_col3\" class=\"data row20 col3\" >1.074410</td>\n",
       "                        <td id=\"T_75d89f98_9807_11ea_9011_a4c3f07f6867row20_col4\" class=\"data row20 col4\" >45.254965</td>\n",
       "                        <td id=\"T_75d89f98_9807_11ea_9011_a4c3f07f6867row20_col5\" class=\"data row20 col5\" >0</td>\n",
       "            </tr>\n",
       "            <tr>\n",
       "                        <th id=\"T_75d89f98_9807_11ea_9011_a4c3f07f6867level0_row21\" class=\"row_heading level0 row21\" >Ecuador</th>\n",
       "                        <td id=\"T_75d89f98_9807_11ea_9011_a4c3f07f6867row21_col0\" class=\"data row21 col0\" >29509.000000</td>\n",
       "                        <td id=\"T_75d89f98_9807_11ea_9011_a4c3f07f6867row21_col1\" class=\"data row21 col1\" >3433.000000</td>\n",
       "                        <td id=\"T_75d89f98_9807_11ea_9011_a4c3f07f6867row21_col2\" class=\"data row21 col2\" >2145.000000</td>\n",
       "                        <td id=\"T_75d89f98_9807_11ea_9011_a4c3f07f6867row21_col3\" class=\"data row21 col3\" >7.268969</td>\n",
       "                        <td id=\"T_75d89f98_9807_11ea_9011_a4c3f07f6867row21_col4\" class=\"data row21 col4\" >11.633739</td>\n",
       "                        <td id=\"T_75d89f98_9807_11ea_9011_a4c3f07f6867row21_col5\" class=\"data row21 col5\" >0</td>\n",
       "            </tr>\n",
       "            <tr>\n",
       "                        <th id=\"T_75d89f98_9807_11ea_9011_a4c3f07f6867level0_row22\" class=\"row_heading level0 row22\" >Portugal</th>\n",
       "                        <td id=\"T_75d89f98_9807_11ea_9011_a4c3f07f6867row22_col0\" class=\"data row22 col0\" >27679.000000</td>\n",
       "                        <td id=\"T_75d89f98_9807_11ea_9011_a4c3f07f6867row22_col1\" class=\"data row22 col1\" >2549.000000</td>\n",
       "                        <td id=\"T_75d89f98_9807_11ea_9011_a4c3f07f6867row22_col2\" class=\"data row22 col2\" >1144.000000</td>\n",
       "                        <td id=\"T_75d89f98_9807_11ea_9011_a4c3f07f6867row22_col3\" class=\"data row22 col3\" >4.133097</td>\n",
       "                        <td id=\"T_75d89f98_9807_11ea_9011_a4c3f07f6867row22_col4\" class=\"data row22 col4\" >9.209148</td>\n",
       "                        <td id=\"T_75d89f98_9807_11ea_9011_a4c3f07f6867row22_col5\" class=\"data row22 col5\" >0</td>\n",
       "            </tr>\n",
       "            <tr>\n",
       "                        <th id=\"T_75d89f98_9807_11ea_9011_a4c3f07f6867level0_row23\" class=\"row_heading level0 row23\" >Sweden</th>\n",
       "                        <td id=\"T_75d89f98_9807_11ea_9011_a4c3f07f6867row23_col0\" class=\"data row23 col0\" >26670.000000</td>\n",
       "                        <td id=\"T_75d89f98_9807_11ea_9011_a4c3f07f6867row23_col1\" class=\"data row23 col1\" >4971.000000</td>\n",
       "                        <td id=\"T_75d89f98_9807_11ea_9011_a4c3f07f6867row23_col2\" class=\"data row23 col2\" >3256.000000</td>\n",
       "                        <td id=\"T_75d89f98_9807_11ea_9011_a4c3f07f6867row23_col3\" class=\"data row23 col3\" >12.208474</td>\n",
       "                        <td id=\"T_75d89f98_9807_11ea_9011_a4c3f07f6867row23_col4\" class=\"data row23 col4\" >18.638920</td>\n",
       "                        <td id=\"T_75d89f98_9807_11ea_9011_a4c3f07f6867row23_col5\" class=\"data row23 col5\" >0</td>\n",
       "            </tr>\n",
       "            <tr>\n",
       "                        <th id=\"T_75d89f98_9807_11ea_9011_a4c3f07f6867level0_row24\" class=\"row_heading level0 row24\" >Belarus</th>\n",
       "                        <td id=\"T_75d89f98_9807_11ea_9011_a4c3f07f6867row24_col0\" class=\"data row24 col0\" >23906.000000</td>\n",
       "                        <td id=\"T_75d89f98_9807_11ea_9011_a4c3f07f6867row24_col1\" class=\"data row24 col1\" >6531.000000</td>\n",
       "                        <td id=\"T_75d89f98_9807_11ea_9011_a4c3f07f6867row24_col2\" class=\"data row24 col2\" >135.000000</td>\n",
       "                        <td id=\"T_75d89f98_9807_11ea_9011_a4c3f07f6867row24_col3\" class=\"data row24 col3\" >0.564712</td>\n",
       "                        <td id=\"T_75d89f98_9807_11ea_9011_a4c3f07f6867row24_col4\" class=\"data row24 col4\" >27.319501</td>\n",
       "                        <td id=\"T_75d89f98_9807_11ea_9011_a4c3f07f6867row24_col5\" class=\"data row24 col5\" >0</td>\n",
       "            </tr>\n",
       "            <tr>\n",
       "                        <th id=\"T_75d89f98_9807_11ea_9011_a4c3f07f6867level0_row25\" class=\"row_heading level0 row25\" >Singapore</th>\n",
       "                        <td id=\"T_75d89f98_9807_11ea_9011_a4c3f07f6867row25_col0\" class=\"data row25 col0\" >23822.000000</td>\n",
       "                        <td id=\"T_75d89f98_9807_11ea_9011_a4c3f07f6867row25_col1\" class=\"data row25 col1\" >3225.000000</td>\n",
       "                        <td id=\"T_75d89f98_9807_11ea_9011_a4c3f07f6867row25_col2\" class=\"data row25 col2\" >21.000000</td>\n",
       "                        <td id=\"T_75d89f98_9807_11ea_9011_a4c3f07f6867row25_col3\" class=\"data row25 col3\" >0.088154</td>\n",
       "                        <td id=\"T_75d89f98_9807_11ea_9011_a4c3f07f6867row25_col4\" class=\"data row25 col4\" >13.537906</td>\n",
       "                        <td id=\"T_75d89f98_9807_11ea_9011_a4c3f07f6867row25_col5\" class=\"data row25 col5\" >0</td>\n",
       "            </tr>\n",
       "    </tbody></table>"
      ],
      "text/plain": [
       "<pandas.io.formats.style.Styler at 0x24335f0aa88>"
      ]
     },
     "execution_count": 75,
     "metadata": {},
     "output_type": "execute_result"
    }
   ],
   "source": [
    "cluster_summary.style.background_gradient(cmap='Reds')"
   ]
  },
  {
   "cell_type": "code",
   "execution_count": 76,
   "metadata": {},
   "outputs": [
    {
     "data": {
      "text/plain": [
       "<matplotlib.axes._subplots.AxesSubplot at 0x24336297588>"
      ]
     },
     "execution_count": 76,
     "metadata": {},
     "output_type": "execute_result"
    },
    {
     "data": {
      "image/png": "[encoded data removed]",
      "text/plain": [
       "<Figure size 720x360 with 1 Axes>"
      ]
     },
     "metadata": {
      "needs_background": "light"
     },
     "output_type": "display_data"
    }
   ],
   "source": [
    "plt.figure(figsize=(10,5))\n",
    "sns.scatterplot(x=countrywise[\"Confirmed\"],y=countrywise[\"Deaths\"],hue=countrywise[\"Clusters\"],s=100)"
   ]
  },
  {
   "cell_type": "markdown",
   "metadata": {},
   "source": [
    "### Prediction using Machine Learning Models"
   ]
  },
  {
   "cell_type": "code",
   "execution_count": 84,
   "metadata": {},
   "outputs": [
    {
     "data": {
      "text/plain": [
       "Confirmed         555.000000\n",
       "Recovered          28.000000\n",
       "Deaths             17.000000\n",
       "Days Since          0.000000\n",
       "WeekOfYear          4.000000\n",
       "Mortality Rate      3.063063\n",
       "Recovery Rate       5.045045\n",
       "Active Cases      510.000000\n",
       "Closed Cases       45.000000\n",
       "Name: 2020-01-22 00:00:00, dtype: float64"
      ]
     },
     "execution_count": 84,
     "metadata": {},
     "output_type": "execute_result"
    }
   ],
   "source": [
    "datewise.iloc[0]"
   ]
  },
  {
   "cell_type": "code",
   "execution_count": 77,
   "metadata": {},
   "outputs": [],
   "source": [
    "datewise[\"Days Since\"]=datewise.index-datewise.index[0]\n",
    "datewise[\"Days Since\"]=datewise[\"Days Since\"].dt.days"
   ]
  },
  {
   "cell_type": "code",
   "execution_count": 78,
   "metadata": {},
   "outputs": [
    {
     "data": {
      "text/html": [
       "<div>\n",
       "<style scoped>\n",
       "    .dataframe tbody tr th:only-of-type {\n",
       "        vertical-align: middle;\n",
       "    }\n",
       "\n",
       "    .dataframe tbody tr th {\n",
       "        vertical-align: top;\n",
       "    }\n",
       "\n",
       "    .dataframe thead th {\n",
       "        text-align: right;\n",
       "    }\n",
       "</style>\n",
       "<table border=\"1\" class=\"dataframe\">\n",
       "  <thead>\n",
       "    <tr style=\"text-align: right;\">\n",
       "      <th></th>\n",
       "      <th>Confirmed</th>\n",
       "      <th>Recovered</th>\n",
       "      <th>Deaths</th>\n",
       "      <th>Days Since</th>\n",
       "      <th>WeekOfYear</th>\n",
       "      <th>Mortality Rate</th>\n",
       "      <th>Recovery Rate</th>\n",
       "      <th>Active Cases</th>\n",
       "      <th>Closed Cases</th>\n",
       "    </tr>\n",
       "    <tr>\n",
       "      <th>ObservationDate</th>\n",
       "      <th></th>\n",
       "      <th></th>\n",
       "      <th></th>\n",
       "      <th></th>\n",
       "      <th></th>\n",
       "      <th></th>\n",
       "      <th></th>\n",
       "      <th></th>\n",
       "      <th></th>\n",
       "    </tr>\n",
       "  </thead>\n",
       "  <tbody>\n",
       "    <tr>\n",
       "      <th>2020-01-22</th>\n",
       "      <td>555.0</td>\n",
       "      <td>28.0</td>\n",
       "      <td>17.0</td>\n",
       "      <td>0</td>\n",
       "      <td>4</td>\n",
       "      <td>3.063063</td>\n",
       "      <td>5.045045</td>\n",
       "      <td>510.0</td>\n",
       "      <td>45.0</td>\n",
       "    </tr>\n",
       "    <tr>\n",
       "      <th>2020-01-23</th>\n",
       "      <td>653.0</td>\n",
       "      <td>30.0</td>\n",
       "      <td>18.0</td>\n",
       "      <td>1</td>\n",
       "      <td>4</td>\n",
       "      <td>2.756508</td>\n",
       "      <td>4.594181</td>\n",
       "      <td>605.0</td>\n",
       "      <td>48.0</td>\n",
       "    </tr>\n",
       "    <tr>\n",
       "      <th>2020-01-24</th>\n",
       "      <td>941.0</td>\n",
       "      <td>36.0</td>\n",
       "      <td>26.0</td>\n",
       "      <td>2</td>\n",
       "      <td>4</td>\n",
       "      <td>2.763018</td>\n",
       "      <td>3.825717</td>\n",
       "      <td>879.0</td>\n",
       "      <td>62.0</td>\n",
       "    </tr>\n",
       "    <tr>\n",
       "      <th>2020-01-25</th>\n",
       "      <td>1438.0</td>\n",
       "      <td>39.0</td>\n",
       "      <td>42.0</td>\n",
       "      <td>3</td>\n",
       "      <td>4</td>\n",
       "      <td>2.920723</td>\n",
       "      <td>2.712100</td>\n",
       "      <td>1357.0</td>\n",
       "      <td>81.0</td>\n",
       "    </tr>\n",
       "    <tr>\n",
       "      <th>2020-01-26</th>\n",
       "      <td>2118.0</td>\n",
       "      <td>52.0</td>\n",
       "      <td>56.0</td>\n",
       "      <td>4</td>\n",
       "      <td>4</td>\n",
       "      <td>2.644004</td>\n",
       "      <td>2.455146</td>\n",
       "      <td>2010.0</td>\n",
       "      <td>108.0</td>\n",
       "    </tr>\n",
       "  </tbody>\n",
       "</table>\n",
       "</div>"
      ],
      "text/plain": [
       "                 Confirmed  Recovered  Deaths  Days Since  WeekOfYear  \\\n",
       "ObservationDate                                                         \n",
       "2020-01-22           555.0       28.0    17.0           0           4   \n",
       "2020-01-23           653.0       30.0    18.0           1           4   \n",
       "2020-01-24           941.0       36.0    26.0           2           4   \n",
       "2020-01-25          1438.0       39.0    42.0           3           4   \n",
       "2020-01-26          2118.0       52.0    56.0           4           4   \n",
       "\n",
       "                 Mortality Rate  Recovery Rate  Active Cases  Closed Cases  \n",
       "ObservationDate                                                             \n",
       "2020-01-22             3.063063       5.045045         510.0          45.0  \n",
       "2020-01-23             2.756508       4.594181         605.0          48.0  \n",
       "2020-01-24             2.763018       3.825717         879.0          62.0  \n",
       "2020-01-25             2.920723       2.712100        1357.0          81.0  \n",
       "2020-01-26             2.644004       2.455146        2010.0         108.0  "
      ]
     },
     "execution_count": 78,
     "metadata": {},
     "output_type": "execute_result"
    }
   ],
   "source": [
    "datewise.head()"
   ]
  },
  {
   "cell_type": "code",
   "execution_count": 85,
   "metadata": {},
   "outputs": [],
   "source": [
    "train_ml=datewise.iloc[:int(datewise.shape[0]*0.95)]\n",
    "valid_ml=datewise.iloc[int(datewise.shape[0]*0.95):]\n",
    "model_scores=[]"
   ]
  },
  {
   "cell_type": "code",
   "execution_count": 86,
   "metadata": {},
   "outputs": [],
   "source": [
    "lin_reg=LinearRegression(normalize=True)"
   ]
  },
  {
   "cell_type": "code",
   "execution_count": 93,
   "metadata": {},
   "outputs": [
    {
     "data": {
      "text/plain": [
       "LinearRegression(normalize=True)"
      ]
     },
     "execution_count": 93,
     "metadata": {},
     "output_type": "execute_result"
    }
   ],
   "source": [
    "lin_reg.fit(np.array(train_ml[\"Days Since\"]).reshape(-1,1),\n",
    "            np.array(train_ml[\"Confirmed\"]).reshape(-1,1))"
   ]
  },
  {
   "cell_type": "code",
   "execution_count": 94,
   "metadata": {},
   "outputs": [],
   "source": [
    "prediction_valid_linreg = lin_reg.predict(np.array(valid_ml[\"Days Since\"]).reshape(-1,1))"
   ]
  },
  {
   "cell_type": "code",
   "execution_count": 95,
   "metadata": {},
   "outputs": [
    {
     "data": {
      "text/plain": [
       "array([[2602442.4018315 ],\n",
       "       [2635097.41085078],\n",
       "       [2667752.41987007],\n",
       "       [2700407.42888935],\n",
       "       [2733062.43790863],\n",
       "       [2765717.44692791]])"
      ]
     },
     "execution_count": 95,
     "metadata": {},
     "output_type": "execute_result"
    }
   ],
   "source": [
    "prediction_valid_linreg"
   ]
  },
  {
   "cell_type": "code",
   "execution_count": 96,
   "metadata": {},
   "outputs": [
    {
     "data": {
      "text/plain": [
       "ObservationDate\n",
       "2020-05-06    3755341.0\n",
       "2020-05-07    3845718.0\n",
       "2020-05-08    3938064.0\n",
       "2020-05-09    4024009.0\n",
       "2020-05-10    4101699.0\n",
       "2020-05-11    4177504.0\n",
       "Name: Confirmed, dtype: float64"
      ]
     },
     "execution_count": 96,
     "metadata": {},
     "output_type": "execute_result"
    }
   ],
   "source": [
    "valid_ml[\"Confirmed\"]"
   ]
  },
  {
   "cell_type": "code",
   "execution_count": 97,
   "metadata": {},
   "outputs": [],
   "source": [
    "model_scores.append(np.sqrt(mean_squared_error(valid_ml[\"Confirmed\"],\n",
    "                                               prediction_valid_linreg)))"
   ]
  },
  {
   "cell_type": "code",
   "execution_count": 98,
   "metadata": {},
   "outputs": [
    {
     "data": {
      "text/plain": [
       "1292716.6052360507"
      ]
     },
     "execution_count": 98,
     "metadata": {},
     "output_type": "execute_result"
    }
   ],
   "source": [
    "np.sqrt(mean_squared_error(valid_ml[\"Confirmed\"],prediction_valid_linreg))"
   ]
  },
  {
   "cell_type": "code",
   "execution_count": 99,
   "metadata": {},
   "outputs": [
    {
     "data": {
      "text/plain": [
       "<matplotlib.legend.Legend at 0x24337513588>"
      ]
     },
     "execution_count": 99,
     "metadata": {},
     "output_type": "execute_result"
    },
    {
     "data": {
      "image/png": "[encoded data removed]",
      "text/plain": [
       "<Figure size 792x432 with 1 Axes>"
      ]
     },
     "metadata": {
      "needs_background": "light"
     },
     "output_type": "display_data"
    }
   ],
   "source": [
    "plt.figure(figsize=(11,6))\n",
    "prediction_linreg=lin_reg.predict(np.array(datewise[\"Days Since\"]).reshape(-1,1))\n",
    "plt.plot(datewise[\"Confirmed\"],label=\"Actual Confirmed Cases\")\n",
    "plt.plot(datewise.index,prediction_linreg, linestyle='--',label=\"Predicted Confirmed Cases using Linear Regression\",color='black')\n",
    "plt.xlabel('Time')\n",
    "plt.ylabel('Confirmed Cases')\n",
    "plt.title(\"Confirmed Cases Linear Regression Prediction\")\n",
    "plt.xticks(rotation=90)\n",
    "plt.legend()"
   ]
  },
  {
   "cell_type": "code",
   "execution_count": 100,
   "metadata": {},
   "outputs": [],
   "source": [
    "#The Linear Regression Model is absolutely falling aprat. As it is clearly visible that the trend of Confirmed Cases in absolutely not Linear"
   ]
  },
  {
   "cell_type": "code",
   "execution_count": 101,
   "metadata": {},
   "outputs": [],
   "source": [
    "poly = PolynomialFeatures(degree = 6)"
   ]
  },
  {
   "cell_type": "code",
   "execution_count": 102,
   "metadata": {},
   "outputs": [],
   "source": [
    "train_poly=poly.fit_transform(np.array(train_ml[\"Days Since\"]).reshape(-1,1))\n",
    "valid_poly=poly.fit_transform(np.array(valid_ml[\"Days Since\"]).reshape(-1,1))\n",
    "y=train_ml[\"Confirmed\"]"
   ]
  },
  {
   "cell_type": "code",
   "execution_count": 103,
   "metadata": {},
   "outputs": [
    {
     "data": {
      "text/plain": [
       "array([[1.00000000e+00, 0.00000000e+00, 0.00000000e+00, 0.00000000e+00,\n",
       "        0.00000000e+00, 0.00000000e+00, 0.00000000e+00],\n",
       "       [1.00000000e+00, 1.00000000e+00, 1.00000000e+00, 1.00000000e+00,\n",
       "        1.00000000e+00, 1.00000000e+00, 1.00000000e+00],\n",
       "       [1.00000000e+00, 2.00000000e+00, 4.00000000e+00, 8.00000000e+00,\n",
       "        1.60000000e+01, 3.20000000e+01, 6.40000000e+01],\n",
       "       [1.00000000e+00, 3.00000000e+00, 9.00000000e+00, 2.70000000e+01,\n",
       "        8.10000000e+01, 2.43000000e+02, 7.29000000e+02],\n",
       "       [1.00000000e+00, 4.00000000e+00, 1.60000000e+01, 6.40000000e+01,\n",
       "        2.56000000e+02, 1.02400000e+03, 4.09600000e+03],\n",
       "       [1.00000000e+00, 5.00000000e+00, 2.50000000e+01, 1.25000000e+02,\n",
       "        6.25000000e+02, 3.12500000e+03, 1.56250000e+04],\n",
       "       [1.00000000e+00, 6.00000000e+00, 3.60000000e+01, 2.16000000e+02,\n",
       "        1.29600000e+03, 7.77600000e+03, 4.66560000e+04],\n",
       "       [1.00000000e+00, 7.00000000e+00, 4.90000000e+01, 3.43000000e+02,\n",
       "        2.40100000e+03, 1.68070000e+04, 1.17649000e+05],\n",
       "       [1.00000000e+00, 8.00000000e+00, 6.40000000e+01, 5.12000000e+02,\n",
       "        4.09600000e+03, 3.27680000e+04, 2.62144000e+05],\n",
       "       [1.00000000e+00, 9.00000000e+00, 8.10000000e+01, 7.29000000e+02,\n",
       "        6.56100000e+03, 5.90490000e+04, 5.31441000e+05],\n",
       "       [1.00000000e+00, 1.00000000e+01, 1.00000000e+02, 1.00000000e+03,\n",
       "        1.00000000e+04, 1.00000000e+05, 1.00000000e+06],\n",
       "       [1.00000000e+00, 1.10000000e+01, 1.21000000e+02, 1.33100000e+03,\n",
       "        1.46410000e+04, 1.61051000e+05, 1.77156100e+06],\n",
       "       [1.00000000e+00, 1.20000000e+01, 1.44000000e+02, 1.72800000e+03,\n",
       "        2.07360000e+04, 2.48832000e+05, 2.98598400e+06],\n",
       "       [1.00000000e+00, 1.30000000e+01, 1.69000000e+02, 2.19700000e+03,\n",
       "        2.85610000e+04, 3.71293000e+05, 4.82680900e+06],\n",
       "       [1.00000000e+00, 1.40000000e+01, 1.96000000e+02, 2.74400000e+03,\n",
       "        3.84160000e+04, 5.37824000e+05, 7.52953600e+06],\n",
       "       [1.00000000e+00, 1.50000000e+01, 2.25000000e+02, 3.37500000e+03,\n",
       "        5.06250000e+04, 7.59375000e+05, 1.13906250e+07],\n",
       "       [1.00000000e+00, 1.60000000e+01, 2.56000000e+02, 4.09600000e+03,\n",
       "        6.55360000e+04, 1.04857600e+06, 1.67772160e+07],\n",
       "       [1.00000000e+00, 1.70000000e+01, 2.89000000e+02, 4.91300000e+03,\n",
       "        8.35210000e+04, 1.41985700e+06, 2.41375690e+07],\n",
       "       [1.00000000e+00, 1.80000000e+01, 3.24000000e+02, 5.83200000e+03,\n",
       "        1.04976000e+05, 1.88956800e+06, 3.40122240e+07],\n",
       "       [1.00000000e+00, 1.90000000e+01, 3.61000000e+02, 6.85900000e+03,\n",
       "        1.30321000e+05, 2.47609900e+06, 4.70458810e+07],\n",
       "       [1.00000000e+00, 2.00000000e+01, 4.00000000e+02, 8.00000000e+03,\n",
       "        1.60000000e+05, 3.20000000e+06, 6.40000000e+07],\n",
       "       [1.00000000e+00, 2.10000000e+01, 4.41000000e+02, 9.26100000e+03,\n",
       "        1.94481000e+05, 4.08410100e+06, 8.57661210e+07],\n",
       "       [1.00000000e+00, 2.20000000e+01, 4.84000000e+02, 1.06480000e+04,\n",
       "        2.34256000e+05, 5.15363200e+06, 1.13379904e+08],\n",
       "       [1.00000000e+00, 2.30000000e+01, 5.29000000e+02, 1.21670000e+04,\n",
       "        2.79841000e+05, 6.43634300e+06, 1.48035889e+08],\n",
       "       [1.00000000e+00, 2.40000000e+01, 5.76000000e+02, 1.38240000e+04,\n",
       "        3.31776000e+05, 7.96262400e+06, 1.91102976e+08],\n",
       "       [1.00000000e+00, 2.50000000e+01, 6.25000000e+02, 1.56250000e+04,\n",
       "        3.90625000e+05, 9.76562500e+06, 2.44140625e+08],\n",
       "       [1.00000000e+00, 2.60000000e+01, 6.76000000e+02, 1.75760000e+04,\n",
       "        4.56976000e+05, 1.18813760e+07, 3.08915776e+08],\n",
       "       [1.00000000e+00, 2.70000000e+01, 7.29000000e+02, 1.96830000e+04,\n",
       "        5.31441000e+05, 1.43489070e+07, 3.87420489e+08],\n",
       "       [1.00000000e+00, 2.80000000e+01, 7.84000000e+02, 2.19520000e+04,\n",
       "        6.14656000e+05, 1.72103680e+07, 4.81890304e+08],\n",
       "       [1.00000000e+00, 2.90000000e+01, 8.41000000e+02, 2.43890000e+04,\n",
       "        7.07281000e+05, 2.05111490e+07, 5.94823321e+08],\n",
       "       [1.00000000e+00, 3.00000000e+01, 9.00000000e+02, 2.70000000e+04,\n",
       "        8.10000000e+05, 2.43000000e+07, 7.29000000e+08],\n",
       "       [1.00000000e+00, 3.10000000e+01, 9.61000000e+02, 2.97910000e+04,\n",
       "        9.23521000e+05, 2.86291510e+07, 8.87503681e+08],\n",
       "       [1.00000000e+00, 3.20000000e+01, 1.02400000e+03, 3.27680000e+04,\n",
       "        1.04857600e+06, 3.35544320e+07, 1.07374182e+09],\n",
       "       [1.00000000e+00, 3.30000000e+01, 1.08900000e+03, 3.59370000e+04,\n",
       "        1.18592100e+06, 3.91353930e+07, 1.29146797e+09],\n",
       "       [1.00000000e+00, 3.40000000e+01, 1.15600000e+03, 3.93040000e+04,\n",
       "        1.33633600e+06, 4.54354240e+07, 1.54480442e+09],\n",
       "       [1.00000000e+00, 3.50000000e+01, 1.22500000e+03, 4.28750000e+04,\n",
       "        1.50062500e+06, 5.25218750e+07, 1.83826562e+09],\n",
       "       [1.00000000e+00, 3.60000000e+01, 1.29600000e+03, 4.66560000e+04,\n",
       "        1.67961600e+06, 6.04661760e+07, 2.17678234e+09],\n",
       "       [1.00000000e+00, 3.70000000e+01, 1.36900000e+03, 5.06530000e+04,\n",
       "        1.87416100e+06, 6.93439570e+07, 2.56572641e+09],\n",
       "       [1.00000000e+00, 3.80000000e+01, 1.44400000e+03, 5.48720000e+04,\n",
       "        2.08513600e+06, 7.92351680e+07, 3.01093638e+09],\n",
       "       [1.00000000e+00, 3.90000000e+01, 1.52100000e+03, 5.93190000e+04,\n",
       "        2.31344100e+06, 9.02241990e+07, 3.51874376e+09],\n",
       "       [1.00000000e+00, 4.00000000e+01, 1.60000000e+03, 6.40000000e+04,\n",
       "        2.56000000e+06, 1.02400000e+08, 4.09600000e+09],\n",
       "       [1.00000000e+00, 4.10000000e+01, 1.68100000e+03, 6.89210000e+04,\n",
       "        2.82576100e+06, 1.15856201e+08, 4.75010424e+09],\n",
       "       [1.00000000e+00, 4.20000000e+01, 1.76400000e+03, 7.40880000e+04,\n",
       "        3.11169600e+06, 1.30691232e+08, 5.48903174e+09],\n",
       "       [1.00000000e+00, 4.30000000e+01, 1.84900000e+03, 7.95070000e+04,\n",
       "        3.41880100e+06, 1.47008443e+08, 6.32136305e+09],\n",
       "       [1.00000000e+00, 4.40000000e+01, 1.93600000e+03, 8.51840000e+04,\n",
       "        3.74809600e+06, 1.64916224e+08, 7.25631386e+09],\n",
       "       [1.00000000e+00, 4.50000000e+01, 2.02500000e+03, 9.11250000e+04,\n",
       "        4.10062500e+06, 1.84528125e+08, 8.30376562e+09],\n",
       "       [1.00000000e+00, 4.60000000e+01, 2.11600000e+03, 9.73360000e+04,\n",
       "        4.47745600e+06, 2.05962976e+08, 9.47429690e+09],\n",
       "       [1.00000000e+00, 4.70000000e+01, 2.20900000e+03, 1.03823000e+05,\n",
       "        4.87968100e+06, 2.29345007e+08, 1.07792153e+10],\n",
       "       [1.00000000e+00, 4.80000000e+01, 2.30400000e+03, 1.10592000e+05,\n",
       "        5.30841600e+06, 2.54803968e+08, 1.22305905e+10],\n",
       "       [1.00000000e+00, 4.90000000e+01, 2.40100000e+03, 1.17649000e+05,\n",
       "        5.76480100e+06, 2.82475249e+08, 1.38412872e+10],\n",
       "       [1.00000000e+00, 5.00000000e+01, 2.50000000e+03, 1.25000000e+05,\n",
       "        6.25000000e+06, 3.12500000e+08, 1.56250000e+10],\n",
       "       [1.00000000e+00, 5.10000000e+01, 2.60100000e+03, 1.32651000e+05,\n",
       "        6.76520100e+06, 3.45025251e+08, 1.75962878e+10],\n",
       "       [1.00000000e+00, 5.20000000e+01, 2.70400000e+03, 1.40608000e+05,\n",
       "        7.31161600e+06, 3.80204032e+08, 1.97706097e+10],\n",
       "       [1.00000000e+00, 5.30000000e+01, 2.80900000e+03, 1.48877000e+05,\n",
       "        7.89048100e+06, 4.18195493e+08, 2.21643611e+10],\n",
       "       [1.00000000e+00, 5.40000000e+01, 2.91600000e+03, 1.57464000e+05,\n",
       "        8.50305600e+06, 4.59165024e+08, 2.47949113e+10],\n",
       "       [1.00000000e+00, 5.50000000e+01, 3.02500000e+03, 1.66375000e+05,\n",
       "        9.15062500e+06, 5.03284375e+08, 2.76806406e+10],\n",
       "       [1.00000000e+00, 5.60000000e+01, 3.13600000e+03, 1.75616000e+05,\n",
       "        9.83449600e+06, 5.50731776e+08, 3.08409795e+10],\n",
       "       [1.00000000e+00, 5.70000000e+01, 3.24900000e+03, 1.85193000e+05,\n",
       "        1.05560010e+07, 6.01692057e+08, 3.42964472e+10],\n",
       "       [1.00000000e+00, 5.80000000e+01, 3.36400000e+03, 1.95112000e+05,\n",
       "        1.13164960e+07, 6.56356768e+08, 3.80686925e+10],\n",
       "       [1.00000000e+00, 5.90000000e+01, 3.48100000e+03, 2.05379000e+05,\n",
       "        1.21173610e+07, 7.14924299e+08, 4.21805336e+10],\n",
       "       [1.00000000e+00, 6.00000000e+01, 3.60000000e+03, 2.16000000e+05,\n",
       "        1.29600000e+07, 7.77600000e+08, 4.66560000e+10],\n",
       "       [1.00000000e+00, 6.10000000e+01, 3.72100000e+03, 2.26981000e+05,\n",
       "        1.38458410e+07, 8.44596301e+08, 5.15203744e+10],\n",
       "       [1.00000000e+00, 6.20000000e+01, 3.84400000e+03, 2.38328000e+05,\n",
       "        1.47763360e+07, 9.16132832e+08, 5.68002356e+10],\n",
       "       [1.00000000e+00, 6.30000000e+01, 3.96900000e+03, 2.50047000e+05,\n",
       "        1.57529610e+07, 9.92436543e+08, 6.25235022e+10],\n",
       "       [1.00000000e+00, 6.40000000e+01, 4.09600000e+03, 2.62144000e+05,\n",
       "        1.67772160e+07, 1.07374182e+09, 6.87194767e+10],\n",
       "       [1.00000000e+00, 6.50000000e+01, 4.22500000e+03, 2.74625000e+05,\n",
       "        1.78506250e+07, 1.16029062e+09, 7.54188906e+10],\n",
       "       [1.00000000e+00, 6.60000000e+01, 4.35600000e+03, 2.87496000e+05,\n",
       "        1.89747360e+07, 1.25233258e+09, 8.26539500e+10],\n",
       "       [1.00000000e+00, 6.70000000e+01, 4.48900000e+03, 3.00763000e+05,\n",
       "        2.01511210e+07, 1.35012511e+09, 9.04583822e+10],\n",
       "       [1.00000000e+00, 6.80000000e+01, 4.62400000e+03, 3.14432000e+05,\n",
       "        2.13813760e+07, 1.45393357e+09, 9.88674826e+10],\n",
       "       [1.00000000e+00, 6.90000000e+01, 4.76100000e+03, 3.28509000e+05,\n",
       "        2.26671210e+07, 1.56403135e+09, 1.07918163e+11],\n",
       "       [1.00000000e+00, 7.00000000e+01, 4.90000000e+03, 3.43000000e+05,\n",
       "        2.40100000e+07, 1.68070000e+09, 1.17649000e+11],\n",
       "       [1.00000000e+00, 7.10000000e+01, 5.04100000e+03, 3.57911000e+05,\n",
       "        2.54116810e+07, 1.80422935e+09, 1.28100284e+11],\n",
       "       [1.00000000e+00, 7.20000000e+01, 5.18400000e+03, 3.73248000e+05,\n",
       "        2.68738560e+07, 1.93491763e+09, 1.39314070e+11],\n",
       "       [1.00000000e+00, 7.30000000e+01, 5.32900000e+03, 3.89017000e+05,\n",
       "        2.83982410e+07, 2.07307159e+09, 1.51334226e+11],\n",
       "       [1.00000000e+00, 7.40000000e+01, 5.47600000e+03, 4.05224000e+05,\n",
       "        2.99865760e+07, 2.21900662e+09, 1.64206490e+11],\n",
       "       [1.00000000e+00, 7.50000000e+01, 5.62500000e+03, 4.21875000e+05,\n",
       "        3.16406250e+07, 2.37304688e+09, 1.77978516e+11],\n",
       "       [1.00000000e+00, 7.60000000e+01, 5.77600000e+03, 4.38976000e+05,\n",
       "        3.33621760e+07, 2.53552538e+09, 1.92699929e+11],\n",
       "       [1.00000000e+00, 7.70000000e+01, 5.92900000e+03, 4.56533000e+05,\n",
       "        3.51530410e+07, 2.70678416e+09, 2.08422380e+11],\n",
       "       [1.00000000e+00, 7.80000000e+01, 6.08400000e+03, 4.74552000e+05,\n",
       "        3.70150560e+07, 2.88717437e+09, 2.25199601e+11],\n",
       "       [1.00000000e+00, 7.90000000e+01, 6.24100000e+03, 4.93039000e+05,\n",
       "        3.89500810e+07, 3.07705640e+09, 2.43087456e+11],\n",
       "       [1.00000000e+00, 8.00000000e+01, 6.40000000e+03, 5.12000000e+05,\n",
       "        4.09600000e+07, 3.27680000e+09, 2.62144000e+11],\n",
       "       [1.00000000e+00, 8.10000000e+01, 6.56100000e+03, 5.31441000e+05,\n",
       "        4.30467210e+07, 3.48678440e+09, 2.82429536e+11],\n",
       "       [1.00000000e+00, 8.20000000e+01, 6.72400000e+03, 5.51368000e+05,\n",
       "        4.52121760e+07, 3.70739843e+09, 3.04006671e+11],\n",
       "       [1.00000000e+00, 8.30000000e+01, 6.88900000e+03, 5.71787000e+05,\n",
       "        4.74583210e+07, 3.93904064e+09, 3.26940373e+11],\n",
       "       [1.00000000e+00, 8.40000000e+01, 7.05600000e+03, 5.92704000e+05,\n",
       "        4.97871360e+07, 4.18211942e+09, 3.51298032e+11],\n",
       "       [1.00000000e+00, 8.50000000e+01, 7.22500000e+03, 6.14125000e+05,\n",
       "        5.22006250e+07, 4.43705312e+09, 3.77149516e+11],\n",
       "       [1.00000000e+00, 8.60000000e+01, 7.39600000e+03, 6.36056000e+05,\n",
       "        5.47008160e+07, 4.70427018e+09, 4.04567235e+11],\n",
       "       [1.00000000e+00, 8.70000000e+01, 7.56900000e+03, 6.58503000e+05,\n",
       "        5.72897610e+07, 4.98420921e+09, 4.33626201e+11],\n",
       "       [1.00000000e+00, 8.80000000e+01, 7.74400000e+03, 6.81472000e+05,\n",
       "        5.99695360e+07, 5.27731917e+09, 4.64404087e+11],\n",
       "       [1.00000000e+00, 8.90000000e+01, 7.92100000e+03, 7.04969000e+05,\n",
       "        6.27422410e+07, 5.58405945e+09, 4.96981291e+11],\n",
       "       [1.00000000e+00, 9.00000000e+01, 8.10000000e+03, 7.29000000e+05,\n",
       "        6.56100000e+07, 5.90490000e+09, 5.31441000e+11],\n",
       "       [1.00000000e+00, 9.10000000e+01, 8.28100000e+03, 7.53571000e+05,\n",
       "        6.85749610e+07, 6.24032145e+09, 5.67869252e+11],\n",
       "       [1.00000000e+00, 9.20000000e+01, 8.46400000e+03, 7.78688000e+05,\n",
       "        7.16392960e+07, 6.59081523e+09, 6.06355001e+11],\n",
       "       [1.00000000e+00, 9.30000000e+01, 8.64900000e+03, 8.04357000e+05,\n",
       "        7.48052010e+07, 6.95688369e+09, 6.46990183e+11],\n",
       "       [1.00000000e+00, 9.40000000e+01, 8.83600000e+03, 8.30584000e+05,\n",
       "        7.80748960e+07, 7.33904022e+09, 6.89869781e+11],\n",
       "       [1.00000000e+00, 9.50000000e+01, 9.02500000e+03, 8.57375000e+05,\n",
       "        8.14506250e+07, 7.73780938e+09, 7.35091891e+11],\n",
       "       [1.00000000e+00, 9.60000000e+01, 9.21600000e+03, 8.84736000e+05,\n",
       "        8.49346560e+07, 8.15372698e+09, 7.82757790e+11],\n",
       "       [1.00000000e+00, 9.70000000e+01, 9.40900000e+03, 9.12673000e+05,\n",
       "        8.85292810e+07, 8.58734026e+09, 8.32972005e+11],\n",
       "       [1.00000000e+00, 9.80000000e+01, 9.60400000e+03, 9.41192000e+05,\n",
       "        9.22368160e+07, 9.03920797e+09, 8.85842381e+11],\n",
       "       [1.00000000e+00, 9.90000000e+01, 9.80100000e+03, 9.70299000e+05,\n",
       "        9.60596010e+07, 9.50990050e+09, 9.41480149e+11],\n",
       "       [1.00000000e+00, 1.00000000e+02, 1.00000000e+04, 1.00000000e+06,\n",
       "        1.00000000e+08, 1.00000000e+10, 1.00000000e+12],\n",
       "       [1.00000000e+00, 1.01000000e+02, 1.02010000e+04, 1.03030100e+06,\n",
       "        1.04060401e+08, 1.05101005e+10, 1.06152015e+12],\n",
       "       [1.00000000e+00, 1.02000000e+02, 1.04040000e+04, 1.06120800e+06,\n",
       "        1.08243216e+08, 1.10408080e+10, 1.12616242e+12],\n",
       "       [1.00000000e+00, 1.03000000e+02, 1.06090000e+04, 1.09272700e+06,\n",
       "        1.12550881e+08, 1.15927407e+10, 1.19405230e+12],\n",
       "       [1.00000000e+00, 1.04000000e+02, 1.08160000e+04, 1.12486400e+06,\n",
       "        1.16985856e+08, 1.21665290e+10, 1.26531902e+12]])"
      ]
     },
     "execution_count": 103,
     "metadata": {},
     "output_type": "execute_result"
    }
   ],
   "source": [
    "train_poly"
   ]
  },
  {
   "cell_type": "code",
   "execution_count": 104,
   "metadata": {},
   "outputs": [
    {
     "data": {
      "text/plain": [
       "LinearRegression(normalize=True)"
      ]
     },
     "execution_count": 104,
     "metadata": {},
     "output_type": "execute_result"
    }
   ],
   "source": [
    "linreg=LinearRegression(normalize=True)\n",
    "linreg.fit(train_poly,y)"
   ]
  },
  {
   "cell_type": "code",
   "execution_count": 105,
   "metadata": {},
   "outputs": [
    {
     "name": "stdout",
     "output_type": "stream",
     "text": [
      "Root Mean Squared Error for Polynomial Regression:  136363.888779452\n"
     ]
    }
   ],
   "source": [
    "prediction_poly=linreg.predict(valid_poly)\n",
    "rmse_poly=np.sqrt(mean_squared_error(valid_ml[\"Confirmed\"],prediction_poly))\n",
    "model_scores.append(rmse_poly)\n",
    "print(\"Root Mean Squared Error for Polynomial Regression: \",rmse_poly)"
   ]
  },
  {
   "cell_type": "code",
   "execution_count": 106,
   "metadata": {},
   "outputs": [
    {
     "data": {
      "text/plain": [
       "<matplotlib.legend.Legend at 0x24337615188>"
      ]
     },
     "execution_count": 106,
     "metadata": {},
     "output_type": "execute_result"
    },
    {
     "data": {
      "image/png": "[encoded data removed]",
      "text/plain": [
       "<Figure size 792x432 with 1 Axes>"
      ]
     },
     "metadata": {
      "needs_background": "light"
     },
     "output_type": "display_data"
    }
   ],
   "source": [
    "comp_data=poly.fit_transform(np.array(datewise[\"Days Since\"]).reshape(-1,1))\n",
    "plt.figure(figsize=(11,6))\n",
    "predictions_poly=linreg.predict(comp_data)\n",
    "plt.plot(datewise[\"Confirmed\"],label=\"Train Confirmed Cases\",linewidth=3)\n",
    "plt.plot(datewise.index,predictions_poly, linestyle='--',label=\"Best Fit for Polynomial Regression\",color='black')\n",
    "plt.xlabel('Time')\n",
    "plt.ylabel('Confirmed Cases')\n",
    "plt.title(\"Confirmed Cases Polynomial Regression Prediction\")\n",
    "plt.xticks(rotation=90)\n",
    "plt.legend()"
   ]
  },
  {
   "cell_type": "code",
   "execution_count": 107,
   "metadata": {},
   "outputs": [
    {
     "name": "stdout",
     "output_type": "stream",
     "text": [
      "[4055337.71920925]\n",
      "[4115829.89197683]\n",
      "[4177165.09495942]\n",
      "[4239814.73612833]\n",
      "[4304301.7041418]\n",
      "[4371202.78972042]\n",
      "[4441151.15284133]\n",
      "[4514838.83575133]\n",
      "[4593019.32179976]\n",
      "[4676510.1400902]\n",
      "[4766195.51595172]\n",
      "[4863029.06722909]\n",
      "[4968036.54639238]\n",
      "[5082318.62846598]\n",
      "[5207053.74477607]\n",
      "[5343500.96251893]\n",
      "[5493002.91014594]\n"
     ]
    }
   ],
   "source": [
    "new_prediction_poly=[]\n",
    "for i in range(1,18):\n",
    "    new_date_poly=poly.fit_transform(np.array(datewise[\"Days Since\"].max()+i).reshape(-1,1))\n",
    "    new_prediction_poly.append(linreg.predict(new_date_poly)[0])"
   ]
  },
  {
   "cell_type": "code",
   "execution_count": 108,
   "metadata": {},
   "outputs": [
    {
     "data": {
      "text/plain": [
       "[4055337.7192092547,\n",
       " 4115829.8919768343,\n",
       " 4177165.094959424,\n",
       " 4239814.736128331,\n",
       " 4304301.704141797,\n",
       " 4371202.789720417,\n",
       " 4441151.1528413305,\n",
       " 4514838.835751326,\n",
       " 4593019.321799756,\n",
       " 4676510.140090198,\n",
       " 4766195.515951724,\n",
       " 4863029.067229093,\n",
       " 4968036.546392382,\n",
       " 5082318.628465981,\n",
       " 5207053.744776071,\n",
       " 5343500.962518931,\n",
       " 5493002.910145939]"
      ]
     },
     "execution_count": 108,
     "metadata": {},
     "output_type": "execute_result"
    }
   ],
   "source": [
    "new_prediction_poly"
   ]
  },
  {
   "cell_type": "code",
   "execution_count": 109,
   "metadata": {},
   "outputs": [],
   "source": [
    "#Support Vector Machine ModelRegressor for Prediction of Confirmed Cases"
   ]
  },
  {
   "cell_type": "code",
   "execution_count": 111,
   "metadata": {},
   "outputs": [],
   "source": [
    "train_ml=datewise.iloc[:int(datewise.shape[0]*0.95)]\n",
    "valid_ml=datewise.iloc[int(datewise.shape[0]*0.95):]"
   ]
  },
  {
   "cell_type": "code",
   "execution_count": 112,
   "metadata": {},
   "outputs": [],
   "source": [
    "svm=SVR(C=1,degree=5,kernel='poly',epsilon=0.01)\n",
    "#Intializing SVR Model"
   ]
  },
  {
   "cell_type": "code",
   "execution_count": 113,
   "metadata": {},
   "outputs": [
    {
     "data": {
      "text/plain": [
       "SVR(C=1, degree=5, epsilon=0.01, kernel='poly')"
      ]
     },
     "execution_count": 113,
     "metadata": {},
     "output_type": "execute_result"
    }
   ],
   "source": [
    "#Fitting model on the training data\n",
    "svm.fit(np.array(train_ml[\"Days Since\"]).reshape(-1,1),\n",
    "        np.array(train_ml[\"Confirmed\"]).reshape(-1,1))"
   ]
  },
  {
   "cell_type": "code",
   "execution_count": 114,
   "metadata": {},
   "outputs": [],
   "source": [
    "prediction_valid_svm=svm.predict(np.array(valid_ml[\"Days Since\"]).reshape(-1,1))"
   ]
  },
  {
   "cell_type": "code",
   "execution_count": 115,
   "metadata": {},
   "outputs": [
    {
     "data": {
      "text/plain": [
       "396495.4682961103"
      ]
     },
     "execution_count": 115,
     "metadata": {},
     "output_type": "execute_result"
    }
   ],
   "source": [
    "model_scores.append(np.sqrt(mean_squared_error(valid_ml[\"Confirmed\"],prediction_valid_svm)))\n",
    "np.sqrt(mean_squared_error(valid_ml[\"Confirmed\"],prediction_valid_svm))"
   ]
  },
  {
   "cell_type": "code",
   "execution_count": 116,
   "metadata": {},
   "outputs": [
    {
     "data": {
      "text/plain": [
       "<matplotlib.legend.Legend at 0x24337735b88>"
      ]
     },
     "execution_count": 116,
     "metadata": {},
     "output_type": "execute_result"
    },
    {
     "data": {
      "image/png": "[encoded data removed]",
      "text/plain": [
       "<Figure size 792x432 with 1 Axes>"
      ]
     },
     "metadata": {
      "needs_background": "light"
     },
     "output_type": "display_data"
    }
   ],
   "source": [
    "plt.figure(figsize=(11,6))\n",
    "prediction_svm=svm.predict(np.array(datewise[\"Days Since\"]).reshape(-1,1))\n",
    "plt.plot(datewise[\"Confirmed\"],label=\"Train Confirmed Cases\",linewidth=3)\n",
    "plt.plot(datewise.index,prediction_svm, linestyle='--',label=\"Best Fit for SVR\",color='black')\n",
    "plt.xlabel('Time')\n",
    "plt.ylabel('Confirmed Cases')\n",
    "plt.title(\"Confirmed Cases Support Vector Machine Regressor Prediction\")\n",
    "plt.xticks(rotation=90)\n",
    "plt.legend()"
   ]
  },
  {
   "cell_type": "code",
   "execution_count": 117,
   "metadata": {},
   "outputs": [],
   "source": [
    "new_date=[]\n",
    "new_prediction_lr=[]\n",
    "new_prediction_svm=[]\n",
    "for i in range(1,18):\n",
    "    new_date.append(datewise.index[-1]+timedelta(days=i))\n",
    "    new_prediction_lr.append(lin_reg.predict(np.array(datewise[\"Days Since\"].max()+i).reshape(-1,1))[0][0])\n",
    "    new_prediction_svm.append(svm.predict(np.array(datewise[\"Days Since\"].max()+i).reshape(-1,1))[0])"
   ]
  },
  {
   "cell_type": "code",
   "execution_count": 118,
   "metadata": {},
   "outputs": [
    {
     "data": {
      "text/html": [
       "<div>\n",
       "<style scoped>\n",
       "    .dataframe tbody tr th:only-of-type {\n",
       "        vertical-align: middle;\n",
       "    }\n",
       "\n",
       "    .dataframe tbody tr th {\n",
       "        vertical-align: top;\n",
       "    }\n",
       "\n",
       "    .dataframe thead th {\n",
       "        text-align: right;\n",
       "    }\n",
       "</style>\n",
       "<table border=\"1\" class=\"dataframe\">\n",
       "  <thead>\n",
       "    <tr style=\"text-align: right;\">\n",
       "      <th></th>\n",
       "      <th>Dates</th>\n",
       "      <th>Linear Regression Prediction</th>\n",
       "      <th>Polynonmial Regression Prediction</th>\n",
       "      <th>SVM Prediction</th>\n",
       "    </tr>\n",
       "  </thead>\n",
       "  <tbody>\n",
       "    <tr>\n",
       "      <th>0</th>\n",
       "      <td>2020-05-12</td>\n",
       "      <td>2798372.455947</td>\n",
       "      <td>4055337.719209</td>\n",
       "      <td>5045987.283275</td>\n",
       "    </tr>\n",
       "    <tr>\n",
       "      <th>1</th>\n",
       "      <td>2020-05-13</td>\n",
       "      <td>2831027.464966</td>\n",
       "      <td>4115829.891977</td>\n",
       "      <td>5274221.311969</td>\n",
       "    </tr>\n",
       "    <tr>\n",
       "      <th>2</th>\n",
       "      <td>2020-05-14</td>\n",
       "      <td>2863682.473986</td>\n",
       "      <td>4177165.094959</td>\n",
       "      <td>5510753.749560</td>\n",
       "    </tr>\n",
       "    <tr>\n",
       "      <th>3</th>\n",
       "      <td>2020-05-15</td>\n",
       "      <td>2896337.483005</td>\n",
       "      <td>4239814.736128</td>\n",
       "      <td>5755808.859411</td>\n",
       "    </tr>\n",
       "    <tr>\n",
       "      <th>4</th>\n",
       "      <td>2020-05-16</td>\n",
       "      <td>2928992.492024</td>\n",
       "      <td>4304301.704142</td>\n",
       "      <td>6009614.909428</td>\n",
       "    </tr>\n",
       "  </tbody>\n",
       "</table>\n",
       "</div>"
      ],
      "text/plain": [
       "       Dates  Linear Regression Prediction  Polynonmial Regression Prediction  \\\n",
       "0 2020-05-12                2798372.455947                     4055337.719209   \n",
       "1 2020-05-13                2831027.464966                     4115829.891977   \n",
       "2 2020-05-14                2863682.473986                     4177165.094959   \n",
       "3 2020-05-15                2896337.483005                     4239814.736128   \n",
       "4 2020-05-16                2928992.492024                     4304301.704142   \n",
       "\n",
       "   SVM Prediction  \n",
       "0  5045987.283275  \n",
       "1  5274221.311969  \n",
       "2  5510753.749560  \n",
       "3  5755808.859411  \n",
       "4  6009614.909428  "
      ]
     },
     "execution_count": 118,
     "metadata": {},
     "output_type": "execute_result"
    }
   ],
   "source": [
    "pd.set_option('display.float_format', lambda x: '%.6f' % x)\n",
    "model_predictions=pd.DataFrame(zip(new_date, \n",
    "                                   new_prediction_lr, \n",
    "                                   new_prediction_poly,\n",
    "                                   new_prediction_svm),\n",
    "                               columns=[\"Dates\",\"Linear Regression Prediction\",\n",
    "                                        \"Polynonmial Regression Prediction\",\"SVM Prediction\"])\n",
    "model_predictions.head()"
   ]
  },
  {
   "cell_type": "code",
   "execution_count": 119,
   "metadata": {},
   "outputs": [],
   "source": [
    "# Time Series Forecasting"
   ]
  },
  {
   "cell_type": "code",
   "execution_count": 120,
   "metadata": {},
   "outputs": [],
   "source": [
    "model_train=datewise.iloc[:int(datewise.shape[0]*0.95)]\n",
    "valid=datewise.iloc[int(datewise.shape[0]*0.95):]"
   ]
  },
  {
   "cell_type": "code",
   "execution_count": 121,
   "metadata": {},
   "outputs": [
    {
     "data": {
      "text/plain": [
       "statsmodels.tsa.holtwinters.Holt"
      ]
     },
     "execution_count": 121,
     "metadata": {},
     "output_type": "execute_result"
    }
   ],
   "source": [
    "Holt"
   ]
  },
  {
   "cell_type": "code",
   "execution_count": 122,
   "metadata": {},
   "outputs": [],
   "source": [
    "holt=Holt(np.asarray(model_train[\"Confirmed\"]))"
   ]
  },
  {
   "cell_type": "code",
   "execution_count": 129,
   "metadata": {},
   "outputs": [],
   "source": [
    "holt = holt.fit(smoothing_level=1.0, smoothing_slope=0.1,optimized=False)"
   ]
  },
  {
   "cell_type": "code",
   "execution_count": 124,
   "metadata": {},
   "outputs": [],
   "source": [
    "y_pred=valid.copy()"
   ]
  },
  {
   "cell_type": "code",
   "execution_count": 125,
   "metadata": {},
   "outputs": [
    {
     "data": {
      "text/plain": [
       "6"
      ]
     },
     "execution_count": 125,
     "metadata": {},
     "output_type": "execute_result"
    }
   ],
   "source": [
    "len(valid)"
   ]
  },
  {
   "cell_type": "code",
   "execution_count": 128,
   "metadata": {},
   "outputs": [
    {
     "data": {
      "text/plain": [
       "<function Holt.__dir__()>"
      ]
     },
     "execution_count": 128,
     "metadata": {},
     "output_type": "execute_result"
    }
   ],
   "source": [
    "holt.__dir__"
   ]
  },
  {
   "cell_type": "code",
   "execution_count": 130,
   "metadata": {},
   "outputs": [],
   "source": [
    "y_pred[\"Holt\"]=holt.forecast(len(valid))"
   ]
  },
  {
   "cell_type": "code",
   "execution_count": 131,
   "metadata": {},
   "outputs": [
    {
     "data": {
      "text/plain": [
       "39406.10236176523"
      ]
     },
     "execution_count": 131,
     "metadata": {},
     "output_type": "execute_result"
    }
   ],
   "source": [
    "model_scores.append(np.sqrt(mean_squared_error(y_pred[\"Confirmed\"],y_pred[\"Holt\"])))\n",
    "np.sqrt(mean_squared_error(y_pred[\"Confirmed\"],y_pred[\"Holt\"]))"
   ]
  },
  {
   "cell_type": "code",
   "execution_count": 135,
   "metadata": {},
   "outputs": [
    {
     "data": {
      "text/plain": [
       "ObservationDate\n",
       "2020-05-06   3740892.393426\n",
       "2020-05-07   3819093.786852\n",
       "2020-05-08   3897295.180277\n",
       "2020-05-09   3975496.573703\n",
       "2020-05-10   4053697.967129\n",
       "2020-05-11   4131899.360555\n",
       "Name: Holt, dtype: float64"
      ]
     },
     "execution_count": 135,
     "metadata": {},
     "output_type": "execute_result"
    }
   ],
   "source": [
    "y_pred.Holt"
   ]
  },
  {
   "cell_type": "code",
   "execution_count": 132,
   "metadata": {},
   "outputs": [
    {
     "data": {
      "text/plain": [
       "<matplotlib.legend.Legend at 0x243377de4c8>"
      ]
     },
     "execution_count": 132,
     "metadata": {},
     "output_type": "execute_result"
    },
    {
     "data": {
      "image/png": "[encoded data removed]",
      "text/plain": [
       "<Figure size 720x360 with 1 Axes>"
      ]
     },
     "metadata": {
      "needs_background": "light"
     },
     "output_type": "display_data"
    }
   ],
   "source": [
    "plt.figure(figsize=(10,5))\n",
    "plt.plot(model_train.Confirmed,label=\"Train Set\",linewidth=3)\n",
    "valid.Confirmed.plot(label=\"Validation Set\",linewidth=3)\n",
    "y_pred.Holt.plot(label=\"Holt's Linear Model Predicted Set\",linewidth=3)\n",
    "plt.ylabel(\"Confirmed Cases\")\n",
    "plt.xlabel(\"Date Time\")\n",
    "plt.title(\"Confirmed Holt's Linear Model Prediction\")\n",
    "plt.xticks(rotation=90)\n",
    "plt.legend()"
   ]
  },
  {
   "cell_type": "code",
   "execution_count": 136,
   "metadata": {},
   "outputs": [
    {
     "data": {
      "text/html": [
       "<div>\n",
       "<style scoped>\n",
       "    .dataframe tbody tr th:only-of-type {\n",
       "        vertical-align: middle;\n",
       "    }\n",
       "\n",
       "    .dataframe tbody tr th {\n",
       "        vertical-align: top;\n",
       "    }\n",
       "\n",
       "    .dataframe thead th {\n",
       "        text-align: right;\n",
       "    }\n",
       "</style>\n",
       "<table border=\"1\" class=\"dataframe\">\n",
       "  <thead>\n",
       "    <tr style=\"text-align: right;\">\n",
       "      <th></th>\n",
       "      <th>Dates</th>\n",
       "      <th>Linear Regression Prediction</th>\n",
       "      <th>Polynonmial Regression Prediction</th>\n",
       "      <th>SVM Prediction</th>\n",
       "      <th>Holt's Linear Model Prediction</th>\n",
       "    </tr>\n",
       "  </thead>\n",
       "  <tbody>\n",
       "    <tr>\n",
       "      <th>0</th>\n",
       "      <td>2020-05-12</td>\n",
       "      <td>2798372.455947</td>\n",
       "      <td>4055337.719209</td>\n",
       "      <td>5045987.283275</td>\n",
       "      <td>4210100.753981</td>\n",
       "    </tr>\n",
       "    <tr>\n",
       "      <th>1</th>\n",
       "      <td>2020-05-13</td>\n",
       "      <td>2831027.464966</td>\n",
       "      <td>4115829.891977</td>\n",
       "      <td>5274221.311969</td>\n",
       "      <td>4288302.147406</td>\n",
       "    </tr>\n",
       "    <tr>\n",
       "      <th>2</th>\n",
       "      <td>2020-05-14</td>\n",
       "      <td>2863682.473986</td>\n",
       "      <td>4177165.094959</td>\n",
       "      <td>5510753.749560</td>\n",
       "      <td>4366503.540832</td>\n",
       "    </tr>\n",
       "    <tr>\n",
       "      <th>3</th>\n",
       "      <td>2020-05-15</td>\n",
       "      <td>2896337.483005</td>\n",
       "      <td>4239814.736128</td>\n",
       "      <td>5755808.859411</td>\n",
       "      <td>4444704.934258</td>\n",
       "    </tr>\n",
       "    <tr>\n",
       "      <th>4</th>\n",
       "      <td>2020-05-16</td>\n",
       "      <td>2928992.492024</td>\n",
       "      <td>4304301.704142</td>\n",
       "      <td>6009614.909428</td>\n",
       "      <td>4522906.327684</td>\n",
       "    </tr>\n",
       "  </tbody>\n",
       "</table>\n",
       "</div>"
      ],
      "text/plain": [
       "       Dates  Linear Regression Prediction  Polynonmial Regression Prediction  \\\n",
       "0 2020-05-12                2798372.455947                     4055337.719209   \n",
       "1 2020-05-13                2831027.464966                     4115829.891977   \n",
       "2 2020-05-14                2863682.473986                     4177165.094959   \n",
       "3 2020-05-15                2896337.483005                     4239814.736128   \n",
       "4 2020-05-16                2928992.492024                     4304301.704142   \n",
       "\n",
       "   SVM Prediction  Holt's Linear Model Prediction  \n",
       "0  5045987.283275                  4210100.753981  \n",
       "1  5274221.311969                  4288302.147406  \n",
       "2  5510753.749560                  4366503.540832  \n",
       "3  5755808.859411                  4444704.934258  \n",
       "4  6009614.909428                  4522906.327684  "
      ]
     },
     "execution_count": 136,
     "metadata": {},
     "output_type": "execute_result"
    }
   ],
   "source": [
    "holt_new_date=[]\n",
    "holt_new_prediction=[]\n",
    "for i in range(1,18):\n",
    "    holt_new_date.append(datewise.index[-1]+timedelta(days=i))\n",
    "    holt_new_prediction.append(holt.forecast((len(valid)+i))[-1])\n",
    "model_predictions[\"Holt's Linear Model Prediction\"]=holt_new_prediction\n",
    "model_predictions.head()"
   ]
  },
  {
   "cell_type": "code",
   "execution_count": 137,
   "metadata": {},
   "outputs": [],
   "source": [
    "## Holt's Winter Model for Daily Time Series"
   ]
  },
  {
   "cell_type": "code",
   "execution_count": 138,
   "metadata": {},
   "outputs": [
    {
     "data": {
      "text/plain": [
       "statsmodels.tsa.holtwinters.ExponentialSmoothing"
      ]
     },
     "execution_count": 138,
     "metadata": {},
     "output_type": "execute_result"
    }
   ],
   "source": [
    "ExponentialSmoothing"
   ]
  },
  {
   "cell_type": "code",
   "execution_count": 139,
   "metadata": {},
   "outputs": [
    {
     "data": {
      "text/html": [
       "<div>\n",
       "<style scoped>\n",
       "    .dataframe tbody tr th:only-of-type {\n",
       "        vertical-align: middle;\n",
       "    }\n",
       "\n",
       "    .dataframe tbody tr th {\n",
       "        vertical-align: top;\n",
       "    }\n",
       "\n",
       "    .dataframe thead th {\n",
       "        text-align: right;\n",
       "    }\n",
       "</style>\n",
       "<table border=\"1\" class=\"dataframe\">\n",
       "  <thead>\n",
       "    <tr style=\"text-align: right;\">\n",
       "      <th></th>\n",
       "      <th>Confirmed</th>\n",
       "      <th>Recovered</th>\n",
       "      <th>Deaths</th>\n",
       "      <th>Days Since</th>\n",
       "      <th>WeekOfYear</th>\n",
       "      <th>Mortality Rate</th>\n",
       "      <th>Recovery Rate</th>\n",
       "      <th>Active Cases</th>\n",
       "      <th>Closed Cases</th>\n",
       "    </tr>\n",
       "    <tr>\n",
       "      <th>ObservationDate</th>\n",
       "      <th></th>\n",
       "      <th></th>\n",
       "      <th></th>\n",
       "      <th></th>\n",
       "      <th></th>\n",
       "      <th></th>\n",
       "      <th></th>\n",
       "      <th></th>\n",
       "      <th></th>\n",
       "    </tr>\n",
       "  </thead>\n",
       "  <tbody>\n",
       "    <tr>\n",
       "      <th>2020-01-22</th>\n",
       "      <td>555.000000</td>\n",
       "      <td>28.000000</td>\n",
       "      <td>17.000000</td>\n",
       "      <td>0</td>\n",
       "      <td>4</td>\n",
       "      <td>3.063063</td>\n",
       "      <td>5.045045</td>\n",
       "      <td>510.000000</td>\n",
       "      <td>45.000000</td>\n",
       "    </tr>\n",
       "    <tr>\n",
       "      <th>2020-01-23</th>\n",
       "      <td>653.000000</td>\n",
       "      <td>30.000000</td>\n",
       "      <td>18.000000</td>\n",
       "      <td>1</td>\n",
       "      <td>4</td>\n",
       "      <td>2.756508</td>\n",
       "      <td>4.594181</td>\n",
       "      <td>605.000000</td>\n",
       "      <td>48.000000</td>\n",
       "    </tr>\n",
       "    <tr>\n",
       "      <th>2020-01-24</th>\n",
       "      <td>941.000000</td>\n",
       "      <td>36.000000</td>\n",
       "      <td>26.000000</td>\n",
       "      <td>2</td>\n",
       "      <td>4</td>\n",
       "      <td>2.763018</td>\n",
       "      <td>3.825717</td>\n",
       "      <td>879.000000</td>\n",
       "      <td>62.000000</td>\n",
       "    </tr>\n",
       "    <tr>\n",
       "      <th>2020-01-25</th>\n",
       "      <td>1438.000000</td>\n",
       "      <td>39.000000</td>\n",
       "      <td>42.000000</td>\n",
       "      <td>3</td>\n",
       "      <td>4</td>\n",
       "      <td>2.920723</td>\n",
       "      <td>2.712100</td>\n",
       "      <td>1357.000000</td>\n",
       "      <td>81.000000</td>\n",
       "    </tr>\n",
       "    <tr>\n",
       "      <th>2020-01-26</th>\n",
       "      <td>2118.000000</td>\n",
       "      <td>52.000000</td>\n",
       "      <td>56.000000</td>\n",
       "      <td>4</td>\n",
       "      <td>4</td>\n",
       "      <td>2.644004</td>\n",
       "      <td>2.455146</td>\n",
       "      <td>2010.000000</td>\n",
       "      <td>108.000000</td>\n",
       "    </tr>\n",
       "    <tr>\n",
       "      <th>...</th>\n",
       "      <td>...</td>\n",
       "      <td>...</td>\n",
       "      <td>...</td>\n",
       "      <td>...</td>\n",
       "      <td>...</td>\n",
       "      <td>...</td>\n",
       "      <td>...</td>\n",
       "      <td>...</td>\n",
       "      <td>...</td>\n",
       "    </tr>\n",
       "    <tr>\n",
       "      <th>2020-05-01</th>\n",
       "      <td>3343777.000000</td>\n",
       "      <td>1053327.000000</td>\n",
       "      <td>238650.000000</td>\n",
       "      <td>100</td>\n",
       "      <td>18</td>\n",
       "      <td>7.137139</td>\n",
       "      <td>31.501114</td>\n",
       "      <td>2051800.000000</td>\n",
       "      <td>1291977.000000</td>\n",
       "    </tr>\n",
       "    <tr>\n",
       "      <th>2020-05-02</th>\n",
       "      <td>3427343.000000</td>\n",
       "      <td>1093112.000000</td>\n",
       "      <td>243808.000000</td>\n",
       "      <td>101</td>\n",
       "      <td>18</td>\n",
       "      <td>7.113615</td>\n",
       "      <td>31.893861</td>\n",
       "      <td>2090423.000000</td>\n",
       "      <td>1336920.000000</td>\n",
       "    </tr>\n",
       "    <tr>\n",
       "      <th>2020-05-03</th>\n",
       "      <td>3506729.000000</td>\n",
       "      <td>1125236.000000</td>\n",
       "      <td>247470.000000</td>\n",
       "      <td>102</td>\n",
       "      <td>18</td>\n",
       "      <td>7.057004</td>\n",
       "      <td>32.087909</td>\n",
       "      <td>2134023.000000</td>\n",
       "      <td>1372706.000000</td>\n",
       "    </tr>\n",
       "    <tr>\n",
       "      <th>2020-05-04</th>\n",
       "      <td>3583055.000000</td>\n",
       "      <td>1162724.000000</td>\n",
       "      <td>251537.000000</td>\n",
       "      <td>103</td>\n",
       "      <td>19</td>\n",
       "      <td>7.020182</td>\n",
       "      <td>32.450632</td>\n",
       "      <td>2168794.000000</td>\n",
       "      <td>1414261.000000</td>\n",
       "    </tr>\n",
       "    <tr>\n",
       "      <th>2020-05-05</th>\n",
       "      <td>3662691.000000</td>\n",
       "      <td>1198832.000000</td>\n",
       "      <td>257239.000000</td>\n",
       "      <td>104</td>\n",
       "      <td>19</td>\n",
       "      <td>7.023224</td>\n",
       "      <td>32.730907</td>\n",
       "      <td>2206620.000000</td>\n",
       "      <td>1456071.000000</td>\n",
       "    </tr>\n",
       "  </tbody>\n",
       "</table>\n",
       "<p>105 rows × 9 columns</p>\n",
       "</div>"
      ],
      "text/plain": [
       "                     Confirmed      Recovered        Deaths  Days Since  \\\n",
       "ObservationDate                                                           \n",
       "2020-01-22          555.000000      28.000000     17.000000           0   \n",
       "2020-01-23          653.000000      30.000000     18.000000           1   \n",
       "2020-01-24          941.000000      36.000000     26.000000           2   \n",
       "2020-01-25         1438.000000      39.000000     42.000000           3   \n",
       "2020-01-26         2118.000000      52.000000     56.000000           4   \n",
       "...                        ...            ...           ...         ...   \n",
       "2020-05-01      3343777.000000 1053327.000000 238650.000000         100   \n",
       "2020-05-02      3427343.000000 1093112.000000 243808.000000         101   \n",
       "2020-05-03      3506729.000000 1125236.000000 247470.000000         102   \n",
       "2020-05-04      3583055.000000 1162724.000000 251537.000000         103   \n",
       "2020-05-05      3662691.000000 1198832.000000 257239.000000         104   \n",
       "\n",
       "                 WeekOfYear  Mortality Rate  Recovery Rate   Active Cases  \\\n",
       "ObservationDate                                                             \n",
       "2020-01-22                4        3.063063       5.045045     510.000000   \n",
       "2020-01-23                4        2.756508       4.594181     605.000000   \n",
       "2020-01-24                4        2.763018       3.825717     879.000000   \n",
       "2020-01-25                4        2.920723       2.712100    1357.000000   \n",
       "2020-01-26                4        2.644004       2.455146    2010.000000   \n",
       "...                     ...             ...            ...            ...   \n",
       "2020-05-01               18        7.137139      31.501114 2051800.000000   \n",
       "2020-05-02               18        7.113615      31.893861 2090423.000000   \n",
       "2020-05-03               18        7.057004      32.087909 2134023.000000   \n",
       "2020-05-04               19        7.020182      32.450632 2168794.000000   \n",
       "2020-05-05               19        7.023224      32.730907 2206620.000000   \n",
       "\n",
       "                  Closed Cases  \n",
       "ObservationDate                 \n",
       "2020-01-22           45.000000  \n",
       "2020-01-23           48.000000  \n",
       "2020-01-24           62.000000  \n",
       "2020-01-25           81.000000  \n",
       "2020-01-26          108.000000  \n",
       "...                        ...  \n",
       "2020-05-01      1291977.000000  \n",
       "2020-05-02      1336920.000000  \n",
       "2020-05-03      1372706.000000  \n",
       "2020-05-04      1414261.000000  \n",
       "2020-05-05      1456071.000000  \n",
       "\n",
       "[105 rows x 9 columns]"
      ]
     },
     "execution_count": 139,
     "metadata": {},
     "output_type": "execute_result"
    }
   ],
   "source": [
    "model_train"
   ]
  },
  {
   "cell_type": "code",
   "execution_count": 140,
   "metadata": {},
   "outputs": [],
   "source": [
    "es=ExponentialSmoothing(np.asarray(model_train['Confirmed']),\n",
    "                        seasonal_periods=10,\n",
    "                        trend='mul', \n",
    "                        seasonal='add').fit()"
   ]
  },
  {
   "cell_type": "code",
   "execution_count": 142,
   "metadata": {},
   "outputs": [],
   "source": [
    "y_pred[\"Holt's Winter Model\"]=es.forecast(len(valid))"
   ]
  },
  {
   "cell_type": "code",
   "execution_count": 144,
   "metadata": {},
   "outputs": [
    {
     "data": {
      "text/plain": [
       "18981.45893839612"
      ]
     },
     "execution_count": 144,
     "metadata": {},
     "output_type": "execute_result"
    }
   ],
   "source": [
    "model_scores.append(np.sqrt(mean_squared_error(y_pred[\"Confirmed\"],y_pred[\"Holt's Winter Model\"])))\n",
    "np.sqrt(mean_squared_error(y_pred[\"Confirmed\"],y_pred[\"Holt's Winter Model\"]))"
   ]
  },
  {
   "cell_type": "code",
   "execution_count": 145,
   "metadata": {},
   "outputs": [
    {
     "data": {
      "text/plain": [
       "<matplotlib.legend.Legend at 0x243378b63c8>"
      ]
     },
     "execution_count": 145,
     "metadata": {},
     "output_type": "execute_result"
    },
    {
     "data": {
      "image/png": "[encoded data removed]",
      "text/plain": [
       "<Figure size 720x360 with 1 Axes>"
      ]
     },
     "metadata": {
      "needs_background": "light"
     },
     "output_type": "display_data"
    }
   ],
   "source": [
    "plt.figure(figsize=(10,5))\n",
    "plt.plot(model_train.Confirmed,label=\"Train Set\",linewidth=3)\n",
    "valid.Confirmed.plot(label=\"Validation Set\",linewidth=3)\n",
    "y_pred[\"Holt\\'s Winter Model\"].plot(label=\"Holt's Winter Model Predicted Set\",linewidth=3)\n",
    "plt.ylabel(\"Confirmed Cases\")\n",
    "plt.xlabel(\"Date Time\")\n",
    "plt.title(\"Confiremd Cases Holt's Winter Model Prediction\")\n",
    "plt.xticks(rotation=90)\n",
    "plt.legend()"
   ]
  },
  {
   "cell_type": "code",
   "execution_count": 146,
   "metadata": {},
   "outputs": [
    {
     "data": {
      "text/html": [
       "<div>\n",
       "<style scoped>\n",
       "    .dataframe tbody tr th:only-of-type {\n",
       "        vertical-align: middle;\n",
       "    }\n",
       "\n",
       "    .dataframe tbody tr th {\n",
       "        vertical-align: top;\n",
       "    }\n",
       "\n",
       "    .dataframe thead th {\n",
       "        text-align: right;\n",
       "    }\n",
       "</style>\n",
       "<table border=\"1\" class=\"dataframe\">\n",
       "  <thead>\n",
       "    <tr style=\"text-align: right;\">\n",
       "      <th></th>\n",
       "      <th>Dates</th>\n",
       "      <th>Linear Regression Prediction</th>\n",
       "      <th>Polynonmial Regression Prediction</th>\n",
       "      <th>SVM Prediction</th>\n",
       "      <th>Holt's Linear Model Prediction</th>\n",
       "      <th>Holt's Winter Model Prediction</th>\n",
       "    </tr>\n",
       "  </thead>\n",
       "  <tbody>\n",
       "    <tr>\n",
       "      <th>0</th>\n",
       "      <td>2020-05-12</td>\n",
       "      <td>2798372.455947</td>\n",
       "      <td>4055337.719209</td>\n",
       "      <td>5045987.283275</td>\n",
       "      <td>4210100.753981</td>\n",
       "      <td>4254173.053406</td>\n",
       "    </tr>\n",
       "    <tr>\n",
       "      <th>1</th>\n",
       "      <td>2020-05-13</td>\n",
       "      <td>2831027.464966</td>\n",
       "      <td>4115829.891977</td>\n",
       "      <td>5274221.311969</td>\n",
       "      <td>4288302.147406</td>\n",
       "      <td>4345322.238890</td>\n",
       "    </tr>\n",
       "    <tr>\n",
       "      <th>2</th>\n",
       "      <td>2020-05-14</td>\n",
       "      <td>2863682.473986</td>\n",
       "      <td>4177165.094959</td>\n",
       "      <td>5510753.749560</td>\n",
       "      <td>4366503.540832</td>\n",
       "      <td>4438293.588034</td>\n",
       "    </tr>\n",
       "    <tr>\n",
       "      <th>3</th>\n",
       "      <td>2020-05-15</td>\n",
       "      <td>2896337.483005</td>\n",
       "      <td>4239814.736128</td>\n",
       "      <td>5755808.859411</td>\n",
       "      <td>4444704.934258</td>\n",
       "      <td>4533090.542488</td>\n",
       "    </tr>\n",
       "    <tr>\n",
       "      <th>4</th>\n",
       "      <td>2020-05-16</td>\n",
       "      <td>2928992.492024</td>\n",
       "      <td>4304301.704142</td>\n",
       "      <td>6009614.909428</td>\n",
       "      <td>4522906.327684</td>\n",
       "      <td>4629698.830262</td>\n",
       "    </tr>\n",
       "  </tbody>\n",
       "</table>\n",
       "</div>"
      ],
      "text/plain": [
       "       Dates  Linear Regression Prediction  Polynonmial Regression Prediction  \\\n",
       "0 2020-05-12                2798372.455947                     4055337.719209   \n",
       "1 2020-05-13                2831027.464966                     4115829.891977   \n",
       "2 2020-05-14                2863682.473986                     4177165.094959   \n",
       "3 2020-05-15                2896337.483005                     4239814.736128   \n",
       "4 2020-05-16                2928992.492024                     4304301.704142   \n",
       "\n",
       "   SVM Prediction  Holt's Linear Model Prediction  \\\n",
       "0  5045987.283275                  4210100.753981   \n",
       "1  5274221.311969                  4288302.147406   \n",
       "2  5510753.749560                  4366503.540832   \n",
       "3  5755808.859411                  4444704.934258   \n",
       "4  6009614.909428                  4522906.327684   \n",
       "\n",
       "   Holt's Winter Model Prediction  \n",
       "0                  4254173.053406  \n",
       "1                  4345322.238890  \n",
       "2                  4438293.588034  \n",
       "3                  4533090.542488  \n",
       "4                  4629698.830262  "
      ]
     },
     "execution_count": 146,
     "metadata": {},
     "output_type": "execute_result"
    }
   ],
   "source": [
    "holt_winter_new_prediction=[]\n",
    "for i in range(1,18):\n",
    "    holt_winter_new_prediction.append(es.forecast((len(valid)+i))[-1])\n",
    "model_predictions[\"Holt's Winter Model Prediction\"]=holt_winter_new_prediction\n",
    "model_predictions.head()"
   ]
  },
  {
   "cell_type": "code",
   "execution_count": 159,
   "metadata": {},
   "outputs": [],
   "source": [
    "#AR Model (using AUTO ARIMA)"
   ]
  },
  {
   "cell_type": "code",
   "execution_count": 160,
   "metadata": {},
   "outputs": [],
   "source": [
    "model_train=datewise.iloc[:int(datewise.shape[0]*0.95)]\n",
    "valid=datewise.iloc[int(datewise.shape[0]*0.95):]\n",
    "y_pred=valid.copy()"
   ]
  },
  {
   "cell_type": "code",
   "execution_count": 161,
   "metadata": {},
   "outputs": [],
   "source": [
    "from pmdarima.arima import auto_arima"
   ]
  },
  {
   "cell_type": "code",
   "execution_count": 162,
   "metadata": {},
   "outputs": [
    {
     "name": "stdout",
     "output_type": "stream",
     "text": [
      "Fit ARIMA(0,2,0)x(0,0,0,0) [intercept=True]; AIC=2135.250, BIC=2140.519, Time=0.029 seconds\n",
      "Fit ARIMA(0,2,1)x(0,0,0,0) [intercept=True]; AIC=2130.787, BIC=2138.691, Time=0.063 seconds\n",
      "Fit ARIMA(0,2,2)x(0,0,0,0) [intercept=True]; AIC=2131.685, BIC=2142.224, Time=0.083 seconds\n",
      "Fit ARIMA(0,2,3)x(0,0,0,0) [intercept=True]; AIC=2134.529, BIC=2147.702, Time=0.084 seconds\n",
      "Total fit time: 0.275 seconds\n"
     ]
    },
    {
     "data": {
      "text/plain": [
       "ARIMA(order=(0, 2, 1), suppress_warnings=True)"
      ]
     },
     "execution_count": 162,
     "metadata": {},
     "output_type": "execute_result"
    }
   ],
   "source": [
    "model_ma = auto_arima(model_train[\"Confirmed\"], trace=True, \n",
    "                     error_action='ignore', \n",
    "                     start_p=0, start_q=0, max_p=0, max_q=3,\n",
    "                     suppress_warnings=True,\n",
    "                     stepwise=False,\n",
    "                     seasonal=False)\n",
    "model_ma.fit(model_train[\"Confirmed\"])"
   ]
  },
  {
   "cell_type": "code",
   "execution_count": 163,
   "metadata": {},
   "outputs": [
    {
     "data": {
      "text/plain": [
       "<function pmdarima.arima.auto.auto_arima(y, exogenous=None, start_p=2, d=None, start_q=2, max_p=5, max_d=2, max_q=5, start_P=1, D=None, start_Q=1, max_P=2, max_D=1, max_Q=2, max_order=5, m=1, seasonal=True, stationary=False, information_criterion='aic', alpha=0.05, test='kpss', seasonal_test='ocsb', stepwise=True, n_jobs=1, start_params=None, trend=None, method='lbfgs', maxiter=50, offset_test_args=None, seasonal_test_args=None, suppress_warnings=False, error_action='trace', trace=False, random=False, random_state=None, n_fits=10, return_valid_fits=False, out_of_sample_size=0, scoring='mse', scoring_args=None, with_intercept=True, sarimax_kwargs=None, **fit_args)>"
      ]
     },
     "execution_count": 163,
     "metadata": {},
     "output_type": "execute_result"
    }
   ],
   "source": [
    "auto_arima"
   ]
  },
  {
   "cell_type": "code",
   "execution_count": 164,
   "metadata": {},
   "outputs": [
    {
     "name": "stdout",
     "output_type": "stream",
     "text": [
      "Fit ARIMA(0,2,0)x(0,0,0,0) [intercept=True]; AIC=2135.250, BIC=2140.519, Time=0.035 seconds\n",
      "Fit ARIMA(1,2,0)x(0,0,0,0) [intercept=True]; AIC=2132.981, BIC=2140.885, Time=0.026 seconds\n",
      "Fit ARIMA(2,2,0)x(0,0,0,0) [intercept=True]; AIC=2131.098, BIC=2141.637, Time=0.052 seconds\n",
      "Fit ARIMA(3,2,0)x(0,0,0,0) [intercept=True]; AIC=2132.317, BIC=2145.491, Time=0.068 seconds\n",
      "Fit ARIMA(4,2,0)x(0,0,0,0) [intercept=True]; AIC=2132.392, BIC=2148.200, Time=0.127 seconds\n",
      "Fit ARIMA(5,2,0)x(0,0,0,0) [intercept=True]; AIC=2132.139, BIC=2150.582, Time=0.121 seconds\n",
      "Total fit time: 0.435 seconds\n"
     ]
    },
    {
     "data": {
      "text/plain": [
       "ARIMA(order=(2, 2, 0), suppress_warnings=True)"
      ]
     },
     "execution_count": 164,
     "metadata": {},
     "output_type": "execute_result"
    }
   ],
   "source": [
    "model_ar= auto_arima(model_train[\"Confirmed\"],\n",
    "                     trace=True, \n",
    "                     error_action='ignore',\n",
    "                     start_p=0,\n",
    "                     start_q=0,\n",
    "                     max_p=5,\n",
    "                     max_q=0,\n",
    "                    suppress_warnings=True,stepwise=False,seasonal=False)\n",
    "model_ar.fit(model_train[\"Confirmed\"])"
   ]
  },
  {
   "cell_type": "code",
   "execution_count": 165,
   "metadata": {},
   "outputs": [],
   "source": [
    "prediction_ar=model_ar.predict(len(valid))\n",
    "y_pred[\"AR Model Prediction\"]=prediction_ar"
   ]
  },
  {
   "cell_type": "code",
   "execution_count": 166,
   "metadata": {},
   "outputs": [
    {
     "data": {
      "text/plain": [
       "26859.381845132346"
      ]
     },
     "execution_count": 166,
     "metadata": {},
     "output_type": "execute_result"
    }
   ],
   "source": [
    "model_scores.append(np.sqrt(mean_squared_error(y_pred[\"Confirmed\"],y_pred[\"AR Model Prediction\"])))\n",
    "np.sqrt(mean_squared_error(y_pred[\"Confirmed\"],y_pred[\"AR Model Prediction\"]))"
   ]
  },
  {
   "cell_type": "code",
   "execution_count": 167,
   "metadata": {},
   "outputs": [
    {
     "data": {
      "text/plain": [
       "(array([737456., 737470., 737485., 737499., 737516., 737530., 737546.,\n",
       "        737560.]),\n",
       " <a list of 8 Text major ticklabel objects>)"
      ]
     },
     "execution_count": 167,
     "metadata": {},
     "output_type": "execute_result"
    },
    {
     "data": {
      "image/png": "[encoded data removed]",
      "text/plain": [
       "<Figure size 720x360 with 1 Axes>"
      ]
     },
     "metadata": {
      "needs_background": "light"
     },
     "output_type": "display_data"
    }
   ],
   "source": [
    "plt.figure(figsize=(10,5))\n",
    "plt.plot(model_train.index,model_train[\"Confirmed\"],label=\"Train Set\",linewidth=3)\n",
    "plt.plot(valid.index,valid[\"Confirmed\"],\n",
    "         label=\"Validation Set\",linewidth=3)\n",
    "plt.plot(y_pred[\"AR Model Prediction\"],label=\"AR Model Prediction set\",linewidth=3)\n",
    "plt.legend()\n",
    "plt.xlabel(\"Date Time\")\n",
    "plt.ylabel('Confirmed Cases')\n",
    "plt.title(\"Confirmed Cases AR Model Forecasting\")\n",
    "plt.xticks(rotation=90)"
   ]
  },
  {
   "cell_type": "code",
   "execution_count": 168,
   "metadata": {},
   "outputs": [
    {
     "data": {
      "text/html": [
       "<div>\n",
       "<style scoped>\n",
       "    .dataframe tbody tr th:only-of-type {\n",
       "        vertical-align: middle;\n",
       "    }\n",
       "\n",
       "    .dataframe tbody tr th {\n",
       "        vertical-align: top;\n",
       "    }\n",
       "\n",
       "    .dataframe thead th {\n",
       "        text-align: right;\n",
       "    }\n",
       "</style>\n",
       "<table border=\"1\" class=\"dataframe\">\n",
       "  <thead>\n",
       "    <tr style=\"text-align: right;\">\n",
       "      <th></th>\n",
       "      <th>Dates</th>\n",
       "      <th>Linear Regression Prediction</th>\n",
       "      <th>Polynonmial Regression Prediction</th>\n",
       "      <th>SVM Prediction</th>\n",
       "      <th>Holt's Linear Model Prediction</th>\n",
       "      <th>Holt's Winter Model Prediction</th>\n",
       "      <th>AR Model Prediction</th>\n",
       "    </tr>\n",
       "  </thead>\n",
       "  <tbody>\n",
       "    <tr>\n",
       "      <th>0</th>\n",
       "      <td>2020-05-12</td>\n",
       "      <td>2798372.455947</td>\n",
       "      <td>4055337.719209</td>\n",
       "      <td>5045987.283275</td>\n",
       "      <td>4210100.753981</td>\n",
       "      <td>4254173.053406</td>\n",
       "      <td>4240438.481543</td>\n",
       "    </tr>\n",
       "    <tr>\n",
       "      <th>1</th>\n",
       "      <td>2020-05-13</td>\n",
       "      <td>2831027.464966</td>\n",
       "      <td>4115829.891977</td>\n",
       "      <td>5274221.311969</td>\n",
       "      <td>4288302.147406</td>\n",
       "      <td>4345322.238890</td>\n",
       "      <td>4326056.217688</td>\n",
       "    </tr>\n",
       "    <tr>\n",
       "      <th>2</th>\n",
       "      <td>2020-05-14</td>\n",
       "      <td>2863682.473986</td>\n",
       "      <td>4177165.094959</td>\n",
       "      <td>5510753.749560</td>\n",
       "      <td>4366503.540832</td>\n",
       "      <td>4438293.588034</td>\n",
       "      <td>4412451.179773</td>\n",
       "    </tr>\n",
       "    <tr>\n",
       "      <th>3</th>\n",
       "      <td>2020-05-15</td>\n",
       "      <td>2896337.483005</td>\n",
       "      <td>4239814.736128</td>\n",
       "      <td>5755808.859411</td>\n",
       "      <td>4444704.934258</td>\n",
       "      <td>4533090.542488</td>\n",
       "      <td>4499625.344803</td>\n",
       "    </tr>\n",
       "    <tr>\n",
       "      <th>4</th>\n",
       "      <td>2020-05-16</td>\n",
       "      <td>2928992.492024</td>\n",
       "      <td>4304301.704142</td>\n",
       "      <td>6009614.909428</td>\n",
       "      <td>4522906.327684</td>\n",
       "      <td>4629698.830262</td>\n",
       "      <td>4587578.327546</td>\n",
       "    </tr>\n",
       "  </tbody>\n",
       "</table>\n",
       "</div>"
      ],
      "text/plain": [
       "       Dates  Linear Regression Prediction  Polynonmial Regression Prediction  \\\n",
       "0 2020-05-12                2798372.455947                     4055337.719209   \n",
       "1 2020-05-13                2831027.464966                     4115829.891977   \n",
       "2 2020-05-14                2863682.473986                     4177165.094959   \n",
       "3 2020-05-15                2896337.483005                     4239814.736128   \n",
       "4 2020-05-16                2928992.492024                     4304301.704142   \n",
       "\n",
       "   SVM Prediction  Holt's Linear Model Prediction  \\\n",
       "0  5045987.283275                  4210100.753981   \n",
       "1  5274221.311969                  4288302.147406   \n",
       "2  5510753.749560                  4366503.540832   \n",
       "3  5755808.859411                  4444704.934258   \n",
       "4  6009614.909428                  4522906.327684   \n",
       "\n",
       "   Holt's Winter Model Prediction  AR Model Prediction  \n",
       "0                  4254173.053406       4240438.481543  \n",
       "1                  4345322.238890       4326056.217688  \n",
       "2                  4438293.588034       4412451.179773  \n",
       "3                  4533090.542488       4499625.344803  \n",
       "4                  4629698.830262       4587578.327546  "
      ]
     },
     "execution_count": 168,
     "metadata": {},
     "output_type": "execute_result"
    }
   ],
   "source": [
    "AR_model_new_prediction=[]\n",
    "for i in range(1,18):\n",
    "    AR_model_new_prediction.append(model_ar.predict(len(valid)+i)[-1])\n",
    "model_predictions[\"AR Model Prediction\"]=AR_model_new_prediction\n",
    "model_predictions.head()"
   ]
  },
  {
   "cell_type": "code",
   "execution_count": 169,
   "metadata": {},
   "outputs": [],
   "source": [
    "## MA Model (using AUTO ARIMA)"
   ]
  },
  {
   "cell_type": "code",
   "execution_count": 170,
   "metadata": {},
   "outputs": [],
   "source": [
    "model_train=datewise.iloc[:int(datewise.shape[0]*0.95)]\n",
    "valid=datewise.iloc[int(datewise.shape[0]*0.95):]\n",
    "y_pred=valid.copy()"
   ]
  },
  {
   "cell_type": "code",
   "execution_count": 171,
   "metadata": {},
   "outputs": [
    {
     "name": "stdout",
     "output_type": "stream",
     "text": [
      "Fit ARIMA(0,2,0)x(0,0,0,0) [intercept=True]; AIC=2135.250, BIC=2140.519, Time=0.017 seconds\n",
      "Fit ARIMA(0,2,1)x(0,0,0,0) [intercept=True]; AIC=2130.787, BIC=2138.691, Time=0.049 seconds\n",
      "Fit ARIMA(0,2,2)x(0,0,0,0) [intercept=True]; AIC=2131.685, BIC=2142.224, Time=0.065 seconds\n",
      "Fit ARIMA(0,2,3)x(0,0,0,0) [intercept=True]; AIC=2134.529, BIC=2147.702, Time=0.132 seconds\n",
      "Total fit time: 0.277 seconds\n"
     ]
    },
    {
     "data": {
      "text/plain": [
       "ARIMA(order=(0, 2, 1), suppress_warnings=True)"
      ]
     },
     "execution_count": 171,
     "metadata": {},
     "output_type": "execute_result"
    }
   ],
   "source": [
    "model_ma= auto_arima(model_train[\"Confirmed\"],\n",
    "                     trace=True,\n",
    "                     error_action='ignore',\n",
    "                     start_p=0,\n",
    "                     start_q=0,\n",
    "                     max_p=0,\n",
    "                     max_q=3,\n",
    "                     suppress_warnings=True,stepwise=False,seasonal=False)\n",
    "model_ma.fit(model_train[\"Confirmed\"])"
   ]
  },
  {
   "cell_type": "code",
   "execution_count": 172,
   "metadata": {},
   "outputs": [],
   "source": [
    "prediction_ma=model_ma.predict(len(valid))\n",
    "y_pred[\"MA Model Prediction\"]=prediction_ma"
   ]
  },
  {
   "cell_type": "code",
   "execution_count": 173,
   "metadata": {},
   "outputs": [
    {
     "data": {
      "text/plain": [
       "24021.875554022754"
      ]
     },
     "execution_count": 173,
     "metadata": {},
     "output_type": "execute_result"
    }
   ],
   "source": [
    "model_scores.append(np.sqrt(mean_squared_error(valid[\"Confirmed\"],prediction_ma)))\n",
    "np.sqrt(mean_squared_error(valid[\"Confirmed\"],prediction_ma))"
   ]
  },
  {
   "cell_type": "code",
   "execution_count": 174,
   "metadata": {},
   "outputs": [
    {
     "data": {
      "text/plain": [
       "(array([737456., 737470., 737485., 737499., 737516., 737530., 737546.,\n",
       "        737560.]),\n",
       " <a list of 8 Text major ticklabel objects>)"
      ]
     },
     "execution_count": 174,
     "metadata": {},
     "output_type": "execute_result"
    },
    {
     "data": {
      "image/png": "[encoded data removed]",
      "text/plain": [
       "<Figure size 720x360 with 1 Axes>"
      ]
     },
     "metadata": {
      "needs_background": "light"
     },
     "output_type": "display_data"
    }
   ],
   "source": [
    "plt.figure(figsize=(10,5))\n",
    "plt.plot(model_train.index,model_train[\"Confirmed\"],label=\"Train Set\",linewidth=3)\n",
    "plt.plot(valid.index,valid[\"Confirmed\"],label=\"Validation Set\",linewidth=3)\n",
    "plt.plot(y_pred[\"MA Model Prediction\"],label=\"MA Mode Prediction Set\",linewidth=3)\n",
    "plt.legend()\n",
    "plt.xlabel(\"Date Time\")\n",
    "plt.ylabel('Confirmed Cases')\n",
    "plt.title(\"Confirmed Cases MA Model Forecasting\")\n",
    "plt.xticks(rotation=90)"
   ]
  },
  {
   "cell_type": "code",
   "execution_count": 175,
   "metadata": {},
   "outputs": [
    {
     "data": {
      "text/html": [
       "<div>\n",
       "<style scoped>\n",
       "    .dataframe tbody tr th:only-of-type {\n",
       "        vertical-align: middle;\n",
       "    }\n",
       "\n",
       "    .dataframe tbody tr th {\n",
       "        vertical-align: top;\n",
       "    }\n",
       "\n",
       "    .dataframe thead th {\n",
       "        text-align: right;\n",
       "    }\n",
       "</style>\n",
       "<table border=\"1\" class=\"dataframe\">\n",
       "  <thead>\n",
       "    <tr style=\"text-align: right;\">\n",
       "      <th></th>\n",
       "      <th>Dates</th>\n",
       "      <th>Linear Regression Prediction</th>\n",
       "      <th>Polynonmial Regression Prediction</th>\n",
       "      <th>SVM Prediction</th>\n",
       "      <th>Holt's Linear Model Prediction</th>\n",
       "      <th>Holt's Winter Model Prediction</th>\n",
       "      <th>AR Model Prediction</th>\n",
       "      <th>MA Model Prediction</th>\n",
       "    </tr>\n",
       "  </thead>\n",
       "  <tbody>\n",
       "    <tr>\n",
       "      <th>0</th>\n",
       "      <td>2020-05-12</td>\n",
       "      <td>2798372.455947</td>\n",
       "      <td>4055337.719209</td>\n",
       "      <td>5045987.283275</td>\n",
       "      <td>4210100.753981</td>\n",
       "      <td>4254173.053406</td>\n",
       "      <td>4240438.481543</td>\n",
       "      <td>4249042.966691</td>\n",
       "    </tr>\n",
       "    <tr>\n",
       "      <th>1</th>\n",
       "      <td>2020-05-13</td>\n",
       "      <td>2831027.464966</td>\n",
       "      <td>4115829.891977</td>\n",
       "      <td>5274221.311969</td>\n",
       "      <td>4288302.147406</td>\n",
       "      <td>4345322.238890</td>\n",
       "      <td>4326056.217688</td>\n",
       "      <td>4337067.035583</td>\n",
       "    </tr>\n",
       "    <tr>\n",
       "      <th>2</th>\n",
       "      <td>2020-05-14</td>\n",
       "      <td>2863682.473986</td>\n",
       "      <td>4177165.094959</td>\n",
       "      <td>5510753.749560</td>\n",
       "      <td>4366503.540832</td>\n",
       "      <td>4438293.588034</td>\n",
       "      <td>4412451.179773</td>\n",
       "      <td>4426155.980032</td>\n",
       "    </tr>\n",
       "    <tr>\n",
       "      <th>3</th>\n",
       "      <td>2020-05-15</td>\n",
       "      <td>2896337.483005</td>\n",
       "      <td>4239814.736128</td>\n",
       "      <td>5755808.859411</td>\n",
       "      <td>4444704.934258</td>\n",
       "      <td>4533090.542488</td>\n",
       "      <td>4499625.344803</td>\n",
       "      <td>4516309.800036</td>\n",
       "    </tr>\n",
       "    <tr>\n",
       "      <th>4</th>\n",
       "      <td>2020-05-16</td>\n",
       "      <td>2928992.492024</td>\n",
       "      <td>4304301.704142</td>\n",
       "      <td>6009614.909428</td>\n",
       "      <td>4522906.327684</td>\n",
       "      <td>4629698.830262</td>\n",
       "      <td>4587578.327546</td>\n",
       "      <td>4607528.495595</td>\n",
       "    </tr>\n",
       "  </tbody>\n",
       "</table>\n",
       "</div>"
      ],
      "text/plain": [
       "       Dates  Linear Regression Prediction  Polynonmial Regression Prediction  \\\n",
       "0 2020-05-12                2798372.455947                     4055337.719209   \n",
       "1 2020-05-13                2831027.464966                     4115829.891977   \n",
       "2 2020-05-14                2863682.473986                     4177165.094959   \n",
       "3 2020-05-15                2896337.483005                     4239814.736128   \n",
       "4 2020-05-16                2928992.492024                     4304301.704142   \n",
       "\n",
       "   SVM Prediction  Holt's Linear Model Prediction  \\\n",
       "0  5045987.283275                  4210100.753981   \n",
       "1  5274221.311969                  4288302.147406   \n",
       "2  5510753.749560                  4366503.540832   \n",
       "3  5755808.859411                  4444704.934258   \n",
       "4  6009614.909428                  4522906.327684   \n",
       "\n",
       "   Holt's Winter Model Prediction  AR Model Prediction  MA Model Prediction  \n",
       "0                  4254173.053406       4240438.481543       4249042.966691  \n",
       "1                  4345322.238890       4326056.217688       4337067.035583  \n",
       "2                  4438293.588034       4412451.179773       4426155.980032  \n",
       "3                  4533090.542488       4499625.344803       4516309.800036  \n",
       "4                  4629698.830262       4587578.327546       4607528.495595  "
      ]
     },
     "execution_count": 175,
     "metadata": {},
     "output_type": "execute_result"
    }
   ],
   "source": [
    "MA_model_new_prediction=[]\n",
    "for i in range(1,18):\n",
    "    MA_model_new_prediction.append(model_ma.predict(len(valid)+i)[-1])\n",
    "model_predictions[\"MA Model Prediction\"]=MA_model_new_prediction\n",
    "model_predictions.head()"
   ]
  },
  {
   "cell_type": "code",
   "execution_count": 176,
   "metadata": {},
   "outputs": [],
   "source": [
    "# ARIMA Model (using AUTOARIMA)"
   ]
  },
  {
   "cell_type": "code",
   "execution_count": 177,
   "metadata": {},
   "outputs": [],
   "source": [
    "model_train=datewise.iloc[:int(datewise.shape[0]*0.95)]\n",
    "valid=datewise.iloc[int(datewise.shape[0]*0.95):]\n",
    "y_pred=valid.copy()"
   ]
  },
  {
   "cell_type": "code",
   "execution_count": 178,
   "metadata": {},
   "outputs": [
    {
     "name": "stdout",
     "output_type": "stream",
     "text": [
      "Fit ARIMA(0,2,0)x(0,0,0,0) [intercept=True]; AIC=2135.250, BIC=2140.519, Time=0.024 seconds\n",
      "Fit ARIMA(0,2,1)x(0,0,0,0) [intercept=True]; AIC=2130.787, BIC=2138.691, Time=0.048 seconds\n",
      "Fit ARIMA(0,2,2)x(0,0,0,0) [intercept=True]; AIC=2131.685, BIC=2142.224, Time=0.094 seconds\n",
      "Fit ARIMA(1,2,0)x(0,0,0,0) [intercept=True]; AIC=2132.981, BIC=2140.885, Time=0.030 seconds\n",
      "Fit ARIMA(1,2,1)x(0,0,0,0) [intercept=True]; AIC=2132.916, BIC=2143.455, Time=0.090 seconds\n",
      "Fit ARIMA(1,2,2)x(0,0,0,0) [intercept=True]; AIC=2132.328, BIC=2145.502, Time=0.161 seconds\n",
      "Fit ARIMA(2,2,0)x(0,0,0,0) [intercept=True]; AIC=2131.098, BIC=2141.637, Time=0.050 seconds\n",
      "Fit ARIMA(2,2,1)x(0,0,0,0) [intercept=True]; AIC=2132.309, BIC=2145.483, Time=0.170 seconds\n",
      "Fit ARIMA(2,2,2)x(0,0,0,0) [intercept=True]; AIC=2134.443, BIC=2150.252, Time=0.261 seconds\n",
      "Total fit time: 1.025 seconds\n"
     ]
    },
    {
     "data": {
      "text/plain": [
       "ARIMA(order=(0, 2, 1), suppress_warnings=True)"
      ]
     },
     "execution_count": 178,
     "metadata": {},
     "output_type": "execute_result"
    }
   ],
   "source": [
    "model_arima= auto_arima(model_train[\"Confirmed\"],\n",
    "                        trace=True, \n",
    "                        error_action='ignore', \n",
    "                        start_p=1,\n",
    "                        start_q=1,\n",
    "                        max_p=2,\n",
    "                        max_q=2,\n",
    "                        suppress_warnings=True,stepwise=False,seasonal=False)\n",
    "model_arima.fit(model_train[\"Confirmed\"])"
   ]
  },
  {
   "cell_type": "code",
   "execution_count": 179,
   "metadata": {},
   "outputs": [],
   "source": [
    "prediction_arima=model_arima.predict(len(valid))\n",
    "y_pred[\"ARIMA Model Prediction\"]=prediction_arima"
   ]
  },
  {
   "cell_type": "code",
   "execution_count": 180,
   "metadata": {},
   "outputs": [
    {
     "data": {
      "text/plain": [
       "24021.875554022754"
      ]
     },
     "execution_count": 180,
     "metadata": {},
     "output_type": "execute_result"
    }
   ],
   "source": [
    "model_scores.append(np.sqrt(mean_squared_error(valid[\"Confirmed\"],prediction_arima)))\n",
    "np.sqrt(mean_squared_error(valid[\"Confirmed\"],prediction_arima))"
   ]
  },
  {
   "cell_type": "code",
   "execution_count": 181,
   "metadata": {},
   "outputs": [
    {
     "data": {
      "text/plain": [
       "(array([737456., 737470., 737485., 737499., 737516., 737530., 737546.,\n",
       "        737560.]),\n",
       " <a list of 8 Text major ticklabel objects>)"
      ]
     },
     "execution_count": 181,
     "metadata": {},
     "output_type": "execute_result"
    },
    {
     "data": {
      "image/png": "[encoded data removed]",
      "text/plain": [
       "<Figure size 720x360 with 1 Axes>"
      ]
     },
     "metadata": {
      "needs_background": "light"
     },
     "output_type": "display_data"
    }
   ],
   "source": [
    "plt.figure(figsize=(10,5))\n",
    "plt.plot(model_train.index,model_train[\"Confirmed\"],label=\"Train Set\",linewidth=3)\n",
    "plt.plot(valid.index,valid[\"Confirmed\"],label=\"Validation Set\",linewidth=3)\n",
    "plt.plot(y_pred[\"ARIMA Model Prediction\"],label=\"ARIMA Model Prediction Set\",linewidth=3)\n",
    "plt.legend()\n",
    "plt.xlabel(\"Date Time\")\n",
    "plt.ylabel('Confirmed Cases')\n",
    "plt.title(\"Confirmed Cases ARIMA Model Forecasting\")\n",
    "plt.xticks(rotation=90)"
   ]
  },
  {
   "cell_type": "code",
   "execution_count": 182,
   "metadata": {},
   "outputs": [
    {
     "data": {
      "text/html": [
       "<div>\n",
       "<style scoped>\n",
       "    .dataframe tbody tr th:only-of-type {\n",
       "        vertical-align: middle;\n",
       "    }\n",
       "\n",
       "    .dataframe tbody tr th {\n",
       "        vertical-align: top;\n",
       "    }\n",
       "\n",
       "    .dataframe thead th {\n",
       "        text-align: right;\n",
       "    }\n",
       "</style>\n",
       "<table border=\"1\" class=\"dataframe\">\n",
       "  <thead>\n",
       "    <tr style=\"text-align: right;\">\n",
       "      <th></th>\n",
       "      <th>Dates</th>\n",
       "      <th>Linear Regression Prediction</th>\n",
       "      <th>Polynonmial Regression Prediction</th>\n",
       "      <th>SVM Prediction</th>\n",
       "      <th>Holt's Linear Model Prediction</th>\n",
       "      <th>Holt's Winter Model Prediction</th>\n",
       "      <th>AR Model Prediction</th>\n",
       "      <th>MA Model Prediction</th>\n",
       "      <th>ARIMA Model Prediction</th>\n",
       "    </tr>\n",
       "  </thead>\n",
       "  <tbody>\n",
       "    <tr>\n",
       "      <th>0</th>\n",
       "      <td>2020-05-12</td>\n",
       "      <td>2798372.455947</td>\n",
       "      <td>4055337.719209</td>\n",
       "      <td>5045987.283275</td>\n",
       "      <td>4210100.753981</td>\n",
       "      <td>4254173.053406</td>\n",
       "      <td>4240438.481543</td>\n",
       "      <td>4249042.966691</td>\n",
       "      <td>4249042.966691</td>\n",
       "    </tr>\n",
       "    <tr>\n",
       "      <th>1</th>\n",
       "      <td>2020-05-13</td>\n",
       "      <td>2831027.464966</td>\n",
       "      <td>4115829.891977</td>\n",
       "      <td>5274221.311969</td>\n",
       "      <td>4288302.147406</td>\n",
       "      <td>4345322.238890</td>\n",
       "      <td>4326056.217688</td>\n",
       "      <td>4337067.035583</td>\n",
       "      <td>4337067.035583</td>\n",
       "    </tr>\n",
       "    <tr>\n",
       "      <th>2</th>\n",
       "      <td>2020-05-14</td>\n",
       "      <td>2863682.473986</td>\n",
       "      <td>4177165.094959</td>\n",
       "      <td>5510753.749560</td>\n",
       "      <td>4366503.540832</td>\n",
       "      <td>4438293.588034</td>\n",
       "      <td>4412451.179773</td>\n",
       "      <td>4426155.980032</td>\n",
       "      <td>4426155.980032</td>\n",
       "    </tr>\n",
       "    <tr>\n",
       "      <th>3</th>\n",
       "      <td>2020-05-15</td>\n",
       "      <td>2896337.483005</td>\n",
       "      <td>4239814.736128</td>\n",
       "      <td>5755808.859411</td>\n",
       "      <td>4444704.934258</td>\n",
       "      <td>4533090.542488</td>\n",
       "      <td>4499625.344803</td>\n",
       "      <td>4516309.800036</td>\n",
       "      <td>4516309.800036</td>\n",
       "    </tr>\n",
       "    <tr>\n",
       "      <th>4</th>\n",
       "      <td>2020-05-16</td>\n",
       "      <td>2928992.492024</td>\n",
       "      <td>4304301.704142</td>\n",
       "      <td>6009614.909428</td>\n",
       "      <td>4522906.327684</td>\n",
       "      <td>4629698.830262</td>\n",
       "      <td>4587578.327546</td>\n",
       "      <td>4607528.495595</td>\n",
       "      <td>4607528.495595</td>\n",
       "    </tr>\n",
       "  </tbody>\n",
       "</table>\n",
       "</div>"
      ],
      "text/plain": [
       "       Dates  Linear Regression Prediction  Polynonmial Regression Prediction  \\\n",
       "0 2020-05-12                2798372.455947                     4055337.719209   \n",
       "1 2020-05-13                2831027.464966                     4115829.891977   \n",
       "2 2020-05-14                2863682.473986                     4177165.094959   \n",
       "3 2020-05-15                2896337.483005                     4239814.736128   \n",
       "4 2020-05-16                2928992.492024                     4304301.704142   \n",
       "\n",
       "   SVM Prediction  Holt's Linear Model Prediction  \\\n",
       "0  5045987.283275                  4210100.753981   \n",
       "1  5274221.311969                  4288302.147406   \n",
       "2  5510753.749560                  4366503.540832   \n",
       "3  5755808.859411                  4444704.934258   \n",
       "4  6009614.909428                  4522906.327684   \n",
       "\n",
       "   Holt's Winter Model Prediction  AR Model Prediction  MA Model Prediction  \\\n",
       "0                  4254173.053406       4240438.481543       4249042.966691   \n",
       "1                  4345322.238890       4326056.217688       4337067.035583   \n",
       "2                  4438293.588034       4412451.179773       4426155.980032   \n",
       "3                  4533090.542488       4499625.344803       4516309.800036   \n",
       "4                  4629698.830262       4587578.327546       4607528.495595   \n",
       "\n",
       "   ARIMA Model Prediction  \n",
       "0          4249042.966691  \n",
       "1          4337067.035583  \n",
       "2          4426155.980032  \n",
       "3          4516309.800036  \n",
       "4          4607528.495595  "
      ]
     },
     "execution_count": 182,
     "metadata": {},
     "output_type": "execute_result"
    }
   ],
   "source": [
    "ARIMA_model_new_prediction=[]\n",
    "for i in range(1,18):\n",
    "    ARIMA_model_new_prediction.append(model_arima.predict(len(valid)+i)[-1])\n",
    "model_predictions[\"ARIMA Model Prediction\"]=ARIMA_model_new_prediction\n",
    "model_predictions.head()"
   ]
  },
  {
   "cell_type": "code",
   "execution_count": 183,
   "metadata": {},
   "outputs": [],
   "source": [
    "## SARIMA Model (using AUTO ARIMA)\n"
   ]
  },
  {
   "cell_type": "code",
   "execution_count": 184,
   "metadata": {},
   "outputs": [
    {
     "name": "stdout",
     "output_type": "stream",
     "text": [
      "Performing stepwise search to minimize aic\n",
      "Fit ARIMA(0,2,0)x(1,0,1,24) [intercept=True]; AIC=2138.199, BIC=2148.738, Time=0.606 seconds\n",
      "Fit ARIMA(0,2,0)x(0,0,0,24) [intercept=True]; AIC=2135.250, BIC=2140.519, Time=0.013 seconds\n",
      "Fit ARIMA(1,2,0)x(1,0,0,24) [intercept=True]; AIC=2134.838, BIC=2145.377, Time=0.473 seconds\n",
      "Fit ARIMA(0,2,1)x(0,0,1,24) [intercept=True]; AIC=2132.769, BIC=2143.308, Time=0.543 seconds\n",
      "Fit ARIMA(0,2,0)x(0,0,0,24) [intercept=False]; AIC=2134.346, BIC=2136.980, Time=0.031 seconds\n",
      "Fit ARIMA(0,2,1)x(0,0,0,24) [intercept=True]; AIC=2130.787, BIC=2138.691, Time=0.065 seconds\n",
      "Fit ARIMA(0,2,1)x(1,0,0,24) [intercept=True]; AIC=2132.703, BIC=2143.242, Time=0.339 seconds\n",
      "Fit ARIMA(0,2,1)x(1,0,1,24) [intercept=True]; AIC=2134.402, BIC=2147.575, Time=1.465 seconds\n",
      "Fit ARIMA(1,2,1)x(0,0,0,24) [intercept=True]; AIC=2132.916, BIC=2143.455, Time=0.101 seconds\n",
      "Fit ARIMA(0,2,2)x(0,0,0,24) [intercept=True]; AIC=2131.685, BIC=2142.224, Time=0.110 seconds\n",
      "Fit ARIMA(1,2,0)x(0,0,0,24) [intercept=True]; AIC=2132.981, BIC=2140.885, Time=0.053 seconds\n",
      "Fit ARIMA(1,2,2)x(0,0,0,24) [intercept=True]; AIC=2132.328, BIC=2145.502, Time=0.208 seconds\n",
      "Total fit time: 4.092 seconds\n"
     ]
    },
    {
     "data": {
      "text/plain": [
       "ARIMA(order=(0, 2, 1), seasonal_order=(0, 0, 0, 24), suppress_warnings=True)"
      ]
     },
     "execution_count": 184,
     "metadata": {},
     "output_type": "execute_result"
    }
   ],
   "source": [
    "model_sarima= auto_arima(model_train[\"Confirmed\"],trace=True, error_action='ignore', \n",
    "                         start_p=0,start_q=0,max_p=3,max_q=3,m=24,\n",
    "                   suppress_warnings=True,stepwise=True,seasonal=True)\n",
    "model_sarima.fit(model_train[\"Confirmed\"])"
   ]
  },
  {
   "cell_type": "code",
   "execution_count": 185,
   "metadata": {},
   "outputs": [],
   "source": [
    "prediction_sarima=model_sarima.predict(len(valid))\n",
    "y_pred[\"SARIMA Model Prediction\"]=prediction_sarima"
   ]
  },
  {
   "cell_type": "code",
   "execution_count": 186,
   "metadata": {},
   "outputs": [
    {
     "data": {
      "text/plain": [
       "24021.875554022754"
      ]
     },
     "execution_count": 186,
     "metadata": {},
     "output_type": "execute_result"
    }
   ],
   "source": [
    "model_scores.append(np.sqrt(mean_squared_error(y_pred[\"Confirmed\"],y_pred[\"SARIMA Model Prediction\"])))\n",
    "np.sqrt(mean_squared_error(y_pred[\"Confirmed\"],y_pred[\"SARIMA Model Prediction\"]))"
   ]
  },
  {
   "cell_type": "code",
   "execution_count": 187,
   "metadata": {},
   "outputs": [
    {
     "data": {
      "text/plain": [
       "(array([737456., 737470., 737485., 737499., 737516., 737530., 737546.,\n",
       "        737560.]),\n",
       " <a list of 8 Text major ticklabel objects>)"
      ]
     },
     "execution_count": 187,
     "metadata": {},
     "output_type": "execute_result"
    },
    {
     "data": {
      "image/png": "[encoded data removed]",
      "text/plain": [
       "<Figure size 720x360 with 1 Axes>"
      ]
     },
     "metadata": {
      "needs_background": "light"
     },
     "output_type": "display_data"
    }
   ],
   "source": [
    "plt.figure(figsize=(10,5))\n",
    "plt.plot(model_train.index,model_train[\"Confirmed\"],label=\"Train Set\",linewidth=3)\n",
    "plt.plot(valid.index,valid[\"Confirmed\"],label=\"Validation Set\",linewidth=3)\n",
    "plt.plot(y_pred[\"SARIMA Model Prediction\"],label=\"SARIMA Model Prediction Set\",linewidth=3)\n",
    "plt.legend()\n",
    "plt.xlabel(\"Date Time\")\n",
    "plt.ylabel('Confirmed Cases')\n",
    "plt.title(\"Confirmed Cases SARIMA Model Forecasting\")\n",
    "plt.xticks(rotation=90)"
   ]
  },
  {
   "cell_type": "code",
   "execution_count": 188,
   "metadata": {},
   "outputs": [
    {
     "data": {
      "text/html": [
       "<div>\n",
       "<style scoped>\n",
       "    .dataframe tbody tr th:only-of-type {\n",
       "        vertical-align: middle;\n",
       "    }\n",
       "\n",
       "    .dataframe tbody tr th {\n",
       "        vertical-align: top;\n",
       "    }\n",
       "\n",
       "    .dataframe thead th {\n",
       "        text-align: right;\n",
       "    }\n",
       "</style>\n",
       "<table border=\"1\" class=\"dataframe\">\n",
       "  <thead>\n",
       "    <tr style=\"text-align: right;\">\n",
       "      <th></th>\n",
       "      <th>Dates</th>\n",
       "      <th>Linear Regression Prediction</th>\n",
       "      <th>Polynonmial Regression Prediction</th>\n",
       "      <th>SVM Prediction</th>\n",
       "      <th>Holt's Linear Model Prediction</th>\n",
       "      <th>Holt's Winter Model Prediction</th>\n",
       "      <th>AR Model Prediction</th>\n",
       "      <th>MA Model Prediction</th>\n",
       "      <th>ARIMA Model Prediction</th>\n",
       "      <th>SARIMA Model Prediction</th>\n",
       "    </tr>\n",
       "  </thead>\n",
       "  <tbody>\n",
       "    <tr>\n",
       "      <th>0</th>\n",
       "      <td>2020-05-12</td>\n",
       "      <td>2798372.455947</td>\n",
       "      <td>4055337.719209</td>\n",
       "      <td>5045987.283275</td>\n",
       "      <td>4210100.753981</td>\n",
       "      <td>4254173.053406</td>\n",
       "      <td>4240438.481543</td>\n",
       "      <td>4249042.966691</td>\n",
       "      <td>4249042.966691</td>\n",
       "      <td>4249042.966691</td>\n",
       "    </tr>\n",
       "    <tr>\n",
       "      <th>1</th>\n",
       "      <td>2020-05-13</td>\n",
       "      <td>2831027.464966</td>\n",
       "      <td>4115829.891977</td>\n",
       "      <td>5274221.311969</td>\n",
       "      <td>4288302.147406</td>\n",
       "      <td>4345322.238890</td>\n",
       "      <td>4326056.217688</td>\n",
       "      <td>4337067.035583</td>\n",
       "      <td>4337067.035583</td>\n",
       "      <td>4337067.035583</td>\n",
       "    </tr>\n",
       "    <tr>\n",
       "      <th>2</th>\n",
       "      <td>2020-05-14</td>\n",
       "      <td>2863682.473986</td>\n",
       "      <td>4177165.094959</td>\n",
       "      <td>5510753.749560</td>\n",
       "      <td>4366503.540832</td>\n",
       "      <td>4438293.588034</td>\n",
       "      <td>4412451.179773</td>\n",
       "      <td>4426155.980032</td>\n",
       "      <td>4426155.980032</td>\n",
       "      <td>4426155.980032</td>\n",
       "    </tr>\n",
       "    <tr>\n",
       "      <th>3</th>\n",
       "      <td>2020-05-15</td>\n",
       "      <td>2896337.483005</td>\n",
       "      <td>4239814.736128</td>\n",
       "      <td>5755808.859411</td>\n",
       "      <td>4444704.934258</td>\n",
       "      <td>4533090.542488</td>\n",
       "      <td>4499625.344803</td>\n",
       "      <td>4516309.800036</td>\n",
       "      <td>4516309.800036</td>\n",
       "      <td>4516309.800036</td>\n",
       "    </tr>\n",
       "    <tr>\n",
       "      <th>4</th>\n",
       "      <td>2020-05-16</td>\n",
       "      <td>2928992.492024</td>\n",
       "      <td>4304301.704142</td>\n",
       "      <td>6009614.909428</td>\n",
       "      <td>4522906.327684</td>\n",
       "      <td>4629698.830262</td>\n",
       "      <td>4587578.327546</td>\n",
       "      <td>4607528.495595</td>\n",
       "      <td>4607528.495595</td>\n",
       "      <td>4607528.495595</td>\n",
       "    </tr>\n",
       "  </tbody>\n",
       "</table>\n",
       "</div>"
      ],
      "text/plain": [
       "       Dates  Linear Regression Prediction  Polynonmial Regression Prediction  \\\n",
       "0 2020-05-12                2798372.455947                     4055337.719209   \n",
       "1 2020-05-13                2831027.464966                     4115829.891977   \n",
       "2 2020-05-14                2863682.473986                     4177165.094959   \n",
       "3 2020-05-15                2896337.483005                     4239814.736128   \n",
       "4 2020-05-16                2928992.492024                     4304301.704142   \n",
       "\n",
       "   SVM Prediction  Holt's Linear Model Prediction  \\\n",
       "0  5045987.283275                  4210100.753981   \n",
       "1  5274221.311969                  4288302.147406   \n",
       "2  5510753.749560                  4366503.540832   \n",
       "3  5755808.859411                  4444704.934258   \n",
       "4  6009614.909428                  4522906.327684   \n",
       "\n",
       "   Holt's Winter Model Prediction  AR Model Prediction  MA Model Prediction  \\\n",
       "0                  4254173.053406       4240438.481543       4249042.966691   \n",
       "1                  4345322.238890       4326056.217688       4337067.035583   \n",
       "2                  4438293.588034       4412451.179773       4426155.980032   \n",
       "3                  4533090.542488       4499625.344803       4516309.800036   \n",
       "4                  4629698.830262       4587578.327546       4607528.495595   \n",
       "\n",
       "   ARIMA Model Prediction  SARIMA Model Prediction  \n",
       "0          4249042.966691           4249042.966691  \n",
       "1          4337067.035583           4337067.035583  \n",
       "2          4426155.980032           4426155.980032  \n",
       "3          4516309.800036           4516309.800036  \n",
       "4          4607528.495595           4607528.495595  "
      ]
     },
     "execution_count": 188,
     "metadata": {},
     "output_type": "execute_result"
    }
   ],
   "source": [
    "SARIMA_model_new_prediction=[]\n",
    "for i in range(1,18):\n",
    "    SARIMA_model_new_prediction.append(model_sarima.predict(len(valid)+i)[-1])\n",
    "model_predictions[\"SARIMA Model Prediction\"]=SARIMA_model_new_prediction\n",
    "model_predictions.head()"
   ]
  }
 ],
 "metadata": {
  "kernelspec": {
   "display_name": "ds_env",
   "language": "python",
   "name": "ds_env"
  },
  "language_info": {
   "codemirror_mode": {
    "name": "ipython",
    "version": 3
   },
   "file_extension": ".py",
   "mimetype": "text/x-python",
   "name": "python",
   "nbconvert_exporter": "python",
   "pygments_lexer": "ipython3",
   "version": "3.7.4"
  }
 },
 "nbformat": 4,
 "nbformat_minor": 2
}
